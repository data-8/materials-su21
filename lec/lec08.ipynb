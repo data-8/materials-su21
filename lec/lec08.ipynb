{
 "cells": [
  {
   "cell_type": "code",
   "execution_count": 2,
   "id": "5d96e5fe",
   "metadata": {},
   "outputs": [],
   "source": [
    "from datascience import *\n",
    "import numpy as np\n",
    "\n",
    "import matplotlib.pyplot as plots\n",
    "%matplotlib inline\n",
    "plots.style.use('fivethirtyeight')"
   ]
  },
  {
   "cell_type": "code",
   "execution_count": 3,
   "id": "0487b6ca",
   "metadata": {},
   "outputs": [
    {
     "data": {
      "text/html": [
       "<table border=\"1\" class=\"dataframe\">\n",
       "    <thead>\n",
       "        <tr>\n",
       "            <th>Currency</th> <th>Date</th> <th>Closing Price (USD)</th> <th>24h Open (USD)</th> <th>24h High (USD)</th> <th>24h Low (USD)</th> <th>Day</th>\n",
       "        </tr>\n",
       "    </thead>\n",
       "    <tbody>\n",
       "        <tr>\n",
       "            <td>BTC     </td> <td>2020-06-28</td> <td>9101.85            </td> <td>9022.01       </td> <td>9190.12       </td> <td>8949.76      </td> <td>0   </td>\n",
       "        </tr>\n",
       "        <tr>\n",
       "            <td>BTC     </td> <td>2020-06-29</td> <td>9188.06            </td> <td>9101.88       </td> <td>9233.53       </td> <td>9032.44      </td> <td>1   </td>\n",
       "        </tr>\n",
       "        <tr>\n",
       "            <td>BTC     </td> <td>2020-06-30</td> <td>9148.44            </td> <td>9188.04       </td> <td>9201.65       </td> <td>9067.19      </td> <td>2   </td>\n",
       "        </tr>\n",
       "    </tbody>\n",
       "</table>\n",
       "<p>... (2633 rows omitted)</p>"
      ],
      "text/plain": [
       "<IPython.core.display.HTML object>"
      ]
     },
     "metadata": {},
     "output_type": "display_data"
    },
    {
     "data": {
      "text/html": [
       "<table border=\"1\" class=\"dataframe\">\n",
       "    <thead>\n",
       "        <tr>\n",
       "            <th>Name</th> <th>Symbol</th> <th>Market Cap</th> <th>Stable Coin</th>\n",
       "        </tr>\n",
       "    </thead>\n",
       "    <tbody>\n",
       "        <tr>\n",
       "            <td>Bitcoin     </td> <td>BTC   </td> <td>648.83    </td> <td>No         </td>\n",
       "        </tr>\n",
       "        <tr>\n",
       "            <td>Ethereum    </td> <td>ETH   </td> <td>231.17    </td> <td>No         </td>\n",
       "        </tr>\n",
       "        <tr>\n",
       "            <td>Tether      </td> <td>USDT  </td> <td>62.25     </td> <td>Yes        </td>\n",
       "        </tr>\n",
       "        <tr>\n",
       "            <td>Binance Coin</td> <td>BNB   </td> <td>44.23     </td> <td>No         </td>\n",
       "        </tr>\n",
       "        <tr>\n",
       "            <td>Cardano     </td> <td>ADA   </td> <td>44.22     </td> <td>No         </td>\n",
       "        </tr>\n",
       "        <tr>\n",
       "            <td>Dogecoin    </td> <td>DOGE  </td> <td>33.47     </td> <td>No         </td>\n",
       "        </tr>\n",
       "        <tr>\n",
       "            <td>XRP         </td> <td>XRP   </td> <td>29.74     </td> <td>No         </td>\n",
       "        </tr>\n",
       "        <tr>\n",
       "            <td>USD Coin    </td> <td>USDC  </td> <td>25.94     </td> <td>Yes        </td>\n",
       "        </tr>\n",
       "        <tr>\n",
       "            <td>Polkadot    </td> <td>DOT   </td> <td>14.31     </td> <td>No         </td>\n",
       "        </tr>\n",
       "        <tr>\n",
       "            <td>Binance USD </td> <td>BUSD  </td> <td>10.01     </td> <td>No         </td>\n",
       "        </tr>\n",
       "    </tbody>\n",
       "</table>"
      ],
      "text/plain": [
       "<IPython.core.display.HTML object>"
      ]
     },
     "metadata": {},
     "output_type": "display_data"
    }
   ],
   "source": [
    "all_coins = Table.read_table(\"prices.csv\")\n",
    "market_caps = Table.read_table(\"market_caps.csv\")\n",
    "all_coins.show(3)\n",
    "market_caps.show(10)"
   ]
  },
  {
   "cell_type": "markdown",
   "id": "a525b0f8",
   "metadata": {},
   "source": [
    "# Categorical Distributions"
   ]
  },
  {
   "cell_type": "markdown",
   "id": "7a9d4cf1",
   "metadata": {},
   "source": [
    "### tbl.group(column)"
   ]
  },
  {
   "cell_type": "code",
   "execution_count": 4,
   "id": "7cea0647",
   "metadata": {},
   "outputs": [
    {
     "data": {
      "text/html": [
       "<table border=\"1\" class=\"dataframe\">\n",
       "    <thead>\n",
       "        <tr>\n",
       "            <th>Name</th> <th>Symbol</th> <th>Market Cap</th> <th>Stable Coin</th>\n",
       "        </tr>\n",
       "    </thead>\n",
       "    <tbody>\n",
       "        <tr>\n",
       "            <td>Bitcoin     </td> <td>BTC   </td> <td>648.83    </td> <td>No         </td>\n",
       "        </tr>\n",
       "        <tr>\n",
       "            <td>Ethereum    </td> <td>ETH   </td> <td>231.17    </td> <td>No         </td>\n",
       "        </tr>\n",
       "        <tr>\n",
       "            <td>Tether      </td> <td>USDT  </td> <td>62.25     </td> <td>Yes        </td>\n",
       "        </tr>\n",
       "        <tr>\n",
       "            <td>Binance Coin</td> <td>BNB   </td> <td>44.23     </td> <td>No         </td>\n",
       "        </tr>\n",
       "        <tr>\n",
       "            <td>Cardano     </td> <td>ADA   </td> <td>44.22     </td> <td>No         </td>\n",
       "        </tr>\n",
       "        <tr>\n",
       "            <td>Dogecoin    </td> <td>DOGE  </td> <td>33.47     </td> <td>No         </td>\n",
       "        </tr>\n",
       "        <tr>\n",
       "            <td>XRP         </td> <td>XRP   </td> <td>29.74     </td> <td>No         </td>\n",
       "        </tr>\n",
       "        <tr>\n",
       "            <td>USD Coin    </td> <td>USDC  </td> <td>25.94     </td> <td>Yes        </td>\n",
       "        </tr>\n",
       "        <tr>\n",
       "            <td>Polkadot    </td> <td>DOT   </td> <td>14.31     </td> <td>No         </td>\n",
       "        </tr>\n",
       "        <tr>\n",
       "            <td>Binance USD </td> <td>BUSD  </td> <td>10.01     </td> <td>No         </td>\n",
       "        </tr>\n",
       "    </tbody>\n",
       "</table>"
      ],
      "text/plain": [
       "Name         | Symbol | Market Cap | Stable Coin\n",
       "Bitcoin      | BTC    | 648.83     | No\n",
       "Ethereum     | ETH    | 231.17     | No\n",
       "Tether       | USDT   | 62.25      | Yes\n",
       "Binance Coin | BNB    | 44.23      | No\n",
       "Cardano      | ADA    | 44.22      | No\n",
       "Dogecoin     | DOGE   | 33.47      | No\n",
       "XRP          | XRP    | 29.74      | No\n",
       "USD Coin     | USDC   | 25.94      | Yes\n",
       "Polkadot     | DOT    | 14.31      | No\n",
       "Binance USD  | BUSD   | 10.01      | No"
      ]
     },
     "execution_count": 4,
     "metadata": {},
     "output_type": "execute_result"
    }
   ],
   "source": [
    "market_caps"
   ]
  },
  {
   "cell_type": "code",
   "execution_count": 5,
   "id": "57f7b49b",
   "metadata": {},
   "outputs": [
    {
     "data": {
      "text/html": [
       "<table border=\"1\" class=\"dataframe\">\n",
       "    <thead>\n",
       "        <tr>\n",
       "            <th>Stable Coin</th> <th>count</th>\n",
       "        </tr>\n",
       "    </thead>\n",
       "    <tbody>\n",
       "        <tr>\n",
       "            <td>No         </td> <td>8    </td>\n",
       "        </tr>\n",
       "        <tr>\n",
       "            <td>Yes        </td> <td>2    </td>\n",
       "        </tr>\n",
       "    </tbody>\n",
       "</table>"
      ],
      "text/plain": [
       "Stable Coin | count\n",
       "No          | 8\n",
       "Yes         | 2"
      ]
     },
     "execution_count": 5,
     "metadata": {},
     "output_type": "execute_result"
    }
   ],
   "source": [
    "market_caps.group(\"Stable Coin\")"
   ]
  },
  {
   "cell_type": "code",
   "execution_count": 6,
   "id": "ac9600c6",
   "metadata": {},
   "outputs": [
    {
     "data": {
      "image/png": "[encoded data removed]",
      "text/plain": [
       "<Figure size 432x288 with 1 Axes>"
      ]
     },
     "metadata": {},
     "output_type": "display_data"
    }
   ],
   "source": [
    "market_caps.group(\"Stable Coin\").barh(\"Stable Coin\", \"count\")"
   ]
  },
  {
   "cell_type": "code",
   "execution_count": 7,
   "id": "25b0212d",
   "metadata": {},
   "outputs": [],
   "source": [
    "## Questions?\n",
    "## Back to slides"
   ]
  },
  {
   "cell_type": "markdown",
   "id": "4849d00b",
   "metadata": {},
   "source": [
    "# Numerical Distributions"
   ]
  },
  {
   "cell_type": "code",
   "execution_count": 8,
   "id": "a42442e8",
   "metadata": {},
   "outputs": [
    {
     "data": {
      "text/html": [
       "<table border=\"1\" class=\"dataframe\">\n",
       "    <thead>\n",
       "        <tr>\n",
       "            <th>Closing Price (USD)</th>\n",
       "        </tr>\n",
       "    </thead>\n",
       "    <tbody>\n",
       "        <tr>\n",
       "            <td>9101.85            </td>\n",
       "        </tr>\n",
       "        <tr>\n",
       "            <td>9188.06            </td>\n",
       "        </tr>\n",
       "        <tr>\n",
       "            <td>9148.44            </td>\n",
       "        </tr>\n",
       "        <tr>\n",
       "            <td>9236.32            </td>\n",
       "        </tr>\n",
       "        <tr>\n",
       "            <td>9097.8             </td>\n",
       "        </tr>\n",
       "    </tbody>\n",
       "</table>\n",
       "<p>... (360 rows omitted)</p>"
      ],
      "text/plain": [
       "<IPython.core.display.HTML object>"
      ]
     },
     "metadata": {},
     "output_type": "display_data"
    }
   ],
   "source": [
    "btc_close = all_coins.where(\"Currency\", \"BTC\").select(\"Closing Price (USD)\")\n",
    "btc_close.show(5)"
   ]
  },
  {
   "cell_type": "code",
   "execution_count": 9,
   "id": "6641599f",
   "metadata": {},
   "outputs": [],
   "source": [
    "## Range of the data?"
   ]
  },
  {
   "cell_type": "code",
   "execution_count": 10,
   "id": "47e0a149",
   "metadata": {},
   "outputs": [
    {
     "data": {
      "text/plain": [
       "(9055.4644825162, 63346.7890351052)"
      ]
     },
     "execution_count": 10,
     "metadata": {},
     "output_type": "execute_result"
    }
   ],
   "source": [
    "min(btc_close.column(0)), max(btc_close.column(0))"
   ]
  },
  {
   "cell_type": "markdown",
   "id": "203e0795",
   "metadata": {},
   "source": [
    "### tbl.bin(\"Numerical Values\", bins=arr)"
   ]
  },
  {
   "cell_type": "code",
   "execution_count": 11,
   "id": "b2033acc",
   "metadata": {},
   "outputs": [
    {
     "data": {
      "text/html": [
       "<table border=\"1\" class=\"dataframe\">\n",
       "    <thead>\n",
       "        <tr>\n",
       "            <th>bin</th> <th>Closing Price (USD) count</th>\n",
       "        </tr>\n",
       "    </thead>\n",
       "    <tbody>\n",
       "        <tr>\n",
       "            <td>9055.46</td> <td>130                      </td>\n",
       "        </tr>\n",
       "        <tr>\n",
       "            <td>14484.6</td> <td>41                       </td>\n",
       "        </tr>\n",
       "        <tr>\n",
       "            <td>19913.7</td> <td>10                       </td>\n",
       "        </tr>\n",
       "        <tr>\n",
       "            <td>25342.9</td> <td>9                        </td>\n",
       "        </tr>\n",
       "        <tr>\n",
       "            <td>30772  </td> <td>38                       </td>\n",
       "        </tr>\n",
       "        <tr>\n",
       "            <td>36201.1</td> <td>37                       </td>\n",
       "        </tr>\n",
       "        <tr>\n",
       "            <td>41630.3</td> <td>10                       </td>\n",
       "        </tr>\n",
       "        <tr>\n",
       "            <td>47059.4</td> <td>27                       </td>\n",
       "        </tr>\n",
       "        <tr>\n",
       "            <td>52488.5</td> <td>39                       </td>\n",
       "        </tr>\n",
       "        <tr>\n",
       "            <td>57917.7</td> <td>24                       </td>\n",
       "        </tr>\n",
       "        <tr>\n",
       "            <td>63346.8</td> <td>0                        </td>\n",
       "        </tr>\n",
       "    </tbody>\n",
       "</table>"
      ],
      "text/plain": [
       "<IPython.core.display.HTML object>"
      ]
     },
     "metadata": {},
     "output_type": "display_data"
    }
   ],
   "source": [
    "btc_close.bin(\"Closing Price (USD)\").show()"
   ]
  },
  {
   "cell_type": "code",
   "execution_count": 12,
   "id": "ec64e056",
   "metadata": {},
   "outputs": [],
   "source": [
    "uniform_bins = np.arange(0, 70001, 10000)"
   ]
  },
  {
   "cell_type": "code",
   "execution_count": 13,
   "id": "524e7e31",
   "metadata": {},
   "outputs": [
    {
     "data": {
      "text/html": [
       "<table border=\"1\" class=\"dataframe\">\n",
       "    <thead>\n",
       "        <tr>\n",
       "            <th>bin</th> <th>Closing Price (USD) count</th>\n",
       "        </tr>\n",
       "    </thead>\n",
       "    <tbody>\n",
       "        <tr>\n",
       "            <td>0    </td> <td>29                       </td>\n",
       "        </tr>\n",
       "        <tr>\n",
       "            <td>10000</td> <td>142                      </td>\n",
       "        </tr>\n",
       "        <tr>\n",
       "            <td>20000</td> <td>17                       </td>\n",
       "        </tr>\n",
       "        <tr>\n",
       "            <td>30000</td> <td>72                       </td>\n",
       "        </tr>\n",
       "        <tr>\n",
       "            <td>40000</td> <td>31                       </td>\n",
       "        </tr>\n",
       "        <tr>\n",
       "            <td>50000</td> <td>67                       </td>\n",
       "        </tr>\n",
       "        <tr>\n",
       "            <td>60000</td> <td>7                        </td>\n",
       "        </tr>\n",
       "        <tr>\n",
       "            <td>70000</td> <td>0                        </td>\n",
       "        </tr>\n",
       "    </tbody>\n",
       "</table>"
      ],
      "text/plain": [
       "bin   | Closing Price (USD) count\n",
       "0     | 29\n",
       "10000 | 142\n",
       "20000 | 17\n",
       "30000 | 72\n",
       "40000 | 31\n",
       "50000 | 67\n",
       "60000 | 7\n",
       "70000 | 0"
      ]
     },
     "execution_count": 13,
     "metadata": {},
     "output_type": "execute_result"
    }
   ],
   "source": [
    "binned = btc_close.bin(\"Closing Price (USD)\", bins=uniform_bins)\n",
    "binned"
   ]
  },
  {
   "cell_type": "code",
   "execution_count": 14,
   "id": "47dba8e5",
   "metadata": {},
   "outputs": [
    {
     "data": {
      "text/plain": [
       "365"
      ]
     },
     "execution_count": 14,
     "metadata": {},
     "output_type": "execute_result"
    }
   ],
   "source": [
    "sum(binned.column(1))"
   ]
  },
  {
   "cell_type": "code",
   "execution_count": 15,
   "id": "d1433617",
   "metadata": {},
   "outputs": [
    {
     "data": {
      "text/html": [
       "<table border=\"1\" class=\"dataframe\">\n",
       "    <thead>\n",
       "        <tr>\n",
       "            <th>bin</th> <th>Closing Price (USD) count</th>\n",
       "        </tr>\n",
       "    </thead>\n",
       "    <tbody>\n",
       "        <tr>\n",
       "            <td>0    </td> <td>219                      </td>\n",
       "        </tr>\n",
       "        <tr>\n",
       "            <td>35000</td> <td>72                       </td>\n",
       "        </tr>\n",
       "        <tr>\n",
       "            <td>50000</td> <td>74                       </td>\n",
       "        </tr>\n",
       "        <tr>\n",
       "            <td>67000</td> <td>0                        </td>\n",
       "        </tr>\n",
       "    </tbody>\n",
       "</table>"
      ],
      "text/plain": [
       "bin   | Closing Price (USD) count\n",
       "0     | 219\n",
       "35000 | 72\n",
       "50000 | 74\n",
       "67000 | 0"
      ]
     },
     "execution_count": 15,
     "metadata": {},
     "output_type": "execute_result"
    }
   ],
   "source": [
    "non_uniform_bins = make_array(0, 35000, 50000, 67000)\n",
    "btc_close.bin(\"Closing Price (USD)\", bins=non_uniform_bins)"
   ]
  },
  {
   "cell_type": "code",
   "execution_count": 16,
   "id": "c5748ff2",
   "metadata": {},
   "outputs": [
    {
     "data": {
      "text/html": [
       "<table border=\"1\" class=\"dataframe\">\n",
       "    <thead>\n",
       "        <tr>\n",
       "            <th>bin</th> <th>Closing Price (USD) count</th>\n",
       "        </tr>\n",
       "    </thead>\n",
       "    <tbody>\n",
       "        <tr>\n",
       "            <td>0    </td> <td>0                        </td>\n",
       "        </tr>\n",
       "        <tr>\n",
       "            <td>5000 </td> <td>29                       </td>\n",
       "        </tr>\n",
       "        <tr>\n",
       "            <td>10000</td> <td>102                      </td>\n",
       "        </tr>\n",
       "        <tr>\n",
       "            <td>15000</td> <td>40                       </td>\n",
       "        </tr>\n",
       "        <tr>\n",
       "            <td>20000</td> <td>10                       </td>\n",
       "        </tr>\n",
       "        <tr>\n",
       "            <td>25000</td> <td>7                        </td>\n",
       "        </tr>\n",
       "        <tr>\n",
       "            <td>30000</td> <td>31                       </td>\n",
       "        </tr>\n",
       "        <tr>\n",
       "            <td>35000</td> <td>41                       </td>\n",
       "        </tr>\n",
       "        <tr>\n",
       "            <td>40000</td> <td>8                        </td>\n",
       "        </tr>\n",
       "        <tr>\n",
       "            <td>45000</td> <td>0                        </td>\n",
       "        </tr>\n",
       "    </tbody>\n",
       "</table>"
      ],
      "text/plain": [
       "<IPython.core.display.HTML object>"
      ]
     },
     "metadata": {},
     "output_type": "display_data"
    },
    {
     "data": {
      "text/plain": [
       "268"
      ]
     },
     "execution_count": 16,
     "metadata": {},
     "output_type": "execute_result"
    }
   ],
   "source": [
    "not_all_data_bins = np.arange(0, 45001, 5000)\n",
    "btc_close.bin(\"Closing Price (USD)\", bins=not_all_data_bins).show()\n",
    "sum(btc_close.bin(\"Closing Price (USD)\", bins=not_all_data_bins).column(1))"
   ]
  },
  {
   "cell_type": "markdown",
   "id": "48ffba9a",
   "metadata": {},
   "source": [
    "# Percentages"
   ]
  },
  {
   "cell_type": "code",
   "execution_count": 1,
   "id": "5192da16",
   "metadata": {},
   "outputs": [
    {
     "ename": "NameError",
     "evalue": "name 'make_array' is not defined",
     "output_type": "error",
     "traceback": [
      "\u001b[0;31m---------------------------------------------------------------------------\u001b[0m",
      "\u001b[0;31mNameError\u001b[0m                                 Traceback (most recent call last)",
      "\u001b[0;32m<ipython-input-1-fc71f3b2edee>\u001b[0m in \u001b[0;36m<module>\u001b[0;34m\u001b[0m\n\u001b[0;32m----> 1\u001b[0;31m \u001b[0mnon_uniform_bins\u001b[0m \u001b[0;34m=\u001b[0m \u001b[0mmake_array\u001b[0m\u001b[0;34m(\u001b[0m\u001b[0;36m0\u001b[0m\u001b[0;34m,\u001b[0m \u001b[0;36m35000\u001b[0m\u001b[0;34m,\u001b[0m \u001b[0;36m50000\u001b[0m\u001b[0;34m,\u001b[0m \u001b[0;36m67000\u001b[0m\u001b[0;34m)\u001b[0m\u001b[0;34m\u001b[0m\u001b[0;34m\u001b[0m\u001b[0m\n\u001b[0m\u001b[1;32m      2\u001b[0m \u001b[0;34m\u001b[0m\u001b[0m\n\u001b[1;32m      3\u001b[0m \u001b[0mbinned\u001b[0m \u001b[0;34m=\u001b[0m \u001b[0mbtc_close\u001b[0m\u001b[0;34m.\u001b[0m\u001b[0mbin\u001b[0m\u001b[0;34m(\u001b[0m\u001b[0;34m\"Closing Price (USD)\"\u001b[0m\u001b[0;34m,\u001b[0m \u001b[0mbins\u001b[0m\u001b[0;34m=\u001b[0m\u001b[0mnon_uniform_bins\u001b[0m\u001b[0;34m)\u001b[0m\u001b[0;34m\u001b[0m\u001b[0;34m\u001b[0m\u001b[0m\n\u001b[1;32m      4\u001b[0m \u001b[0mbinned\u001b[0m\u001b[0;34m\u001b[0m\u001b[0;34m\u001b[0m\u001b[0m\n",
      "\u001b[0;31mNameError\u001b[0m: name 'make_array' is not defined"
     ]
    }
   ],
   "source": [
    "non_uniform_bins = make_array(0, 35000, 50000, 67000)\n",
    "\n",
    "binned = btc_close.bin(\"Closing Price (USD)\", bins=non_uniform_bins)\n",
    "binned"
   ]
  },
  {
   "cell_type": "code",
   "execution_count": 44,
   "id": "7c6c91b9",
   "metadata": {},
   "outputs": [
    {
     "data": {
      "text/plain": [
       "(365, 365)"
      ]
     },
     "execution_count": 44,
     "metadata": {},
     "output_type": "execute_result"
    }
   ],
   "source": [
    "btc_close.num_rows, sum(binned.column('Closing Price (USD) count'))"
   ]
  },
  {
   "cell_type": "code",
   "execution_count": 45,
   "id": "18b59b79",
   "metadata": {},
   "outputs": [
    {
     "data": {
      "text/html": [
       "<table border=\"1\" class=\"dataframe\">\n",
       "    <thead>\n",
       "        <tr>\n",
       "            <th>bin</th> <th>Closing Price (USD) count</th> <th>Percent</th>\n",
       "        </tr>\n",
       "    </thead>\n",
       "    <tbody>\n",
       "        <tr>\n",
       "            <td>0    </td> <td>219                      </td> <td>60     </td>\n",
       "        </tr>\n",
       "        <tr>\n",
       "            <td>35000</td> <td>72                       </td> <td>19.726 </td>\n",
       "        </tr>\n",
       "        <tr>\n",
       "            <td>50000</td> <td>67                       </td> <td>18.3562</td>\n",
       "        </tr>\n",
       "        <tr>\n",
       "            <td>60000</td> <td>7                        </td> <td>1.91781</td>\n",
       "        </tr>\n",
       "        <tr>\n",
       "            <td>64000</td> <td>0                        </td> <td>0      </td>\n",
       "        </tr>\n",
       "    </tbody>\n",
       "</table>"
      ],
      "text/plain": [
       "bin   | Closing Price (USD) count | Percent\n",
       "0     | 219                       | 60\n",
       "35000 | 72                        | 19.726\n",
       "50000 | 67                        | 18.3562\n",
       "60000 | 7                         | 1.91781\n",
       "64000 | 0                         | 0"
      ]
     },
     "execution_count": 45,
     "metadata": {},
     "output_type": "execute_result"
    }
   ],
   "source": [
    "with_percents = binned.with_column(\n",
    "    'Percent', binned.column('Closing Price (USD) count') / btc_close.num_rows * 100)\n",
    "with_percents"
   ]
  },
  {
   "cell_type": "code",
   "execution_count": 60,
   "id": "2c9729e4",
   "metadata": {},
   "outputs": [],
   "source": [
    "## Questions on bins and percentages?\n",
    "## Slides"
   ]
  },
  {
   "cell_type": "markdown",
   "id": "499b5e2b",
   "metadata": {},
   "source": [
    "# Histograms\n",
    "- Area is the percent (%)\n",
    "- width is the range (original units)\n",
    "- height is density (% / original units)\n",
    "\n",
    "$$ \\text{Area (%)} = \\text{Width (original units)} * \\text{Height (% / unit) }$$\n",
    "\n",
    "$$ \\frac{\\text{Area (%)}}{\\text{Width (original units)}} = \\text{Height (% / unit) }$$"
   ]
  },
  {
   "cell_type": "markdown",
   "id": "f57dfe6a",
   "metadata": {},
   "source": [
    "### Widths"
   ]
  },
  {
   "cell_type": "code",
   "execution_count": 48,
   "id": "d47d0334",
   "metadata": {},
   "outputs": [
    {
     "data": {
      "text/plain": [
       "35000"
      ]
     },
     "execution_count": 48,
     "metadata": {},
     "output_type": "execute_result"
    }
   ],
   "source": [
    "# First width\n",
    "first_width = with_percents.column(\"bin\").item(1) - with_percents.column(\"bin\").item(0)\n",
    "first_width"
   ]
  },
  {
   "cell_type": "code",
   "execution_count": 49,
   "id": "1f10e8b5",
   "metadata": {},
   "outputs": [
    {
     "data": {
      "text/plain": [
       "array([35000, 15000, 10000,  4000])"
      ]
     },
     "execution_count": 49,
     "metadata": {},
     "output_type": "execute_result"
    }
   ],
   "source": [
    "# All widths!\n",
    "widths = np.diff(with_percents.column(\"bin\"))\n",
    "widths"
   ]
  },
  {
   "cell_type": "markdown",
   "id": "a12e4358",
   "metadata": {},
   "source": [
    "### Heights"
   ]
  },
  {
   "cell_type": "code",
   "execution_count": 50,
   "id": "6c38c6a8",
   "metadata": {},
   "outputs": [
    {
     "data": {
      "text/plain": [
       "0.0017142857142857142"
      ]
     },
     "execution_count": 50,
     "metadata": {},
     "output_type": "execute_result"
    }
   ],
   "source": [
    "first_area = with_percents.column(\"Percent\").item(0)\n",
    "first_height = first_area / widths.item(0)\n",
    "first_height"
   ]
  },
  {
   "cell_type": "code",
   "execution_count": 51,
   "id": "11a5640b",
   "metadata": {},
   "outputs": [],
   "source": [
    "# What's the unit of the height again?\n",
    "# Percent per unit, the unit is USD, so its Percent per Dollar!"
   ]
  },
  {
   "cell_type": "code",
   "execution_count": 52,
   "id": "6a01e1ba",
   "metadata": {},
   "outputs": [
    {
     "ename": "ValueError",
     "evalue": "operands could not be broadcast together with shapes (5,) (4,) ",
     "output_type": "error",
     "traceback": [
      "\u001b[0;31m---------------------------------------------------------------------------\u001b[0m",
      "\u001b[0;31mValueError\u001b[0m                                Traceback (most recent call last)",
      "\u001b[0;32m<ipython-input-52-108fc5080d49>\u001b[0m in \u001b[0;36m<module>\u001b[0;34m\u001b[0m\n\u001b[0;32m----> 1\u001b[0;31m \u001b[0mall_heights\u001b[0m \u001b[0;34m=\u001b[0m \u001b[0mwith_percents\u001b[0m\u001b[0;34m.\u001b[0m\u001b[0mcolumn\u001b[0m\u001b[0;34m(\u001b[0m\u001b[0;34m\"Percent\"\u001b[0m\u001b[0;34m)\u001b[0m \u001b[0;34m/\u001b[0m \u001b[0mwidths\u001b[0m \u001b[0;31m# Wrong number of items!\u001b[0m\u001b[0;34m\u001b[0m\u001b[0;34m\u001b[0m\u001b[0m\n\u001b[0m\u001b[1;32m      2\u001b[0m \u001b[0mwith_percents\u001b[0m\u001b[0;34m.\u001b[0m\u001b[0mwith_column\u001b[0m\u001b[0;34m(\u001b[0m\u001b[0;34m\"Height\"\u001b[0m\u001b[0;34m,\u001b[0m \u001b[0mall_heights\u001b[0m\u001b[0;34m)\u001b[0m\u001b[0;34m\u001b[0m\u001b[0;34m\u001b[0m\u001b[0m\n",
      "\u001b[0;31mValueError\u001b[0m: operands could not be broadcast together with shapes (5,) (4,) "
     ]
    }
   ],
   "source": [
    "all_heights = with_percents.column(\"Percent\") / widths # Wrong number of items!\n",
    "with_percents.with_column(\"Height\", all_heights)"
   ]
  },
  {
   "cell_type": "markdown",
   "id": "5aa88783",
   "metadata": {},
   "source": [
    "### np.append(array, item to add to end of array)\n",
    "\n",
    "I'm going to add 1 since I don't want to divide by 0."
   ]
  },
  {
   "cell_type": "code",
   "execution_count": 53,
   "id": "36a15fee",
   "metadata": {},
   "outputs": [
    {
     "data": {
      "text/html": [
       "<table border=\"1\" class=\"dataframe\">\n",
       "    <thead>\n",
       "        <tr>\n",
       "            <th>bin</th> <th>Closing Price (USD) count</th> <th>Percent</th> <th>Width</th> <th>Height</th>\n",
       "        </tr>\n",
       "    </thead>\n",
       "    <tbody>\n",
       "        <tr>\n",
       "            <td>0    </td> <td>219                      </td> <td>60     </td> <td>35000</td> <td>0.00171429 </td>\n",
       "        </tr>\n",
       "        <tr>\n",
       "            <td>35000</td> <td>72                       </td> <td>19.726 </td> <td>15000</td> <td>0.00131507 </td>\n",
       "        </tr>\n",
       "        <tr>\n",
       "            <td>50000</td> <td>67                       </td> <td>18.3562</td> <td>10000</td> <td>0.00183562 </td>\n",
       "        </tr>\n",
       "        <tr>\n",
       "            <td>60000</td> <td>7                        </td> <td>1.91781</td> <td>4000 </td> <td>0.000479452</td>\n",
       "        </tr>\n",
       "        <tr>\n",
       "            <td>64000</td> <td>0                        </td> <td>0      </td> <td>0    </td> <td>0          </td>\n",
       "        </tr>\n",
       "    </tbody>\n",
       "</table>"
      ],
      "text/plain": [
       "bin   | Closing Price (USD) count | Percent | Width | Height\n",
       "0     | 219                       | 60      | 35000 | 0.00171429\n",
       "35000 | 72                        | 19.726  | 15000 | 0.00131507\n",
       "50000 | 67                        | 18.3562 | 10000 | 0.00183562\n",
       "60000 | 7                         | 1.91781 | 4000  | 0.000479452\n",
       "64000 | 0                         | 0       | 0     | 0"
      ]
     },
     "execution_count": 53,
     "metadata": {},
     "output_type": "execute_result"
    }
   ],
   "source": [
    "all_heights = with_percents.column(\"Percent\") / np.append(widths, 1)\n",
    "with_hw = with_percents.with_columns(\"Width\", np.append(widths, 0), \"Height\", all_heights)\n",
    "with_hw"
   ]
  },
  {
   "cell_type": "code",
   "execution_count": 54,
   "id": "36b0beb7",
   "metadata": {},
   "outputs": [
    {
     "data": {
      "text/plain": [
       "array([60.        , 19.7260274 , 18.35616438,  1.91780822,  0.        ])"
      ]
     },
     "execution_count": 54,
     "metadata": {},
     "output_type": "execute_result"
    }
   ],
   "source": [
    "# Make sure formula holds!\n",
    "with_hw.column(\"Width\") * with_hw.column(\"Height\")"
   ]
  },
  {
   "cell_type": "markdown",
   "id": "82a86fa3",
   "metadata": {},
   "source": [
    "#### tbl.hist(\"Numerical Column\", unit=\"String\", bins=array (optional), group=\"Categorical column\" (optional))"
   ]
  },
  {
   "cell_type": "code",
   "execution_count": 55,
   "id": "7c557076",
   "metadata": {},
   "outputs": [
    {
     "name": "stderr",
     "output_type": "stream",
     "text": [
      "/usr/local/lib/python3.9/site-packages/datascience/tables.py:5206: UserWarning: FixedFormatter should only be used together with FixedLocator\n",
      "  axis.set_xticklabels(ticks, rotation='vertical')\n"
     ]
    },
    {
     "data": {
      "image/png": "[encoded data removed]",
      "text/plain": [
       "<Figure size 432x288 with 1 Axes>"
      ]
     },
     "metadata": {},
     "output_type": "display_data"
    }
   ],
   "source": [
    "# Visualize?\n",
    "btc_close.hist(\"Closing Price (USD)\", bins=non_uniform_bins)"
   ]
  },
  {
   "cell_type": "code",
   "execution_count": 56,
   "id": "55ceb687",
   "metadata": {},
   "outputs": [],
   "source": [
    "# Kind of hard to understand (since bins are not uniform!)"
   ]
  },
  {
   "cell_type": "code",
   "execution_count": 57,
   "id": "881f2ec4",
   "metadata": {},
   "outputs": [
    {
     "data": {
      "image/png": "[encoded data removed]",
      "text/plain": [
       "<Figure size 432x288 with 1 Axes>"
      ]
     },
     "metadata": {},
     "output_type": "display_data"
    }
   ],
   "source": [
    "# Uniform Bins\n",
    "btc_close.hist(\"Closing Price (USD)\", bins=np.arange(0, 70000, 10000))"
   ]
  },
  {
   "cell_type": "code",
   "execution_count": 58,
   "id": "a74b8923",
   "metadata": {},
   "outputs": [
    {
     "data": {
      "image/png": "[encoded data removed]",
      "text/plain": [
       "<Figure size 432x288 with 1 Axes>"
      ]
     },
     "metadata": {},
     "output_type": "display_data"
    }
   ],
   "source": [
    "# Automatic Bins\n",
    "btc_close.hist(\"Closing Price (USD)\")"
   ]
  },
  {
   "cell_type": "code",
   "execution_count": 59,
   "id": "bd097af5",
   "metadata": {},
   "outputs": [
    {
     "data": {
      "image/png": "[encoded data removed]",
      "text/plain": [
       "<Figure size 432x288 with 1 Axes>"
      ]
     },
     "metadata": {},
     "output_type": "display_data"
    }
   ],
   "source": [
    "# Adding Unit (just get's added to the label)\n",
    "btc_close.hist(\"Closing Price (USD)\", unit=\"$\")"
   ]
  },
  {
   "cell_type": "markdown",
   "id": "6afc98e8",
   "metadata": {},
   "source": [
    "# Welcome Survey Example"
   ]
  },
  {
   "cell_type": "code",
   "execution_count": 66,
   "id": "da970b6b",
   "metadata": {},
   "outputs": [
    {
     "data": {
      "text/html": [
       "<table border=\"1\" class=\"dataframe\">\n",
       "    <thead>\n",
       "        <tr>\n",
       "            <th>timezone</th> <th>extraversion</th> <th>texting info</th> <th>hours sleep</th> <th>sleep style</th>\n",
       "        </tr>\n",
       "    </thead>\n",
       "    <tbody>\n",
       "        <tr>\n",
       "            <td>EST - Eastern Standard Time</td> <td>7           </td> <td>6           </td> <td>7          </td> <td>On your right side</td>\n",
       "        </tr>\n",
       "        <tr>\n",
       "            <td>PST - Pacific Standard Time</td> <td>10          </td> <td>5           </td> <td>5          </td> <td>On your right side</td>\n",
       "        </tr>\n",
       "        <tr>\n",
       "            <td>PST - Pacific Standard Time</td> <td>6           </td> <td>7           </td> <td>8          </td> <td>On your right side</td>\n",
       "        </tr>\n",
       "        <tr>\n",
       "            <td>PST - Pacific Standard Time</td> <td>6           </td> <td>2           </td> <td>7          </td> <td>On your back      </td>\n",
       "        </tr>\n",
       "        <tr>\n",
       "            <td>PST - Pacific Standard Time</td> <td>8           </td> <td>5           </td> <td>7          </td> <td>On your left side </td>\n",
       "        </tr>\n",
       "    </tbody>\n",
       "</table>\n",
       "<p>... (246 rows omitted)</p>"
      ],
      "text/plain": [
       "<IPython.core.display.HTML object>"
      ]
     },
     "metadata": {},
     "output_type": "display_data"
    }
   ],
   "source": [
    "survey = Table.read_table(\"welcome_survey.csv\").drop(0)\n",
    "survey.show(5)"
   ]
  },
  {
   "cell_type": "code",
   "execution_count": 67,
   "id": "d8a3f058",
   "metadata": {},
   "outputs": [
    {
     "data": {
      "text/plain": [
       "251"
      ]
     },
     "execution_count": 67,
     "metadata": {},
     "output_type": "execute_result"
    }
   ],
   "source": [
    "number_of_participants=survey.num_rows\n",
    "number_of_participants"
   ]
  },
  {
   "cell_type": "markdown",
   "id": "3481a667",
   "metadata": {},
   "source": [
    "### Categorical Data: Bar Charts"
   ]
  },
  {
   "cell_type": "code",
   "execution_count": 72,
   "id": "a7d66fe1",
   "metadata": {},
   "outputs": [
    {
     "data": {
      "text/html": [
       "<table border=\"1\" class=\"dataframe\">\n",
       "    <thead>\n",
       "        <tr>\n",
       "            <th>sleep style</th> <th>count</th>\n",
       "        </tr>\n",
       "    </thead>\n",
       "    <tbody>\n",
       "        <tr>\n",
       "            <td>On your back      </td> <td>53   </td>\n",
       "        </tr>\n",
       "        <tr>\n",
       "            <td>On your left side </td> <td>78   </td>\n",
       "        </tr>\n",
       "        <tr>\n",
       "            <td>On your right side</td> <td>85   </td>\n",
       "        </tr>\n",
       "        <tr>\n",
       "            <td>On your stomach   </td> <td>35   </td>\n",
       "        </tr>\n",
       "    </tbody>\n",
       "</table>"
      ],
      "text/plain": [
       "sleep style        | count\n",
       "On your back       | 53\n",
       "On your left side  | 78\n",
       "On your right side | 85\n",
       "On your stomach    | 35"
      ]
     },
     "execution_count": 72,
     "metadata": {},
     "output_type": "execute_result"
    }
   ],
   "source": [
    "sleep = survey.group('sleep style')\n",
    "sleep"
   ]
  },
  {
   "cell_type": "code",
   "execution_count": 73,
   "id": "3fe62445",
   "metadata": {},
   "outputs": [
    {
     "data": {
      "image/png": "[encoded data removed]",
      "text/plain": [
       "<Figure size 432x288 with 1 Axes>"
      ]
     },
     "metadata": {},
     "output_type": "display_data"
    }
   ],
   "source": [
    "sleep.barh(\"sleep style\")"
   ]
  },
  {
   "cell_type": "markdown",
   "id": "a55d051f",
   "metadata": {},
   "source": [
    "### Numerical Data: Histograms"
   ]
  },
  {
   "cell_type": "code",
   "execution_count": 75,
   "id": "a821b685",
   "metadata": {},
   "outputs": [
    {
     "data": {
      "image/png": "[encoded data removed]",
      "text/plain": [
       "<Figure size 432x288 with 1 Axes>"
      ]
     },
     "metadata": {},
     "output_type": "display_data"
    }
   ],
   "source": [
    "survey.hist('extraversion')"
   ]
  },
  {
   "cell_type": "code",
   "execution_count": 80,
   "id": "3bd8a23c",
   "metadata": {},
   "outputs": [
    {
     "data": {
      "image/png": "[encoded data removed]",
      "text/plain": [
       "<Figure size 432x288 with 1 Axes>"
      ]
     },
     "metadata": {},
     "output_type": "display_data"
    }
   ],
   "source": [
    "# Uniform bins\n",
    "survey.hist('extraversion', bins=np.arange(-0.5, 10.5, 1))"
   ]
  },
  {
   "cell_type": "markdown",
   "id": "766b779a",
   "metadata": {},
   "source": [
    "### Overlaid!\n",
    "### tbl.hist(\"numerical column\", group=\"categorical column\")"
   ]
  },
  {
   "cell_type": "code",
   "execution_count": 76,
   "id": "f97fcf92",
   "metadata": {},
   "outputs": [
    {
     "name": "stderr",
     "output_type": "stream",
     "text": [
      "/usr/local/lib/python3.9/site-packages/datascience/tables.py:920: VisibleDeprecationWarning: Creating an ndarray from ragged nested sequences (which is a list-or-tuple of lists-or-tuples-or ndarrays with different lengths or shapes) is deprecated. If you meant to do this, you must specify 'dtype=object' when creating the ndarray.\n",
      "  values = np.array(tuple(values))\n"
     ]
    },
    {
     "data": {
      "image/png": "[encoded data removed]",
      "text/plain": [
       "<Figure size 432x288 with 1 Axes>"
      ]
     },
     "metadata": {},
     "output_type": "display_data"
    }
   ],
   "source": [
    "survey.hist('extraversion', group=\"sleep style\")"
   ]
  },
  {
   "cell_type": "code",
   "execution_count": 77,
   "id": "6d3f5102",
   "metadata": {},
   "outputs": [
    {
     "name": "stderr",
     "output_type": "stream",
     "text": [
      "/usr/local/lib/python3.9/site-packages/datascience/tables.py:920: VisibleDeprecationWarning: Creating an ndarray from ragged nested sequences (which is a list-or-tuple of lists-or-tuples-or ndarrays with different lengths or shapes) is deprecated. If you meant to do this, you must specify 'dtype=object' when creating the ndarray.\n",
      "  values = np.array(tuple(values))\n"
     ]
    },
    {
     "data": {
      "image/png": "[encoded data removed]",
      "text/plain": [
       "<Figure size 432x288 with 1 Axes>"
      ]
     },
     "metadata": {},
     "output_type": "display_data"
    }
   ],
   "source": [
    "survey.hist('extraversion', group=\"sleep style\")"
   ]
  },
  {
   "cell_type": "code",
   "execution_count": null,
   "id": "84308ffa",
   "metadata": {},
   "outputs": [],
   "source": []
  }
 ],
 "metadata": {
  "kernelspec": {
   "display_name": "Python 3",
   "language": "python",
   "name": "python3"
  },
  "language_info": {
   "codemirror_mode": {
    "name": "ipython",
    "version": 3
   },
   "file_extension": ".py",
   "mimetype": "text/x-python",
   "name": "python",
   "nbconvert_exporter": "python",
   "pygments_lexer": "ipython3",
   "version": "3.9.5"
  }
 },
 "nbformat": 4,
 "nbformat_minor": 5
}
