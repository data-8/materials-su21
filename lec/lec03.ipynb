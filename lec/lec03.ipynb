{
 "cells": [
  {
   "cell_type": "code",
   "execution_count": null,
   "metadata": {},
   "outputs": [],
   "source": [
    "# Always run!"
   ]
  },
  {
   "cell_type": "code",
   "execution_count": 2,
   "metadata": {},
   "outputs": [],
   "source": [
    "from datascience import *\n",
    "import numpy as np\n",
    "\n",
    "%matplotlib inline\n",
    "import matplotlib.pyplot as plots\n",
    "plots.style.use('fivethirtyeight')"
   ]
  },
  {
   "cell_type": "markdown",
   "metadata": {},
   "source": [
    "## Words of Caution ##\n",
    "- Remember to run the cell above. It's for setting up the environment so you can have access to what's needed for this lecture. For now, don't worry about what it means: we'll learn more about what's inside of it in the next few lectures.\n",
    "- Data science is not just about code, so please don't go over this notebook by itself. Have the relevant textbook sections or lecture video at hand so that you can go over the discussion along with the code. Thank you! \n",
    "- Have the [python reference open](http://data8.org/su21/python-reference.html)!"
   ]
  },
  {
   "cell_type": "markdown",
   "metadata": {},
   "source": [
    "## Python ##"
   ]
  },
  {
   "cell_type": "code",
   "execution_count": null,
   "metadata": {},
   "outputs": [],
   "source": [
    "# Math!\n",
    "# Each line of code is a statement (or an expression)\n",
    "# Addition subtraction and Multiplication"
   ]
  },
  {
   "cell_type": "code",
   "execution_count": 22,
   "metadata": {
    "scrolled": true
   },
   "outputs": [
    {
     "data": {
      "text/plain": [
       "21"
      ]
     },
     "execution_count": 22,
     "metadata": {},
     "output_type": "execute_result"
    }
   ],
   "source": [
    "6 + 7 + 8"
   ]
  },
  {
   "cell_type": "code",
   "execution_count": 23,
   "metadata": {},
   "outputs": [
    {
     "data": {
      "text/plain": [
       "21"
      ]
     },
     "execution_count": 23,
     "metadata": {},
     "output_type": "execute_result"
    }
   ],
   "source": [
    "75 - 49 - 5"
   ]
  },
  {
   "cell_type": "code",
   "execution_count": 24,
   "metadata": {},
   "outputs": [
    {
     "data": {
      "text/plain": [
       "21"
      ]
     },
     "execution_count": 24,
     "metadata": {},
     "output_type": "execute_result"
    }
   ],
   "source": [
    "7 * 3"
   ]
  },
  {
   "cell_type": "code",
   "execution_count": 25,
   "metadata": {},
   "outputs": [
    {
     "data": {
      "text/plain": [
       "21.0"
      ]
     },
     "execution_count": 25,
     "metadata": {},
     "output_type": "execute_result"
    }
   ],
   "source": [
    "63 / 3"
   ]
  },
  {
   "cell_type": "code",
   "execution_count": 26,
   "metadata": {},
   "outputs": [],
   "source": [
    "# Decimals!"
   ]
  },
  {
   "cell_type": "code",
   "execution_count": 27,
   "metadata": {},
   "outputs": [
    {
     "data": {
      "text/plain": [
       "2.0999999999999996"
      ]
     },
     "execution_count": 27,
     "metadata": {},
     "output_type": "execute_result"
    }
   ],
   "source": [
    ".42 / .2"
   ]
  },
  {
   "cell_type": "code",
   "execution_count": 28,
   "metadata": {},
   "outputs": [],
   "source": [
    "# Follows order of operations!"
   ]
  },
  {
   "cell_type": "code",
   "execution_count": 29,
   "metadata": {},
   "outputs": [
    {
     "data": {
      "text/plain": [
       "21"
      ]
     },
     "execution_count": 29,
     "metadata": {},
     "output_type": "execute_result"
    }
   ],
   "source": [
    "(18 * 3) - 33"
   ]
  },
  {
   "cell_type": "code",
   "execution_count": 30,
   "metadata": {},
   "outputs": [
    {
     "data": {
      "text/plain": [
       "-540"
      ]
     },
     "execution_count": 30,
     "metadata": {},
     "output_type": "execute_result"
    }
   ],
   "source": [
    "18 * (3 - 33)"
   ]
  },
  {
   "cell_type": "code",
   "execution_count": 31,
   "metadata": {},
   "outputs": [],
   "source": [
    "# Exponentiation"
   ]
  },
  {
   "cell_type": "code",
   "execution_count": 32,
   "metadata": {},
   "outputs": [
    {
     "data": {
      "text/plain": [
       "16"
      ]
     },
     "execution_count": 32,
     "metadata": {},
     "output_type": "execute_result"
    }
   ],
   "source": [
    "# two to the power of four: 2 * 2 * 2 * 2\n",
    "2 ** 4"
   ]
  },
  {
   "cell_type": "code",
   "execution_count": 33,
   "metadata": {},
   "outputs": [
    {
     "data": {
      "text/plain": [
       "0.5"
      ]
     },
     "execution_count": 33,
     "metadata": {},
     "output_type": "execute_result"
    }
   ],
   "source": [
    "2 ** -1"
   ]
  },
  {
   "cell_type": "code",
   "execution_count": 34,
   "metadata": {},
   "outputs": [
    {
     "data": {
      "text/plain": [
       "21"
      ]
     },
     "execution_count": 34,
     "metadata": {},
     "output_type": "execute_result"
    }
   ],
   "source": [
    "2 ** 4 + 5"
   ]
  },
  {
   "cell_type": "code",
   "execution_count": 35,
   "metadata": {},
   "outputs": [],
   "source": [
    "# Text is also data"
   ]
  },
  {
   "cell_type": "code",
   "execution_count": 36,
   "metadata": {},
   "outputs": [
    {
     "data": {
      "text/plain": [
       "'savage'"
      ]
     },
     "execution_count": 36,
     "metadata": {},
     "output_type": "execute_result"
    }
   ],
   "source": [
    "'savage'"
   ]
  },
  {
   "cell_type": "code",
   "execution_count": null,
   "metadata": {},
   "outputs": [],
   "source": [
    "# add text!"
   ]
  },
  {
   "cell_type": "code",
   "execution_count": 37,
   "metadata": {},
   "outputs": [
    {
     "data": {
      "text/plain": [
       "'helloworld'"
      ]
     },
     "execution_count": 37,
     "metadata": {},
     "output_type": "execute_result"
    }
   ],
   "source": [
    "\"hello\" + \"world\""
   ]
  },
  {
   "cell_type": "code",
   "execution_count": 38,
   "metadata": {},
   "outputs": [
    {
     "data": {
      "text/plain": [
       "'hello world'"
      ]
     },
     "execution_count": 38,
     "metadata": {},
     "output_type": "execute_result"
    }
   ],
   "source": [
    "\"hello\" + \" \" + \"world\""
   ]
  },
  {
   "cell_type": "markdown",
   "metadata": {},
   "source": [
    "## Names ##"
   ]
  },
  {
   "cell_type": "code",
   "execution_count": null,
   "metadata": {},
   "outputs": [],
   "source": [
    "# One name"
   ]
  },
  {
   "cell_type": "code",
   "execution_count": null,
   "metadata": {},
   "outputs": [],
   "source": [
    "a = 4"
   ]
  },
  {
   "cell_type": "code",
   "execution_count": null,
   "metadata": {},
   "outputs": [],
   "source": [
    "a"
   ]
  },
  {
   "cell_type": "code",
   "execution_count": null,
   "metadata": {},
   "outputs": [],
   "source": [
    "# Another Name"
   ]
  },
  {
   "cell_type": "code",
   "execution_count": null,
   "metadata": {},
   "outputs": [],
   "source": [
    "b = 9"
   ]
  },
  {
   "cell_type": "code",
   "execution_count": null,
   "metadata": {},
   "outputs": [],
   "source": [
    "b"
   ]
  },
  {
   "cell_type": "code",
   "execution_count": null,
   "metadata": {},
   "outputs": [],
   "source": [
    "# Use it in an expression!"
   ]
  },
  {
   "cell_type": "code",
   "execution_count": null,
   "metadata": {},
   "outputs": [],
   "source": [
    "a * 3"
   ]
  },
  {
   "cell_type": "code",
   "execution_count": null,
   "metadata": {},
   "outputs": [],
   "source": [
    "# Use both!"
   ]
  },
  {
   "cell_type": "code",
   "execution_count": null,
   "metadata": {},
   "outputs": [],
   "source": [
    "total = a + b"
   ]
  },
  {
   "cell_type": "code",
   "execution_count": null,
   "metadata": {
    "scrolled": true
   },
   "outputs": [],
   "source": [
    "total"
   ]
  },
  {
   "cell_type": "code",
   "execution_count": null,
   "metadata": {},
   "outputs": [],
   "source": [
    "# Doesn't modify"
   ]
  },
  {
   "cell_type": "code",
   "execution_count": null,
   "metadata": {},
   "outputs": [],
   "source": [
    "a = 10"
   ]
  },
  {
   "cell_type": "code",
   "execution_count": null,
   "metadata": {},
   "outputs": [],
   "source": [
    "# What's the new value?"
   ]
  },
  {
   "cell_type": "code",
   "execution_count": null,
   "metadata": {},
   "outputs": [],
   "source": [
    "total"
   ]
  },
  {
   "cell_type": "code",
   "execution_count": null,
   "metadata": {},
   "outputs": [],
   "source": [
    "# Redefine"
   ]
  },
  {
   "cell_type": "code",
   "execution_count": null,
   "metadata": {},
   "outputs": [],
   "source": [
    "total = a + b"
   ]
  },
  {
   "cell_type": "code",
   "execution_count": null,
   "metadata": {},
   "outputs": [],
   "source": [
    "total"
   ]
  },
  {
   "cell_type": "code",
   "execution_count": null,
   "metadata": {},
   "outputs": [],
   "source": [
    "# Names vs Text"
   ]
  },
  {
   "cell_type": "code",
   "execution_count": null,
   "metadata": {},
   "outputs": [],
   "source": [
    "'total'"
   ]
  },
  {
   "cell_type": "markdown",
   "metadata": {},
   "source": [
    "### Why Names?"
   ]
  },
  {
   "cell_type": "code",
   "execution_count": null,
   "metadata": {},
   "outputs": [],
   "source": [
    "# Blinking?"
   ]
  },
  {
   "cell_type": "code",
   "execution_count": null,
   "metadata": {},
   "outputs": [],
   "source": [
    "# Option 1 <- a comment!\n",
    "30 * 60 * 24 * 365"
   ]
  },
  {
   "cell_type": "code",
   "execution_count": null,
   "metadata": {},
   "outputs": [],
   "source": [
    "# Option 2\n",
    "blinks_per_minute = 30\n",
    "blinks_per_hour = blinks_per_minute * 60\n",
    "hours_per_day = 24\n",
    "days_per_year = 365"
   ]
  },
  {
   "cell_type": "code",
   "execution_count": null,
   "metadata": {},
   "outputs": [],
   "source": [
    "hours_per_year = hours_per_day * days_per_year"
   ]
  },
  {
   "cell_type": "code",
   "execution_count": null,
   "metadata": {},
   "outputs": [],
   "source": [
    "hours_per_year"
   ]
  },
  {
   "cell_type": "code",
   "execution_count": null,
   "metadata": {},
   "outputs": [],
   "source": [
    "yearly_blinks = hours_per_year * blinks_per_hour\n",
    "yearly_blinks"
   ]
  },
  {
   "cell_type": "code",
   "execution_count": null,
   "metadata": {},
   "outputs": [],
   "source": [
    "age = 70\n",
    "yearly_blinks * age"
   ]
  },
  {
   "cell_type": "code",
   "execution_count": null,
   "metadata": {},
   "outputs": [],
   "source": [
    "# Blinks in a lecture?"
   ]
  },
  {
   "cell_type": "code",
   "execution_count": null,
   "metadata": {},
   "outputs": [],
   "source": [
    "blinks_per_minute * 50"
   ]
  },
  {
   "cell_type": "code",
   "execution_count": null,
   "metadata": {},
   "outputs": [],
   "source": [
    "# Change blinks_per_minute?"
   ]
  },
  {
   "cell_type": "code",
   "execution_count": null,
   "metadata": {},
   "outputs": [],
   "source": []
  },
  {
   "cell_type": "code",
   "execution_count": null,
   "metadata": {},
   "outputs": [],
   "source": [
    "# Use names! Easier to read for everyone\n",
    "# Questions?"
   ]
  },
  {
   "cell_type": "markdown",
   "metadata": {},
   "source": [
    "## Functions and Call Expressions"
   ]
  },
  {
   "cell_type": "code",
   "execution_count": null,
   "metadata": {},
   "outputs": [],
   "source": [
    "abs(-8)"
   ]
  },
  {
   "cell_type": "code",
   "execution_count": null,
   "metadata": {},
   "outputs": [],
   "source": [
    "# Expressions inside arguments!\n",
    "# Evaluates the arguments first"
   ]
  },
  {
   "cell_type": "code",
   "execution_count": null,
   "metadata": {},
   "outputs": [],
   "source": [
    "abs(10 - 2)"
   ]
  },
  {
   "cell_type": "code",
   "execution_count": null,
   "metadata": {},
   "outputs": [],
   "source": [
    "day_temp = 70\n",
    "night_temp = 57\n",
    "abs(night_temp - day_temp)"
   ]
  },
  {
   "cell_type": "code",
   "execution_count": null,
   "metadata": {},
   "outputs": [],
   "source": [
    "# min"
   ]
  },
  {
   "cell_type": "code",
   "execution_count": null,
   "metadata": {},
   "outputs": [],
   "source": [
    "min(8, 61)"
   ]
  },
  {
   "cell_type": "code",
   "execution_count": null,
   "metadata": {},
   "outputs": [],
   "source": [
    "# round"
   ]
  },
  {
   "cell_type": "code",
   "execution_count": null,
   "metadata": {},
   "outputs": [],
   "source": [
    "round(123.456)"
   ]
  },
  {
   "cell_type": "code",
   "execution_count": null,
   "metadata": {},
   "outputs": [],
   "source": [
    "# Optional arguments\n",
    "# unnamed"
   ]
  },
  {
   "cell_type": "code",
   "execution_count": null,
   "metadata": {},
   "outputs": [],
   "source": [
    "round(123.456, 1)"
   ]
  },
  {
   "cell_type": "code",
   "execution_count": null,
   "metadata": {},
   "outputs": [],
   "source": [
    "# name the argument"
   ]
  },
  {
   "cell_type": "code",
   "execution_count": null,
   "metadata": {
    "scrolled": true
   },
   "outputs": [],
   "source": [
    "round(123.456, ndigits=1)"
   ]
  },
  {
   "cell_type": "code",
   "execution_count": null,
   "metadata": {},
   "outputs": [],
   "source": [
    "# Chain together!\n",
    "# Complicated, use names!\n",
    "# Note the coloring of the parentheses"
   ]
  },
  {
   "cell_type": "code",
   "execution_count": null,
   "metadata": {},
   "outputs": [],
   "source": [
    "round(max(abs(-8), 10.2))"
   ]
  },
  {
   "cell_type": "code",
   "execution_count": null,
   "metadata": {},
   "outputs": [],
   "source": [
    "# Functions \n",
    "# - take different number of arguments\n",
    "# - evaluate to different things\n",
    "# questions?"
   ]
  },
  {
   "cell_type": "markdown",
   "metadata": {},
   "source": [
    "## Tables ##"
   ]
  },
  {
   "cell_type": "code",
   "execution_count": null,
   "metadata": {},
   "outputs": [],
   "source": [
    "# Read the table!\n",
    "# an assignment statement"
   ]
  },
  {
   "cell_type": "code",
   "execution_count": null,
   "metadata": {},
   "outputs": [],
   "source": [
    "cones = Table.read_table('cones.csv')\n",
    "cones"
   ]
  },
  {
   "cell_type": "code",
   "execution_count": null,
   "metadata": {},
   "outputs": [],
   "source": [
    "# What's that file?"
   ]
  },
  {
   "cell_type": "code",
   "execution_count": null,
   "metadata": {},
   "outputs": [],
   "source": [
    "# Call the functions on the table\n",
    "# \"Table operations\"\n",
    "# tbl.show"
   ]
  },
  {
   "cell_type": "code",
   "execution_count": null,
   "metadata": {},
   "outputs": [],
   "source": [
    "cones.show(3)"
   ]
  },
  {
   "cell_type": "code",
   "execution_count": null,
   "metadata": {},
   "outputs": [],
   "source": [
    "# Look Ma, no Args!"
   ]
  },
  {
   "cell_type": "code",
   "execution_count": null,
   "metadata": {},
   "outputs": [],
   "source": [
    "cones.show()"
   ]
  },
  {
   "cell_type": "code",
   "execution_count": null,
   "metadata": {},
   "outputs": [],
   "source": [
    "# Individual Columns"
   ]
  },
  {
   "cell_type": "code",
   "execution_count": null,
   "metadata": {
    "scrolled": true
   },
   "outputs": [],
   "source": [
    "cones.select('Flavor')"
   ]
  },
  {
   "cell_type": "code",
   "execution_count": null,
   "metadata": {},
   "outputs": [],
   "source": [
    "# Multiple Columns"
   ]
  },
  {
   "cell_type": "code",
   "execution_count": null,
   "metadata": {},
   "outputs": [],
   "source": [
    "cones.select('Flavor', 'Price')"
   ]
  },
  {
   "cell_type": "code",
   "execution_count": null,
   "metadata": {},
   "outputs": [],
   "source": [
    "# Why Quotes? \n",
    "# read the error!"
   ]
  },
  {
   "cell_type": "code",
   "execution_count": null,
   "metadata": {},
   "outputs": [],
   "source": [
    "cones.select(Flavor, 'Price')"
   ]
  },
  {
   "cell_type": "code",
   "execution_count": null,
   "metadata": {},
   "outputs": [],
   "source": [
    "# Another way to select"
   ]
  },
  {
   "cell_type": "code",
   "execution_count": null,
   "metadata": {},
   "outputs": [],
   "source": [
    "cones.drop('Price')"
   ]
  },
  {
   "cell_type": "code",
   "execution_count": null,
   "metadata": {},
   "outputs": [],
   "source": [
    "# Remember to assign!"
   ]
  },
  {
   "cell_type": "code",
   "execution_count": null,
   "metadata": {},
   "outputs": [],
   "source": [
    "cones"
   ]
  },
  {
   "cell_type": "code",
   "execution_count": null,
   "metadata": {},
   "outputs": [],
   "source": [
    "cones_without_price = cones.drop('Price')\n",
    "cones_without_price"
   ]
  },
  {
   "cell_type": "code",
   "execution_count": null,
   "metadata": {},
   "outputs": [],
   "source": [
    "# Filter"
   ]
  },
  {
   "cell_type": "code",
   "execution_count": null,
   "metadata": {
    "scrolled": true
   },
   "outputs": [],
   "source": [
    "cones.where('Flavor', 'chocolate')"
   ]
  },
  {
   "cell_type": "code",
   "execution_count": null,
   "metadata": {},
   "outputs": [],
   "source": [
    "# Sort"
   ]
  },
  {
   "cell_type": "code",
   "execution_count": null,
   "metadata": {},
   "outputs": [],
   "source": [
    "cones.sort('Price')"
   ]
  },
  {
   "cell_type": "code",
   "execution_count": null,
   "metadata": {},
   "outputs": [],
   "source": [
    "# Descending order"
   ]
  },
  {
   "cell_type": "code",
   "execution_count": null,
   "metadata": {
    "scrolled": true
   },
   "outputs": [],
   "source": [
    "cones.sort('Price', descending=True)"
   ]
  },
  {
   "cell_type": "code",
   "execution_count": null,
   "metadata": {},
   "outputs": [],
   "source": [
    "# Alphabetical"
   ]
  },
  {
   "cell_type": "code",
   "execution_count": null,
   "metadata": {},
   "outputs": [],
   "source": [
    "cones.sort('Flavor', descending=True)"
   ]
  },
  {
   "cell_type": "code",
   "execution_count": null,
   "metadata": {},
   "outputs": [],
   "source": [
    "# Why is it called an operation?"
   ]
  },
  {
   "cell_type": "code",
   "execution_count": null,
   "metadata": {
    "scrolled": true
   },
   "outputs": [],
   "source": [
    "Table.sort(cones, \"Flavor\")"
   ]
  },
  {
   "cell_type": "code",
   "execution_count": null,
   "metadata": {},
   "outputs": [],
   "source": [
    "# Questions?"
   ]
  },
  {
   "cell_type": "markdown",
   "metadata": {},
   "source": [
    "### A more interesting table"
   ]
  },
  {
   "cell_type": "code",
   "execution_count": 5,
   "metadata": {},
   "outputs": [],
   "source": [
    "# Load the table!\n",
    "# NBA very popular among Data 8 Staff"
   ]
  },
  {
   "cell_type": "code",
   "execution_count": 6,
   "metadata": {},
   "outputs": [
    {
     "data": {
      "text/html": [
       "<table border=\"1\" class=\"dataframe\">\n",
       "    <thead>\n",
       "        <tr>\n",
       "            <th>PLAYER</th> <th>POSITION</th> <th>TEAM</th> <th>SALARY</th> <th>AGE</th>\n",
       "        </tr>\n",
       "    </thead>\n",
       "    <tbody>\n",
       "        <tr>\n",
       "            <td>Danilo Gallinari </td> <td>PF      </td> <td>ATL </td> <td>19.5   </td> <td>32  </td>\n",
       "        </tr>\n",
       "        <tr>\n",
       "            <td>Bogdan Bogdanovic</td> <td>SG      </td> <td>ATL </td> <td>18     </td> <td>28  </td>\n",
       "        </tr>\n",
       "        <tr>\n",
       "            <td>Clint Capela     </td> <td>C       </td> <td>ATL </td> <td>16     </td> <td>26  </td>\n",
       "        </tr>\n",
       "        <tr>\n",
       "            <td>Tony Snell       </td> <td>SG      </td> <td>ATL </td> <td>12.1786</td> <td>28  </td>\n",
       "        </tr>\n",
       "        <tr>\n",
       "            <td>Louis Williams   </td> <td>SG      </td> <td>ATL </td> <td>8      </td> <td>33  </td>\n",
       "        </tr>\n",
       "        <tr>\n",
       "            <td>De'Andre Hunter  </td> <td>SF      </td> <td>ATL </td> <td>7.422  </td> <td>22  </td>\n",
       "        </tr>\n",
       "        <tr>\n",
       "            <td>Trae Young       </td> <td>PG      </td> <td>ATL </td> <td>6.5718 </td> <td>22  </td>\n",
       "        </tr>\n",
       "        <tr>\n",
       "            <td>Onyeka Okongwu   </td> <td>PF      </td> <td>ATL </td> <td>5.81364</td> <td>19  </td>\n",
       "        </tr>\n",
       "        <tr>\n",
       "            <td>Kris Dunn        </td> <td>PG      </td> <td>ATL </td> <td>4.767  </td> <td>26  </td>\n",
       "        </tr>\n",
       "        <tr>\n",
       "            <td>Cam Reddish      </td> <td>SF      </td> <td>ATL </td> <td>4.458  </td> <td>21  </td>\n",
       "        </tr>\n",
       "    </tbody>\n",
       "</table>\n",
       "<p>... (503 rows omitted)</p>"
      ],
      "text/plain": [
       "PLAYER            | POSITION | TEAM | SALARY  | AGE\n",
       "Danilo Gallinari  | PF       | ATL  | 19.5    | 32\n",
       "Bogdan Bogdanovic | SG       | ATL  | 18      | 28\n",
       "Clint Capela      | C        | ATL  | 16      | 26\n",
       "Tony Snell        | SG       | ATL  | 12.1786 | 28\n",
       "Louis Williams    | SG       | ATL  | 8       | 33\n",
       "De'Andre Hunter   | SF       | ATL  | 7.422   | 22\n",
       "Trae Young        | PG       | ATL  | 6.5718  | 22\n",
       "Onyeka Okongwu    | PF       | ATL  | 5.81364 | 19\n",
       "Kris Dunn         | PG       | ATL  | 4.767   | 26\n",
       "Cam Reddish       | SF       | ATL  | 4.458   | 21\n",
       "... (503 rows omitted)"
      ]
     },
     "execution_count": 6,
     "metadata": {},
     "output_type": "execute_result"
    }
   ],
   "source": [
    "nba = Table.read_table('nba_salaries.csv')\n",
    "nba"
   ]
  },
  {
   "cell_type": "code",
   "execution_count": 7,
   "metadata": {},
   "outputs": [],
   "source": [
    "# Filter the table!"
   ]
  },
  {
   "cell_type": "code",
   "execution_count": 8,
   "metadata": {},
   "outputs": [],
   "source": [
    "celtics = nba.where('TEAM', 'BOS')"
   ]
  },
  {
   "cell_type": "code",
   "execution_count": 9,
   "metadata": {},
   "outputs": [
    {
     "data": {
      "text/html": [
       "<table border=\"1\" class=\"dataframe\">\n",
       "    <thead>\n",
       "        <tr>\n",
       "            <th>PLAYER</th> <th>POSITION</th> <th>TEAM</th> <th>SALARY</th> <th>AGE</th>\n",
       "        </tr>\n",
       "    </thead>\n",
       "    <tbody>\n",
       "        <tr>\n",
       "            <td>Kemba Walker    </td> <td>PG      </td> <td>BOS </td> <td>34.3791</td> <td>30  </td>\n",
       "        </tr>\n",
       "        <tr>\n",
       "            <td>Jaylen Brown    </td> <td>SG      </td> <td>BOS </td> <td>22.9911</td> <td>23  </td>\n",
       "        </tr>\n",
       "        <tr>\n",
       "            <td>Evan Fournier   </td> <td>SG      </td> <td>BOS </td> <td>17     </td> <td>27  </td>\n",
       "        </tr>\n",
       "        <tr>\n",
       "            <td>Marcus Smart    </td> <td>PG      </td> <td>BOS </td> <td>12.9464</td> <td>26  </td>\n",
       "        </tr>\n",
       "        <tr>\n",
       "            <td>Jayson Tatum    </td> <td>PF      </td> <td>BOS </td> <td>9.89712</td> <td>22  </td>\n",
       "        </tr>\n",
       "        <tr>\n",
       "            <td>Tristan Thompson</td> <td>C       </td> <td>BOS </td> <td>9.258  </td> <td>29  </td>\n",
       "        </tr>\n",
       "        <tr>\n",
       "            <td>Romeo Langford  </td> <td>SG      </td> <td>BOS </td> <td>3.6312 </td> <td>20  </td>\n",
       "        </tr>\n",
       "        <tr>\n",
       "            <td>Aaron Nesmith   </td> <td>SF      </td> <td>BOS </td> <td>3.4584 </td> <td>20  </td>\n",
       "        </tr>\n",
       "        <tr>\n",
       "            <td>Grant Williams  </td> <td>PF      </td> <td>BOS </td> <td>2.49876</td> <td>21  </td>\n",
       "        </tr>\n",
       "        <tr>\n",
       "            <td>Luke Kornet     </td> <td>C       </td> <td>BOS </td> <td>2.25   </td> <td>25  </td>\n",
       "        </tr>\n",
       "    </tbody>\n",
       "</table>\n",
       "<p>... (5 rows omitted)</p>"
      ],
      "text/plain": [
       "PLAYER           | POSITION | TEAM | SALARY  | AGE\n",
       "Kemba Walker     | PG       | BOS  | 34.3791 | 30\n",
       "Jaylen Brown     | SG       | BOS  | 22.9911 | 23\n",
       "Evan Fournier    | SG       | BOS  | 17      | 27\n",
       "Marcus Smart     | PG       | BOS  | 12.9464 | 26\n",
       "Jayson Tatum     | PF       | BOS  | 9.89712 | 22\n",
       "Tristan Thompson | C        | BOS  | 9.258   | 29\n",
       "Romeo Langford   | SG       | BOS  | 3.6312  | 20\n",
       "Aaron Nesmith    | SF       | BOS  | 3.4584  | 20\n",
       "Grant Williams   | PF       | BOS  | 2.49876 | 21\n",
       "Luke Kornet      | C        | BOS  | 2.25    | 25\n",
       "... (5 rows omitted)"
      ]
     },
     "execution_count": 9,
     "metadata": {},
     "output_type": "execute_result"
    }
   ],
   "source": [
    "celtics"
   ]
  },
  {
   "cell_type": "code",
   "execution_count": 10,
   "metadata": {},
   "outputs": [],
   "source": [
    "# Modifify Columns"
   ]
  },
  {
   "cell_type": "code",
   "execution_count": 11,
   "metadata": {},
   "outputs": [
    {
     "data": {
      "text/html": [
       "<table border=\"1\" class=\"dataframe\">\n",
       "    <thead>\n",
       "        <tr>\n",
       "            <th>PLAYER</th> <th>POSITION</th> <th>SALARY</th> <th>AGE</th>\n",
       "        </tr>\n",
       "    </thead>\n",
       "    <tbody>\n",
       "        <tr>\n",
       "            <td>Kemba Walker    </td> <td>PG      </td> <td>34.3791</td> <td>30  </td>\n",
       "        </tr>\n",
       "        <tr>\n",
       "            <td>Jaylen Brown    </td> <td>SG      </td> <td>22.9911</td> <td>23  </td>\n",
       "        </tr>\n",
       "        <tr>\n",
       "            <td>Evan Fournier   </td> <td>SG      </td> <td>17     </td> <td>27  </td>\n",
       "        </tr>\n",
       "        <tr>\n",
       "            <td>Marcus Smart    </td> <td>PG      </td> <td>12.9464</td> <td>26  </td>\n",
       "        </tr>\n",
       "        <tr>\n",
       "            <td>Jayson Tatum    </td> <td>PF      </td> <td>9.89712</td> <td>22  </td>\n",
       "        </tr>\n",
       "        <tr>\n",
       "            <td>Tristan Thompson</td> <td>C       </td> <td>9.258  </td> <td>29  </td>\n",
       "        </tr>\n",
       "        <tr>\n",
       "            <td>Romeo Langford  </td> <td>SG      </td> <td>3.6312 </td> <td>20  </td>\n",
       "        </tr>\n",
       "        <tr>\n",
       "            <td>Aaron Nesmith   </td> <td>SF      </td> <td>3.4584 </td> <td>20  </td>\n",
       "        </tr>\n",
       "        <tr>\n",
       "            <td>Grant Williams  </td> <td>PF      </td> <td>2.49876</td> <td>21  </td>\n",
       "        </tr>\n",
       "        <tr>\n",
       "            <td>Luke Kornet     </td> <td>C       </td> <td>2.25   </td> <td>25  </td>\n",
       "        </tr>\n",
       "    </tbody>\n",
       "</table>\n",
       "<p>... (5 rows omitted)</p>"
      ],
      "text/plain": [
       "PLAYER           | POSITION | SALARY  | AGE\n",
       "Kemba Walker     | PG       | 34.3791 | 30\n",
       "Jaylen Brown     | SG       | 22.9911 | 23\n",
       "Evan Fournier    | SG       | 17      | 27\n",
       "Marcus Smart     | PG       | 12.9464 | 26\n",
       "Jayson Tatum     | PF       | 9.89712 | 22\n",
       "Tristan Thompson | C        | 9.258   | 29\n",
       "Romeo Langford   | SG       | 3.6312  | 20\n",
       "Aaron Nesmith    | SF       | 3.4584  | 20\n",
       "Grant Williams   | PF       | 2.49876 | 21\n",
       "Luke Kornet      | C        | 2.25    | 25\n",
       "... (5 rows omitted)"
      ]
     },
     "execution_count": 11,
     "metadata": {},
     "output_type": "execute_result"
    }
   ],
   "source": [
    "celtics.select(\"PLAYER\", \"POSITION\", \"SALARY\", \"AGE\")"
   ]
  },
  {
   "cell_type": "code",
   "execution_count": 12,
   "metadata": {},
   "outputs": [
    {
     "data": {
      "text/html": [
       "<table border=\"1\" class=\"dataframe\">\n",
       "    <thead>\n",
       "        <tr>\n",
       "            <th>PLAYER</th> <th>POSITION</th> <th>SALARY</th> <th>AGE</th>\n",
       "        </tr>\n",
       "    </thead>\n",
       "    <tbody>\n",
       "        <tr>\n",
       "            <td>Kemba Walker    </td> <td>PG      </td> <td>34.3791</td> <td>30  </td>\n",
       "        </tr>\n",
       "        <tr>\n",
       "            <td>Jaylen Brown    </td> <td>SG      </td> <td>22.9911</td> <td>23  </td>\n",
       "        </tr>\n",
       "        <tr>\n",
       "            <td>Evan Fournier   </td> <td>SG      </td> <td>17     </td> <td>27  </td>\n",
       "        </tr>\n",
       "        <tr>\n",
       "            <td>Marcus Smart    </td> <td>PG      </td> <td>12.9464</td> <td>26  </td>\n",
       "        </tr>\n",
       "        <tr>\n",
       "            <td>Jayson Tatum    </td> <td>PF      </td> <td>9.89712</td> <td>22  </td>\n",
       "        </tr>\n",
       "        <tr>\n",
       "            <td>Tristan Thompson</td> <td>C       </td> <td>9.258  </td> <td>29  </td>\n",
       "        </tr>\n",
       "        <tr>\n",
       "            <td>Romeo Langford  </td> <td>SG      </td> <td>3.6312 </td> <td>20  </td>\n",
       "        </tr>\n",
       "        <tr>\n",
       "            <td>Aaron Nesmith   </td> <td>SF      </td> <td>3.4584 </td> <td>20  </td>\n",
       "        </tr>\n",
       "        <tr>\n",
       "            <td>Grant Williams  </td> <td>PF      </td> <td>2.49876</td> <td>21  </td>\n",
       "        </tr>\n",
       "        <tr>\n",
       "            <td>Luke Kornet     </td> <td>C       </td> <td>2.25   </td> <td>25  </td>\n",
       "        </tr>\n",
       "    </tbody>\n",
       "</table>\n",
       "<p>... (5 rows omitted)</p>"
      ],
      "text/plain": [
       "PLAYER           | POSITION | SALARY  | AGE\n",
       "Kemba Walker     | PG       | 34.3791 | 30\n",
       "Jaylen Brown     | SG       | 22.9911 | 23\n",
       "Evan Fournier    | SG       | 17      | 27\n",
       "Marcus Smart     | PG       | 12.9464 | 26\n",
       "Jayson Tatum     | PF       | 9.89712 | 22\n",
       "Tristan Thompson | C        | 9.258   | 29\n",
       "Romeo Langford   | SG       | 3.6312  | 20\n",
       "Aaron Nesmith    | SF       | 3.4584  | 20\n",
       "Grant Williams   | PF       | 2.49876 | 21\n",
       "Luke Kornet      | C        | 2.25    | 25\n",
       "... (5 rows omitted)"
      ]
     },
     "execution_count": 12,
     "metadata": {},
     "output_type": "execute_result"
    }
   ],
   "source": [
    "celtics.drop('TEAM')"
   ]
  },
  {
   "cell_type": "code",
   "execution_count": 13,
   "metadata": {},
   "outputs": [
    {
     "data": {
      "text/html": [
       "<table border=\"1\" class=\"dataframe\">\n",
       "    <thead>\n",
       "        <tr>\n",
       "            <th>PLAYER</th> <th>POSITION</th> <th>TEAM</th> <th>SALARY</th> <th>AGE</th>\n",
       "        </tr>\n",
       "    </thead>\n",
       "    <tbody>\n",
       "        <tr>\n",
       "            <td>Kemba Walker    </td> <td>PG      </td> <td>BOS </td> <td>34.3791</td> <td>30  </td>\n",
       "        </tr>\n",
       "        <tr>\n",
       "            <td>Jaylen Brown    </td> <td>SG      </td> <td>BOS </td> <td>22.9911</td> <td>23  </td>\n",
       "        </tr>\n",
       "        <tr>\n",
       "            <td>Evan Fournier   </td> <td>SG      </td> <td>BOS </td> <td>17     </td> <td>27  </td>\n",
       "        </tr>\n",
       "        <tr>\n",
       "            <td>Marcus Smart    </td> <td>PG      </td> <td>BOS </td> <td>12.9464</td> <td>26  </td>\n",
       "        </tr>\n",
       "        <tr>\n",
       "            <td>Jayson Tatum    </td> <td>PF      </td> <td>BOS </td> <td>9.89712</td> <td>22  </td>\n",
       "        </tr>\n",
       "        <tr>\n",
       "            <td>Tristan Thompson</td> <td>C       </td> <td>BOS </td> <td>9.258  </td> <td>29  </td>\n",
       "        </tr>\n",
       "        <tr>\n",
       "            <td>Romeo Langford  </td> <td>SG      </td> <td>BOS </td> <td>3.6312 </td> <td>20  </td>\n",
       "        </tr>\n",
       "        <tr>\n",
       "            <td>Aaron Nesmith   </td> <td>SF      </td> <td>BOS </td> <td>3.4584 </td> <td>20  </td>\n",
       "        </tr>\n",
       "        <tr>\n",
       "            <td>Grant Williams  </td> <td>PF      </td> <td>BOS </td> <td>2.49876</td> <td>21  </td>\n",
       "        </tr>\n",
       "        <tr>\n",
       "            <td>Luke Kornet     </td> <td>C       </td> <td>BOS </td> <td>2.25   </td> <td>25  </td>\n",
       "        </tr>\n",
       "    </tbody>\n",
       "</table>\n",
       "<p>... (5 rows omitted)</p>"
      ],
      "text/plain": [
       "PLAYER           | POSITION | TEAM | SALARY  | AGE\n",
       "Kemba Walker     | PG       | BOS  | 34.3791 | 30\n",
       "Jaylen Brown     | SG       | BOS  | 22.9911 | 23\n",
       "Evan Fournier    | SG       | BOS  | 17      | 27\n",
       "Marcus Smart     | PG       | BOS  | 12.9464 | 26\n",
       "Jayson Tatum     | PF       | BOS  | 9.89712 | 22\n",
       "Tristan Thompson | C        | BOS  | 9.258   | 29\n",
       "Romeo Langford   | SG       | BOS  | 3.6312  | 20\n",
       "Aaron Nesmith    | SF       | BOS  | 3.4584  | 20\n",
       "Grant Williams   | PF       | BOS  | 2.49876 | 21\n",
       "Luke Kornet      | C        | BOS  | 2.25    | 25\n",
       "... (5 rows omitted)"
      ]
     },
     "execution_count": 13,
     "metadata": {},
     "output_type": "execute_result"
    }
   ],
   "source": [
    "celtics"
   ]
  },
  {
   "cell_type": "code",
   "execution_count": 14,
   "metadata": {},
   "outputs": [],
   "source": [
    "# Assignment"
   ]
  },
  {
   "cell_type": "code",
   "execution_count": 15,
   "metadata": {},
   "outputs": [],
   "source": [
    "celtics = celtics.drop('TEAM')"
   ]
  },
  {
   "cell_type": "code",
   "execution_count": 16,
   "metadata": {},
   "outputs": [],
   "source": [
    "# Big table"
   ]
  },
  {
   "cell_type": "code",
   "execution_count": 17,
   "metadata": {
    "scrolled": true
   },
   "outputs": [
    {
     "data": {
      "text/html": [
       "<table border=\"1\" class=\"dataframe\">\n",
       "    <thead>\n",
       "        <tr>\n",
       "            <th>PLAYER</th> <th>POSITION</th> <th>SALARY</th> <th>AGE</th>\n",
       "        </tr>\n",
       "    </thead>\n",
       "    <tbody>\n",
       "        <tr>\n",
       "            <td>Kemba Walker           </td> <td>PG      </td> <td>34.3791 </td> <td>30  </td>\n",
       "        </tr>\n",
       "        <tr>\n",
       "            <td>Jaylen Brown           </td> <td>SG      </td> <td>22.9911 </td> <td>23  </td>\n",
       "        </tr>\n",
       "        <tr>\n",
       "            <td>Evan Fournier          </td> <td>SG      </td> <td>17      </td> <td>27  </td>\n",
       "        </tr>\n",
       "        <tr>\n",
       "            <td>Marcus Smart           </td> <td>PG      </td> <td>12.9464 </td> <td>26  </td>\n",
       "        </tr>\n",
       "        <tr>\n",
       "            <td>Jayson Tatum           </td> <td>PF      </td> <td>9.89712 </td> <td>22  </td>\n",
       "        </tr>\n",
       "        <tr>\n",
       "            <td>Tristan Thompson       </td> <td>C       </td> <td>9.258   </td> <td>29  </td>\n",
       "        </tr>\n",
       "        <tr>\n",
       "            <td>Romeo Langford         </td> <td>SG      </td> <td>3.6312  </td> <td>20  </td>\n",
       "        </tr>\n",
       "        <tr>\n",
       "            <td>Aaron Nesmith          </td> <td>SF      </td> <td>3.4584  </td> <td>20  </td>\n",
       "        </tr>\n",
       "        <tr>\n",
       "            <td>Grant Williams         </td> <td>PF      </td> <td>2.49876 </td> <td>21  </td>\n",
       "        </tr>\n",
       "        <tr>\n",
       "            <td>Luke Kornet            </td> <td>C       </td> <td>2.25    </td> <td>25  </td>\n",
       "        </tr>\n",
       "        <tr>\n",
       "            <td>Payton Pritchard       </td> <td>PG      </td> <td>2.0358  </td> <td>22  </td>\n",
       "        </tr>\n",
       "        <tr>\n",
       "            <td>III Robert Williams III</td> <td>C       </td> <td>2.02992 </td> <td>22  </td>\n",
       "        </tr>\n",
       "        <tr>\n",
       "            <td>Semi Ojeleye           </td> <td>PF      </td> <td>1.75295 </td> <td>25  </td>\n",
       "        </tr>\n",
       "        <tr>\n",
       "            <td>Carsen Edwards         </td> <td>PG      </td> <td>1.51798 </td> <td>22  </td>\n",
       "        </tr>\n",
       "        <tr>\n",
       "            <td>Jabari Parker          </td> <td>PF      </td> <td>0.430729</td> <td>25  </td>\n",
       "        </tr>\n",
       "    </tbody>\n",
       "</table>"
      ],
      "text/plain": [
       "<IPython.core.display.HTML object>"
      ]
     },
     "metadata": {},
     "output_type": "display_data"
    }
   ],
   "source": [
    "celtics.sort('SALARY', descending=True).show()"
   ]
  },
  {
   "cell_type": "code",
   "execution_count": 18,
   "metadata": {},
   "outputs": [],
   "source": [
    "# Small table"
   ]
  },
  {
   "cell_type": "code",
   "execution_count": 19,
   "metadata": {},
   "outputs": [
    {
     "data": {
      "text/html": [
       "<table border=\"1\" class=\"dataframe\">\n",
       "    <thead>\n",
       "        <tr>\n",
       "            <th>PLAYER</th> <th>POSITION</th> <th>SALARY</th> <th>AGE</th>\n",
       "        </tr>\n",
       "    </thead>\n",
       "    <tbody>\n",
       "        <tr>\n",
       "            <td>Kemba Walker </td> <td>PG      </td> <td>34.3791</td> <td>30  </td>\n",
       "        </tr>\n",
       "        <tr>\n",
       "            <td>Jaylen Brown </td> <td>SG      </td> <td>22.9911</td> <td>23  </td>\n",
       "        </tr>\n",
       "        <tr>\n",
       "            <td>Evan Fournier</td> <td>SG      </td> <td>17     </td> <td>27  </td>\n",
       "        </tr>\n",
       "    </tbody>\n",
       "</table>\n",
       "<p>... (12 rows omitted)</p>"
      ],
      "text/plain": [
       "<IPython.core.display.HTML object>"
      ]
     },
     "metadata": {},
     "output_type": "display_data"
    }
   ],
   "source": [
    "celtics.sort('SALARY', descending=True).show(3)"
   ]
  },
  {
   "cell_type": "code",
   "execution_count": 20,
   "metadata": {},
   "outputs": [],
   "source": [
    "# Carry through"
   ]
  },
  {
   "cell_type": "code",
   "execution_count": 21,
   "metadata": {},
   "outputs": [
    {
     "ename": "ValueError",
     "evalue": "label \"POSITION\" not in labels ('PLAYER', 'TEAM', 'SALARY', 'AGE')",
     "output_type": "error",
     "traceback": [
      "\u001b[0;31m---------------------------------------------------------------------------\u001b[0m",
      "\u001b[0;31mValueError\u001b[0m                                Traceback (most recent call last)",
      "\u001b[0;32m<ipython-input-21-774884f2a906>\u001b[0m in \u001b[0;36m<module>\u001b[0;34m\u001b[0m\n\u001b[0;32m----> 1\u001b[0;31m \u001b[0mnba\u001b[0m\u001b[0;34m.\u001b[0m\u001b[0mdrop\u001b[0m\u001b[0;34m(\u001b[0m\u001b[0;34m'POSITION'\u001b[0m\u001b[0;34m)\u001b[0m\u001b[0;34m.\u001b[0m\u001b[0mwhere\u001b[0m\u001b[0;34m(\u001b[0m\u001b[0;34m'POSITION'\u001b[0m\u001b[0;34m,\u001b[0m \u001b[0;34m'PG'\u001b[0m\u001b[0;34m)\u001b[0m\u001b[0;34m\u001b[0m\u001b[0;34m\u001b[0m\u001b[0m\n\u001b[0m",
      "\u001b[0;32m/usr/local/lib/python3.9/site-packages/datascience/tables.py\u001b[0m in \u001b[0;36mwhere\u001b[0;34m(self, column_or_label, value_or_predicate, other)\u001b[0m\n\u001b[1;32m   1334\u001b[0m         \u001b[0mColor\u001b[0m \u001b[0;34m|\u001b[0m \u001b[0mShape\u001b[0m \u001b[0;34m|\u001b[0m \u001b[0mAmount\u001b[0m \u001b[0;34m|\u001b[0m \u001b[0mPrice\u001b[0m\u001b[0;34m\u001b[0m\u001b[0;34m\u001b[0m\u001b[0m\n\u001b[1;32m   1335\u001b[0m         \"\"\"\n\u001b[0;32m-> 1336\u001b[0;31m         \u001b[0mcolumn\u001b[0m \u001b[0;34m=\u001b[0m \u001b[0mself\u001b[0m\u001b[0;34m.\u001b[0m\u001b[0m_get_column\u001b[0m\u001b[0;34m(\u001b[0m\u001b[0mcolumn_or_label\u001b[0m\u001b[0;34m)\u001b[0m\u001b[0;34m\u001b[0m\u001b[0;34m\u001b[0m\u001b[0m\n\u001b[0m\u001b[1;32m   1337\u001b[0m         \u001b[0;32mif\u001b[0m \u001b[0mother\u001b[0m \u001b[0;32mis\u001b[0m \u001b[0;32mnot\u001b[0m \u001b[0;32mNone\u001b[0m\u001b[0;34m:\u001b[0m\u001b[0;34m\u001b[0m\u001b[0;34m\u001b[0m\u001b[0m\n\u001b[1;32m   1338\u001b[0m             \u001b[0;32massert\u001b[0m \u001b[0mcallable\u001b[0m\u001b[0;34m(\u001b[0m\u001b[0mvalue_or_predicate\u001b[0m\u001b[0;34m)\u001b[0m\u001b[0;34m,\u001b[0m \u001b[0;34m\"Predicate required for 3-arg where\"\u001b[0m\u001b[0;34m\u001b[0m\u001b[0;34m\u001b[0m\u001b[0m\n",
      "\u001b[0;32m/usr/local/lib/python3.9/site-packages/datascience/tables.py\u001b[0m in \u001b[0;36m_get_column\u001b[0;34m(self, column_or_label)\u001b[0m\n\u001b[1;32m   1995\u001b[0m             \u001b[0;32mreturn\u001b[0m \u001b[0mself\u001b[0m\u001b[0;34m[\u001b[0m\u001b[0mc\u001b[0m\u001b[0;34m]\u001b[0m\u001b[0;34m\u001b[0m\u001b[0;34m\u001b[0m\u001b[0m\n\u001b[1;32m   1996\u001b[0m         \u001b[0;32melif\u001b[0m \u001b[0misinstance\u001b[0m\u001b[0;34m(\u001b[0m\u001b[0mc\u001b[0m\u001b[0;34m,\u001b[0m \u001b[0mstr\u001b[0m\u001b[0;34m)\u001b[0m\u001b[0;34m:\u001b[0m\u001b[0;34m\u001b[0m\u001b[0;34m\u001b[0m\u001b[0m\n\u001b[0;32m-> 1997\u001b[0;31m             \u001b[0;32mraise\u001b[0m \u001b[0mValueError\u001b[0m\u001b[0;34m(\u001b[0m\u001b[0;34m'label \"{}\" not in labels {}'\u001b[0m\u001b[0;34m.\u001b[0m\u001b[0mformat\u001b[0m\u001b[0;34m(\u001b[0m\u001b[0mc\u001b[0m\u001b[0;34m,\u001b[0m \u001b[0mself\u001b[0m\u001b[0;34m.\u001b[0m\u001b[0mlabels\u001b[0m\u001b[0;34m)\u001b[0m\u001b[0;34m)\u001b[0m\u001b[0;34m\u001b[0m\u001b[0;34m\u001b[0m\u001b[0m\n\u001b[0m\u001b[1;32m   1998\u001b[0m         \u001b[0;32melse\u001b[0m\u001b[0;34m:\u001b[0m\u001b[0;34m\u001b[0m\u001b[0;34m\u001b[0m\u001b[0m\n\u001b[1;32m   1999\u001b[0m             \u001b[0;32massert\u001b[0m \u001b[0mlen\u001b[0m\u001b[0;34m(\u001b[0m\u001b[0mc\u001b[0m\u001b[0;34m)\u001b[0m \u001b[0;34m==\u001b[0m \u001b[0mself\u001b[0m\u001b[0;34m.\u001b[0m\u001b[0mnum_rows\u001b[0m\u001b[0;34m,\u001b[0m \u001b[0;34m'column length mismatch'\u001b[0m\u001b[0;34m\u001b[0m\u001b[0;34m\u001b[0m\u001b[0m\n",
      "\u001b[0;31mValueError\u001b[0m: label \"POSITION\" not in labels ('PLAYER', 'TEAM', 'SALARY', 'AGE')"
     ]
    }
   ],
   "source": [
    "nba.drop('POSITION').where('POSITION', 'PG')"
   ]
  },
  {
   "cell_type": "code",
   "execution_count": null,
   "metadata": {},
   "outputs": [],
   "source": []
  }
 ],
 "metadata": {
  "anaconda-cloud": {},
  "kernelspec": {
   "display_name": "Python 3",
   "language": "python",
   "name": "python3"
  },
  "language_info": {
   "codemirror_mode": {
    "name": "ipython",
    "version": 3
   },
   "file_extension": ".py",
   "mimetype": "text/x-python",
   "name": "python",
   "nbconvert_exporter": "python",
   "pygments_lexer": "ipython3",
   "version": "3.9.5"
  }
 },
 "nbformat": 4,
 "nbformat_minor": 1
}
