{
 "cells": [
  {
   "cell_type": "markdown",
   "id": "87c86fae",
   "metadata": {},
   "source": [
    "# Lecture 10A  \n",
    "\n",
    "Data Science 8, Summer 2021"
   ]
  },
  {
   "cell_type": "markdown",
   "id": "02bb7915",
   "metadata": {},
   "source": [
    "- Groups     \n",
    "- Lists\n",
    "- Pivots  "
   ]
  },
  {
   "cell_type": "code",
   "execution_count": null,
   "id": "2ccf5ae0",
   "metadata": {},
   "outputs": [],
   "source": [
    "from datascience import *\n",
    "import numpy as np\n",
    "import warnings\n",
    "warnings.filterwarnings(\"ignore\")\n",
    "\n",
    "%matplotlib inline\n",
    "import matplotlib.pyplot as plots\n",
    "plots.style.use('fivethirtyeight')\n",
    "plots.rcParams[\"patch.force_edgecolor\"] = True\n",
    "\n",
    "#The following allows porting images into a Markdown window\n",
    "from IPython.display import Image"
   ]
  },
  {
   "cell_type": "markdown",
   "id": "9342beca",
   "metadata": {},
   "source": [
    "<h1>Group</h1>\n",
    "\n",
    "<h2> The <span style='font-family:sans-serif'> <font color='blue'> group </font> </span> method aggregates&#8212;with respect to a particular column (attribute)&#8212;all rows having the same categorical value.\n",
    "<ul>\n",
    "    <li> <i>First argument:</i>         Which column to group by</li>\n",
    "    <li> <i>Second argument (Optional):</i> What do we want <span style='font-family:sans-serif'> <font color='blue'> group </font> </span> to do with each unique value of the attribute with respect to which the grouping takes place? </li>\n",
    "    <ul>\n",
    "        <li><span style='font-family:sans-serif'> <font color='blue'> len </font> </span> (default)&#8212;number of grouped values. Counts how many times each category appears.</li>\n",
    "        <li> <span style='font-family:sans-serif'> <font color='blue'> list</font> </span>&#8212;list of all grouped values.</li>\n",
    "        <li><span style='font-family:sans-serif'> <font color='blue'> sum</font> </span>&#8212;total of all grouped values.</li>\n",
    "    </ul>\n",
    "<ul>    \n",
    "<h2>"
   ]
  },
  {
   "cell_type": "code",
   "execution_count": null,
   "id": "1aaaa5f2",
   "metadata": {},
   "outputs": [],
   "source": [
    "cones = Table.read_table(\"cones.csv\").drop(\"Color\")\n",
    "cones"
   ]
  },
  {
   "cell_type": "markdown",
   "id": "67813491",
   "metadata": {},
   "source": [
    "### tbl.group(\"a column name\")"
   ]
  },
  {
   "cell_type": "code",
   "execution_count": null,
   "id": "7e62a944",
   "metadata": {},
   "outputs": [],
   "source": [
    "cones.group(\"Flavor\")"
   ]
  },
  {
   "cell_type": "markdown",
   "id": "14f5a569",
   "metadata": {},
   "source": [
    "### [Visualizer](http://data8.org/interactive_table_functions/)"
   ]
  },
  {
   "cell_type": "markdown",
   "id": "edcd7e32",
   "metadata": {},
   "source": [
    "### tbl.group(\"a column name\", function_name)"
   ]
  },
  {
   "cell_type": "code",
   "execution_count": null,
   "id": "bdd94375",
   "metadata": {},
   "outputs": [],
   "source": [
    "cones"
   ]
  },
  {
   "cell_type": "code",
   "execution_count": null,
   "id": "dfbd5648",
   "metadata": {},
   "outputs": [],
   "source": [
    "cones.group(\"Flavor\", np.mean)"
   ]
  },
  {
   "cell_type": "markdown",
   "id": "413dce41",
   "metadata": {},
   "source": [
    "### [Visualizer](http://data8.org/interactive_table_functions/)"
   ]
  },
  {
   "cell_type": "code",
   "execution_count": null,
   "id": "7977c914",
   "metadata": {},
   "outputs": [],
   "source": [
    "# Remember, the name of the other columns has changed!"
   ]
  },
  {
   "cell_type": "code",
   "execution_count": null,
   "id": "76c2bf14",
   "metadata": {
    "scrolled": true
   },
   "outputs": [],
   "source": [
    "grouped = cones.group(\"Flavor\", np.mean)\n",
    "grouped"
   ]
  },
  {
   "cell_type": "code",
   "execution_count": null,
   "id": "4e943ca9",
   "metadata": {},
   "outputs": [],
   "source": [
    "grouped.column(\"Price\")\n",
    "grouped.column(\"Price mean\")"
   ]
  },
  {
   "cell_type": "code",
   "execution_count": null,
   "id": "f170e722",
   "metadata": {},
   "outputs": [],
   "source": [
    "# What about other functions? Cheapest?\n",
    "cones.group(\"Flavor\", min)"
   ]
  },
  {
   "cell_type": "code",
   "execution_count": null,
   "id": "bb13916c",
   "metadata": {},
   "outputs": [],
   "source": [
    "def identity(arr):\n",
    "    return arr\n",
    "cones.group(\"Flavor\", identity)"
   ]
  },
  {
   "cell_type": "markdown",
   "id": "c8b641e6",
   "metadata": {},
   "source": [
    "### [Visualizer](http://data8.org/interactive_table_functions/)"
   ]
  },
  {
   "cell_type": "markdown",
   "id": "a8c97c3a",
   "metadata": {},
   "source": [
    "### A cooler dataset"
   ]
  },
  {
   "cell_type": "code",
   "execution_count": null,
   "id": "33704825",
   "metadata": {},
   "outputs": [],
   "source": [
    "movies = Table.read_table(\"movies.csv\")\n",
    "movies = movies.with_column(\"Who Watched\", movies.column(\"Yanay Watched\") + 2*movies.column(\"Katherine Watched\"))\n",
    "movies.show(5)"
   ]
  },
  {
   "cell_type": "code",
   "execution_count": null,
   "id": "715ba8b6",
   "metadata": {},
   "outputs": [],
   "source": [
    "# Counts of who watched?"
   ]
  },
  {
   "cell_type": "code",
   "execution_count": null,
   "id": "4555b242",
   "metadata": {},
   "outputs": [],
   "source": [
    "movies.group(\"Who Watched\")"
   ]
  },
  {
   "cell_type": "code",
   "execution_count": null,
   "id": "f371fb8f",
   "metadata": {},
   "outputs": [],
   "source": [
    "# Remember that we can make a bar chart of that\n",
    "movies.group(\"Who Watched\").barh(\"Who Watched\", \"count\")"
   ]
  },
  {
   "cell_type": "markdown",
   "id": "c997d90d",
   "metadata": {},
   "source": [
    "### With a function!"
   ]
  },
  {
   "cell_type": "code",
   "execution_count": null,
   "id": "4539ebdf",
   "metadata": {},
   "outputs": [],
   "source": [
    "movies.group(\"Distributor\", np.average)"
   ]
  },
  {
   "cell_type": "code",
   "execution_count": null,
   "id": "62faaf26",
   "metadata": {},
   "outputs": [],
   "source": [
    "### What's the nan?\n",
    "### What's Title Average?"
   ]
  },
  {
   "cell_type": "code",
   "execution_count": null,
   "id": "677d84dc",
   "metadata": {},
   "outputs": [],
   "source": [
    "not_nan = movies.where(\"Distributor\", are.not_equal_to(\"nan\"))\n",
    "not_nan.drop(\"Title\").group(\"Distributor\", np.average)"
   ]
  },
  {
   "cell_type": "code",
   "execution_count": null,
   "id": "329e7419",
   "metadata": {},
   "outputs": [],
   "source": [
    "# Visualize!\n",
    "not_nan.group(\"Distributor\", np.average).barh(\"Distributor\", \"Budget average\")"
   ]
  },
  {
   "cell_type": "code",
   "execution_count": null,
   "id": "7cf85b20",
   "metadata": {},
   "outputs": [],
   "source": [
    "# Visualize but better\n",
    "not_nan.group(\"Distributor\", np.average)\\\n",
    "        .sort(\"Budget average\")\\\n",
    "        .select(\"Distributor\", \"Budget average\", \"Domestic Gross average\")\\\n",
    "        .barh(\"Distributor\")"
   ]
  },
  {
   "cell_type": "code",
   "execution_count": null,
   "id": "1d1263b4",
   "metadata": {},
   "outputs": [],
   "source": [
    "# Time for some depressing plots :(\n",
    "# Treat year as a category\n",
    "movies.group(\"Year\")"
   ]
  },
  {
   "cell_type": "code",
   "execution_count": null,
   "id": "050c1508",
   "metadata": {},
   "outputs": [],
   "source": [
    "# average\n",
    "movies.group(\"Year\", np.average)"
   ]
  },
  {
   "cell_type": "code",
   "execution_count": null,
   "id": "11a5d83c",
   "metadata": {
    "scrolled": true
   },
   "outputs": [],
   "source": [
    "movies.group(\"Year\", np.average).select(\"Year\", \"Domestic Gross average\", \"Budget average\").plot(\"Year\")"
   ]
  },
  {
   "cell_type": "markdown",
   "id": "bacabeb2",
   "metadata": {},
   "source": [
    "<h1> Lists </h1>\n",
    "\n",
    "<h3> In one sense, lists are like arrays&#8212;they're a sequence of values:\n",
    "<ul> \n",
    "    <li>Separated by commas; </li>\n",
    "    <li> Flanked on the two sides by a pair of square brackets [,,,]</li>\n",
    "</ul>\n",
    "</h3>\n",
    "\n",
    "    \n",
    "<h3>\n",
    "Distinctions between <tt>array</tt> and <tt>list</tt>\n",
    "<ul> \n",
    "    <li>Elements of an array <i>must be</i> of the same type.</li>\n",
    "    <li> Elements of a list <i>need not be</i> of the same type.</li>\n",
    "    <li> We can have nesting in a list&#8212;e.g., an array within a list, or a list within a list, etc. </li>\n",
    "    <li> Arrays are natural for holding columns. </li>\n",
    "    <li> Lists are natural for holding rows, since the elements across a row in a table need not be of the same type.</li>\n",
    "</ul>\n",
    "</h3>  "
   ]
  },
  {
   "cell_type": "markdown",
   "id": "31e687d2",
   "metadata": {},
   "source": [
    "<h4>A list similar to an array</h4>"
   ]
  },
  {
   "cell_type": "code",
   "execution_count": null,
   "id": "84ff061f",
   "metadata": {},
   "outputs": [],
   "source": [
    "[1, 5, 9]"
   ]
  },
  {
   "cell_type": "markdown",
   "id": "eb39da66",
   "metadata": {},
   "source": [
    "<h4>Lists that contains multiple types of entries.</h4>"
   ]
  },
  {
   "cell_type": "code",
   "execution_count": null,
   "id": "19247cc0",
   "metadata": {},
   "outputs": [],
   "source": [
    "[1, 5, 'hello', 5.0]"
   ]
  },
  {
   "cell_type": "markdown",
   "id": "85263313",
   "metadata": {},
   "source": [
    "### Lists vs arrays"
   ]
  },
  {
   "cell_type": "code",
   "execution_count": null,
   "id": "9c2b9fa5",
   "metadata": {
    "scrolled": true
   },
   "outputs": [],
   "source": [
    "# as table values both work!\n",
    "abc=Table().with_column('K', [3, 4])\n",
    "abc"
   ]
  },
  {
   "cell_type": "code",
   "execution_count": null,
   "id": "f96e04a2",
   "metadata": {},
   "outputs": [],
   "source": [
    "# many numpy functions work on lists\n",
    "# note that with the call to append it was converted to an array\n",
    "np.average([1,2,3]), np.append([1,2,3], 4), np.diff([1,2,3]), np.cumsum([1,2,3]), min([1,2,3])"
   ]
  },
  {
   "cell_type": "code",
   "execution_count": null,
   "id": "6bcf21df",
   "metadata": {},
   "outputs": [],
   "source": [
    "# But many do not work the best\n",
    "np.average([1,2,\"shoe\"])"
   ]
  },
  {
   "cell_type": "code",
   "execution_count": null,
   "id": "46404147",
   "metadata": {},
   "outputs": [],
   "source": [
    "# Why even bother with arrays then in the first place?\n",
    "[1,2,3] * 3"
   ]
  },
  {
   "cell_type": "code",
   "execution_count": null,
   "id": "551e030f",
   "metadata": {},
   "outputs": [],
   "source": [
    "[1,2,3] / 3"
   ]
  },
  {
   "cell_type": "code",
   "execution_count": null,
   "id": "6fb45607",
   "metadata": {},
   "outputs": [],
   "source": [
    "[1,2,3] - 4"
   ]
  },
  {
   "cell_type": "code",
   "execution_count": null,
   "id": "c5a18ca7",
   "metadata": {},
   "outputs": [],
   "source": [
    "# .item?\n",
    "[1,2,3].item(1)"
   ]
  },
  {
   "cell_type": "code",
   "execution_count": null,
   "id": "3a325da5",
   "metadata": {},
   "outputs": [],
   "source": [
    "# indexing\n",
    "[1,2,3][1]"
   ]
  },
  {
   "cell_type": "code",
   "execution_count": null,
   "id": "bd8a5632",
   "metadata": {},
   "outputs": [],
   "source": [
    "a = \"loki\".split(\"o\")\n",
    "a"
   ]
  },
  {
   "cell_type": "code",
   "execution_count": null,
   "id": "add54bb3",
   "metadata": {},
   "outputs": [],
   "source": [
    "a[0]"
   ]
  },
  {
   "cell_type": "code",
   "execution_count": null,
   "id": "353cf95c",
   "metadata": {},
   "outputs": [],
   "source": [
    "a[1]"
   ]
  },
  {
   "cell_type": "markdown",
   "id": "74c1b144",
   "metadata": {},
   "source": [
    "<h3>Nesting a List</h3>"
   ]
  },
  {
   "cell_type": "code",
   "execution_count": null,
   "id": "504a1b82",
   "metadata": {},
   "outputs": [],
   "source": [
    "nest = [[\"multi\", \"verse\"], [\"of\", \"madness\"]]\n",
    "nest"
   ]
  },
  {
   "cell_type": "code",
   "execution_count": null,
   "id": "71ea9209",
   "metadata": {},
   "outputs": [],
   "source": [
    "nest[0]"
   ]
  },
  {
   "cell_type": "code",
   "execution_count": null,
   "id": "4b11ab2e",
   "metadata": {},
   "outputs": [],
   "source": [
    "nest[1][0]"
   ]
  },
  {
   "cell_type": "markdown",
   "id": "91529d67",
   "metadata": {},
   "source": [
    "<h3> Create an empty table with only the column labels specified</h3>"
   ]
  },
  {
   "cell_type": "code",
   "execution_count": null,
   "id": "52f620ae",
   "metadata": {},
   "outputs": [],
   "source": [
    "drinks = Table(['Drink', 'Cafe', 'Price'])\n",
    "drinks"
   ]
  },
  {
   "cell_type": "markdown",
   "id": "25bf0934",
   "metadata": {},
   "source": [
    "<h3>Now construct the table row by row</h3>\n",
    "\n",
    "<h3>New Function Alert: <tt>table_name.with_rows([])</tt> </h3>\n",
    "\n",
    "<h4>Notice we have a list of four items, each of which is a list in its own right.</h4>"
   ]
  },
  {
   "cell_type": "code",
   "execution_count": null,
   "id": "fb159a49",
   "metadata": {},
   "outputs": [],
   "source": [
    "drinks = drinks.with_rows([\n",
    "    ['Milk Tea', 'Asha', 5.5],\n",
    "    ['Espresso', 'Strada',  1.75],\n",
    "    ['Latte',    'Strada',  3.25],\n",
    "    ['Espresso', \"FSM\",   2]\n",
    "])\n",
    "drinks"
   ]
  },
  {
   "cell_type": "code",
   "execution_count": null,
   "id": "0c9d968b",
   "metadata": {},
   "outputs": [],
   "source": [
    "drinks = drinks.with_rows(make_array(\n",
    "    make_array('Milk Tea', 'Asha', 5.5),\n",
    "    make_array('Espresso', 'Strada',  1.75),\n",
    "    make_array('Latte',    'Strada',  3.25),\n",
    "    make_array('Espresso', \"FSM\",   2)\n",
    "))\n",
    "drinks"
   ]
  },
  {
   "cell_type": "code",
   "execution_count": null,
   "id": "9b1c83f2",
   "metadata": {},
   "outputs": [],
   "source": [
    "## Questions about lists (they aren't that important)\n",
    "## Slides"
   ]
  },
  {
   "cell_type": "markdown",
   "id": "28ba735b",
   "metadata": {},
   "source": [
    "# Cross Classification"
   ]
  },
  {
   "cell_type": "code",
   "execution_count": null,
   "id": "5a25e56e",
   "metadata": {},
   "outputs": [],
   "source": [
    "movies"
   ]
  },
  {
   "cell_type": "markdown",
   "id": "48b2a633",
   "metadata": {},
   "source": [
    "### tbl.group([list or array of column names], function)"
   ]
  },
  {
   "cell_type": "code",
   "execution_count": null,
   "id": "3da358a1",
   "metadata": {},
   "outputs": [],
   "source": [
    "movies.group([\"Category\", \"Yanay Watched\"])"
   ]
  },
  {
   "cell_type": "code",
   "execution_count": null,
   "id": "83a159a4",
   "metadata": {},
   "outputs": [],
   "source": [
    "# With a function\n",
    "movies_small = movies.select(\"Category\", \"Yanay Watched\", \"Domestic Gross\", \"Budget\")\n",
    "movies_small.group([\"Category\", \"Yanay Watched\"], np.average)"
   ]
  },
  {
   "cell_type": "code",
   "execution_count": null,
   "id": "0015be66",
   "metadata": {},
   "outputs": [],
   "source": [
    "# Can also use an array as the argument\n",
    "movies_small.group(make_array(\"Category\", \"Yanay Watched\"), np.average)"
   ]
  },
  {
   "cell_type": "code",
   "execution_count": null,
   "id": "4b3ed565",
   "metadata": {},
   "outputs": [],
   "source": [
    "## Multi column Group Questions?\n",
    "## Slides"
   ]
  },
  {
   "cell_type": "markdown",
   "id": "677152ac",
   "metadata": {},
   "source": [
    "# Pivot Tables\n",
    "\n",
    "## Pivot Tables $\\longleftrightarrow$ Discern Association Between Two Categorical Variables\n",
    "\n",
    "## Scatter Plots $\\longleftrightarrow$ Discern Association Between Two Numerical Variables"
   ]
  },
  {
   "cell_type": "markdown",
   "id": "4b26b5fe",
   "metadata": {},
   "source": [
    "<h2>\n",
    "Example:</h2>\n",
    "    <ul>\n",
    "        <li> <h3>Type of Environment A Person Lives In: Big City, Suburb, Rural.</h3></li>\n",
    "        <li> <h3>Political Party Affiliation: Republican, Democratic, Libertarian, Green, Other.</h3> </li>\n",
    "    </ul>\n",
    "</h2>\n",
    "\n",
    "<h4> One of these categories is assigned to the horiztonal axis of the Pivot Table, and the other is assigned to the vertical axis, thereby creating a $3\\times 5$ or $5\\times 3$ grid. "
   ]
  },
  {
   "cell_type": "code",
   "execution_count": null,
   "id": "cec43a07",
   "metadata": {},
   "outputs": [],
   "source": [
    "chocolates = Table([\"Color\", \"Shape\", \"Amount\", \"Price\"])\n",
    "chocolates = chocolates.with_rows([\n",
    "    [\"Dark\",\"Round\",4,1.3],\n",
    "    [\"Milk\",\"Rectangular\",6,1.2],\n",
    "    [\"White\",\"Rectangular\",12,2],\n",
    "    [\"Dark\",\"Round\",7,1.75],\n",
    "    [\"Milk\",\"Rectangular\",9,1.4],\n",
    "    [\"Milk\",\"Round\",2,1]\n",
    "])\n",
    "chocolates\n",
    "# Yum"
   ]
  },
  {
   "cell_type": "markdown",
   "id": "ae841bc9",
   "metadata": {},
   "source": [
    "`table_name.pivot(\"pivot column\", \"group column\")`"
   ]
  },
  {
   "cell_type": "code",
   "execution_count": null,
   "id": "9f9114d6",
   "metadata": {},
   "outputs": [],
   "source": [
    "# Pivot!\n",
    "chocolates.pivot(\"Shape\", \"Color\")"
   ]
  },
  {
   "cell_type": "markdown",
   "id": "1813a071",
   "metadata": {},
   "source": [
    "### [Visualizer](http://data8.org/interactive_table_functions/)"
   ]
  },
  {
   "cell_type": "code",
   "execution_count": null,
   "id": "763291b0",
   "metadata": {},
   "outputs": [],
   "source": [
    "### How to Read the Table?\n",
    "### What about Ruby Chocolate :("
   ]
  },
  {
   "cell_type": "markdown",
   "id": "9a91a2ff",
   "metadata": {},
   "source": [
    "### Aggregation on Pivot Tables"
   ]
  },
  {
   "cell_type": "markdown",
   "id": "7f4a0b1a",
   "metadata": {},
   "source": [
    "`table_name.pivot(\"pivot column\", \"group column\", \"values\", collect_function)`"
   ]
  },
  {
   "cell_type": "code",
   "execution_count": null,
   "id": "e8819e34",
   "metadata": {},
   "outputs": [],
   "source": [
    "# How does average price depend on the shape and color?\n",
    "chocolates.pivot(\"Shape\", \"Color\", \"Price\", np.average)"
   ]
  },
  {
   "cell_type": "markdown",
   "id": "d4b98f64",
   "metadata": {},
   "source": [
    "### [Visualizer](http://data8.org/interactive_table_functions/)"
   ]
  },
  {
   "cell_type": "code",
   "execution_count": null,
   "id": "932e8477",
   "metadata": {},
   "outputs": [],
   "source": [
    "pivoted = chocolates.pivot(\"Shape\", \"Color\", \"Price\", np.average)\n",
    "pivoted"
   ]
  },
  {
   "cell_type": "code",
   "execution_count": null,
   "id": "14f35325",
   "metadata": {},
   "outputs": [],
   "source": [
    "pivoted.barh(\"Color\")"
   ]
  },
  {
   "cell_type": "code",
   "execution_count": null,
   "id": "a58e18d0",
   "metadata": {},
   "outputs": [],
   "source": [
    "### Back to the movies table!"
   ]
  },
  {
   "cell_type": "code",
   "execution_count": null,
   "id": "d84d6fec",
   "metadata": {},
   "outputs": [],
   "source": [
    "movies.show(3)"
   ]
  },
  {
   "cell_type": "code",
   "execution_count": null,
   "id": "6ed1ebc4",
   "metadata": {},
   "outputs": [],
   "source": [
    "# Yanay vs Katherine\n",
    "movies.pivot(\"Yanay Watched\", \"Katherine Watched\")"
   ]
  },
  {
   "cell_type": "code",
   "execution_count": null,
   "id": "2d5319b8",
   "metadata": {},
   "outputs": [],
   "source": [
    "# I don't like those column names or the 0 and 1 :3\n",
    "our_movies = movies.pivot(\"Yanay Watched\", \"Katherine Watched\")\n",
    "our_movies.relabeled(\"0\", \"Yanay didn't watch\")\\\n",
    "          .relabeled(\"1\", \"Yanay did watch\")\\\n",
    "          .with_column(\"Katherine Watched\", [\"No\", \"Yes\"])"
   ]
  },
  {
   "cell_type": "code",
   "execution_count": null,
   "id": "9c5b9243",
   "metadata": {},
   "outputs": [],
   "source": [
    "movies.pivot(\"Distributor\", \"Category\")"
   ]
  },
  {
   "cell_type": "code",
   "execution_count": null,
   "id": "eab8196d",
   "metadata": {},
   "outputs": [],
   "source": [
    "movies.pivot(\"Distributor\", \"Category\", \"Domestic Gross\", np.average)"
   ]
  },
  {
   "cell_type": "code",
   "execution_count": null,
   "id": "69abfec4",
   "metadata": {},
   "outputs": [],
   "source": [
    "movies.pivot(\"Distributor\", \"Category\", \"Domestic Gross\", np.average).barh(\"Category\")"
   ]
  },
  {
   "cell_type": "code",
   "execution_count": null,
   "id": "8f6e44f9",
   "metadata": {},
   "outputs": [],
   "source": [
    "## What do you see?\n",
    "## Disney vs Warner Bros vs 20th Century Fox vs Sony in Super Hero movies?\n",
    "## Questions about Pivot"
   ]
  },
  {
   "cell_type": "markdown",
   "id": "cb44a3cc",
   "metadata": {},
   "source": [
    "# Lecture 10B"
   ]
  },
  {
   "cell_type": "markdown",
   "id": "ac044b61",
   "metadata": {},
   "source": [
    "## Challenge Question ##"
   ]
  },
  {
   "cell_type": "code",
   "execution_count": null,
   "id": "6892d409",
   "metadata": {},
   "outputs": [],
   "source": [
    "sky = Table.read_table('skyscrapers_v2.csv')\n",
    "sky = (sky.with_column('age', 2021 - sky.column('completed'))\n",
    "          .drop('completed'))\n",
    "sky.show(3)"
   ]
  },
  {
   "cell_type": "markdown",
   "id": "440da5c7",
   "metadata": {},
   "source": [
    "Don't read ahead until you try the challenge questions yourself first!"
   ]
  },
  {
   "cell_type": "code",
   "execution_count": null,
   "id": "74f8d630",
   "metadata": {},
   "outputs": [],
   "source": [
    "# 1 (Using Group)\n",
    "sky.select('material', 'city', 'height').group(['city', 'material'], collect=max)"
   ]
  },
  {
   "cell_type": "code",
   "execution_count": null,
   "id": "d2c485a5",
   "metadata": {
    "scrolled": true
   },
   "outputs": [],
   "source": [
    "# 1 (Using Pivot)\n",
    "sky.pivot('material', 'city', values='height', collect=max).show()"
   ]
  },
  {
   "cell_type": "code",
   "execution_count": null,
   "id": "d350687a",
   "metadata": {},
   "outputs": [],
   "source": [
    "# 2\n",
    "sky_pivoted = sky.pivot('material', 'city', values='age', collect=max)\n",
    "sky_pivoted = sky_pivoted.with_column(\n",
    "    'difference', \n",
    "    abs(sky_pivoted.column('steel') - sky_pivoted.column('concrete'))\n",
    ")\n",
    "sky_pivoted"
   ]
  },
  {
   "cell_type": "markdown",
   "id": "6347ef80",
   "metadata": {},
   "source": [
    "### Take-home question: try it here!"
   ]
  },
  {
   "cell_type": "code",
   "execution_count": null,
   "id": "e3757503",
   "metadata": {},
   "outputs": [],
   "source": [
    "# Generate a table of the names of the oldest buildings for each \n",
    "# material for each city:\n"
   ]
  },
  {
   "cell_type": "markdown",
   "id": "d384cfcb",
   "metadata": {},
   "source": [
    "## Joins ##"
   ]
  },
  {
   "cell_type": "code",
   "execution_count": null,
   "id": "39d8d1d0",
   "metadata": {},
   "outputs": [],
   "source": [
    "drinks"
   ]
  },
  {
   "cell_type": "code",
   "execution_count": null,
   "id": "c93b3d55",
   "metadata": {},
   "outputs": [],
   "source": [
    "discounts = Table().with_columns(\n",
    "    'Coupon % off', make_array(10, 25, 5),\n",
    "    'Location', make_array('Asha', 'Strada', 'Asha')\n",
    ")\n",
    "discounts"
   ]
  },
  {
   "cell_type": "code",
   "execution_count": null,
   "id": "a551fa78",
   "metadata": {},
   "outputs": [],
   "source": [
    "combined = drinks.join('Cafe', discounts, 'Location')\n",
    "combined"
   ]
  },
  {
   "cell_type": "code",
   "execution_count": null,
   "id": "8727c574",
   "metadata": {},
   "outputs": [],
   "source": [
    "# What is the actual price of each drink going to be after using coupons?\n",
    "discounted_frac = 1 - combined.column('Coupon % off') / 100\n",
    "combined.with_column(\n",
    "    'Discounted Price', \n",
    "    combined.column('Price') * discounted_frac\n",
    ")"
   ]
  },
  {
   "cell_type": "markdown",
   "id": "9a6b761c",
   "metadata": {},
   "source": [
    "### What if second table has an identical column label?"
   ]
  },
  {
   "cell_type": "code",
   "execution_count": null,
   "id": "74da28a5",
   "metadata": {},
   "outputs": [],
   "source": [
    "drinks = drinks.with_column('City', ['Berkeley'] * drinks.num_rows)\n",
    "drinks"
   ]
  },
  {
   "cell_type": "code",
   "execution_count": null,
   "id": "9332b450",
   "metadata": {},
   "outputs": [],
   "source": [
    "discounts = discounts.with_column('City', ['Berkeley'] * discounts.num_rows)\n",
    "discounts"
   ]
  },
  {
   "cell_type": "code",
   "execution_count": null,
   "id": "ac314e6e",
   "metadata": {},
   "outputs": [],
   "source": [
    "drinks.join('Cafe', discounts, 'Location')"
   ]
  },
  {
   "cell_type": "markdown",
   "id": "c4dc691c",
   "metadata": {},
   "source": [
    "## Table Review ##"
   ]
  },
  {
   "cell_type": "code",
   "execution_count": null,
   "id": "cee92fcd",
   "metadata": {},
   "outputs": [],
   "source": [
    "sky"
   ]
  },
  {
   "cell_type": "markdown",
   "id": "f4ef6504",
   "metadata": {},
   "source": [
    "What if you wanted to round each height to the nearest foot? How could you add a column to the `sky` table with the rounded heights?"
   ]
  },
  {
   "cell_type": "code",
   "execution_count": null,
   "id": "d90e20c5",
   "metadata": {
    "scrolled": true
   },
   "outputs": [],
   "source": [
    "sky = sky.with_column(\"rounded heights\", sky.apply(np.round, \"height\"))\n",
    "sky"
   ]
  },
  {
   "cell_type": "markdown",
   "id": "345ed6c7",
   "metadata": {},
   "source": [
    "What if you wanted to look at a table of only the names and cities of each skyscraper? What are two ways you could do that? "
   ]
  },
  {
   "cell_type": "code",
   "execution_count": null,
   "id": "b3978928",
   "metadata": {
    "scrolled": true
   },
   "outputs": [],
   "source": [
    "# First way: .select\n",
    "sky.select(\"name\", \"city\")"
   ]
  },
  {
   "cell_type": "code",
   "execution_count": null,
   "id": "0245504a",
   "metadata": {},
   "outputs": [],
   "source": [
    "# Second way: .drop\n",
    "sky.drop(\"material\", \"height\", \"age\", \"rounded heights\")"
   ]
  },
  {
   "cell_type": "markdown",
   "id": "66a8ff47",
   "metadata": {},
   "source": [
    "Let's do some investigation of New York City skyscrapers. "
   ]
  },
  {
   "cell_type": "markdown",
   "id": "f7fc080e",
   "metadata": {},
   "source": [
    "What is the name of the tallest building in New York City?"
   ]
  },
  {
   "cell_type": "code",
   "execution_count": null,
   "id": "a4afb22b",
   "metadata": {},
   "outputs": [],
   "source": [
    "nyc = sky.where(\"city\", \"New York City\")\n",
    "nyc.sort(\"height\", descending = True).column(\"name\").item(0)"
   ]
  },
  {
   "cell_type": "markdown",
   "id": "c6fdcfd8",
   "metadata": {},
   "source": [
    "What is the average height of a building in New York City?"
   ]
  },
  {
   "cell_type": "code",
   "execution_count": null,
   "id": "1d24162d",
   "metadata": {},
   "outputs": [],
   "source": [
    "np.mean(nyc.column(\"height\"))"
   ]
  },
  {
   "cell_type": "markdown",
   "id": "d7c4c3d6",
   "metadata": {},
   "source": [
    "Visualize the distribution of heights of skyscrapers in NYC"
   ]
  },
  {
   "cell_type": "code",
   "execution_count": null,
   "id": "ea5acc34",
   "metadata": {},
   "outputs": [],
   "source": [
    "nyc.hist(\"height\")"
   ]
  },
  {
   "cell_type": "markdown",
   "id": "be1fed1d",
   "metadata": {},
   "source": [
    "In NYC, what is the number of skyscrapers of each material type?"
   ]
  },
  {
   "cell_type": "code",
   "execution_count": null,
   "id": "8ac34775",
   "metadata": {},
   "outputs": [],
   "source": [
    "nyc.group(\"material\")"
   ]
  },
  {
   "cell_type": "markdown",
   "id": "8d600584",
   "metadata": {},
   "source": [
    "In NYC, what is the number of skyscrapers of each material type in skyscrapers older than 50 years?"
   ]
  },
  {
   "cell_type": "code",
   "execution_count": null,
   "id": "249a1f80",
   "metadata": {},
   "outputs": [],
   "source": [
    "nyc.where(\"age\", are.above(50)).group(\"material\")"
   ]
  },
  {
   "cell_type": "markdown",
   "id": "4a986171",
   "metadata": {},
   "source": [
    "It looks like the type of material skyscrapers are made of have changed over time. In NYC, what is the number of skyscrapers of each material type in skyscrapers less than or equal to 10 years?"
   ]
  },
  {
   "cell_type": "code",
   "execution_count": null,
   "id": "8f1109ca",
   "metadata": {},
   "outputs": [],
   "source": [
    "nyc.where(\"age\", are.below(10)).group(\"material\")"
   ]
  },
  {
   "cell_type": "code",
   "execution_count": null,
   "id": "06b3f58e",
   "metadata": {},
   "outputs": [],
   "source": []
  }
 ],
 "metadata": {
  "kernelspec": {
   "display_name": "Python 3",
   "language": "python",
   "name": "python3"
  },
  "language_info": {
   "codemirror_mode": {
    "name": "ipython",
    "version": 3
   },
   "file_extension": ".py",
   "mimetype": "text/x-python",
   "name": "python",
   "nbconvert_exporter": "python",
   "pygments_lexer": "ipython3",
   "version": "3.9.5"
  }
 },
 "nbformat": 4,
 "nbformat_minor": 5
}
