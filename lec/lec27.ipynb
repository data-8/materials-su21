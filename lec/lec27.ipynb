{
 "cells": [
  {
   "cell_type": "markdown",
   "metadata": {},
   "source": [
    "<h1> Lecture 27\n",
    "\n",
    "Data Science 8, Summer 2021 </h1>"
   ]
  },
  {
   "cell_type": "code",
   "execution_count": null,
   "metadata": {},
   "outputs": [],
   "source": [
    "from datascience import *\n",
    "import numpy as np\n",
    "%matplotlib inline\n",
    "import matplotlib.pyplot as plots\n",
    "plots.style.use('fivethirtyeight')"
   ]
  },
  {
   "cell_type": "code",
   "execution_count": null,
   "metadata": {},
   "outputs": [],
   "source": [
    "# Some functions for plotting. You don't have to understand how any\n",
    "# of the functions in this cell work, since they use things we \n",
    "# haven't learned about in Data 8.\n",
    "\n",
    "def resize_window(lim=3.5):\n",
    "    plots.xlim(-lim, lim)\n",
    "    plots.ylim(-lim, lim)\n",
    "    \n",
    "def draw_line(slope=0, intercept=0, x=make_array(-4, 4), color='r'):\n",
    "    y = x*slope + intercept\n",
    "    plots.plot(x, y, color=color)\n",
    "    \n",
    "def draw_vertical_line(x_position, color='black'):\n",
    "    x = make_array(x_position, x_position)\n",
    "    y = make_array(-4, 4)\n",
    "    plots.plot(x, y, color=color)\n",
    "    \n",
    "def make_correlated_data(r):\n",
    "    x = np.random.normal(0, 1, 1000)\n",
    "    z = np.random.normal(0, 1, 1000)\n",
    "    y = r*x + (np.sqrt(1-r**2))*z\n",
    "    return x, y\n",
    "\n",
    "def r_table(r):\n",
    "    \"\"\"\n",
    "    Generate a table of 1000 x,y data points in standard units\n",
    "    whose correlation is approximately equal to r\n",
    "    \"\"\"\n",
    "    np.random.seed(8)\n",
    "    x, y = make_correlated_data(r)\n",
    "    return Table().with_columns('x', x, 'y', y)"
   ]
  },
  {
   "cell_type": "markdown",
   "metadata": {},
   "source": [
    "## Slope & Intercept"
   ]
  },
  {
   "cell_type": "code",
   "execution_count": null,
   "metadata": {},
   "outputs": [],
   "source": [
    "def standard_units(x):\n",
    "    \"\"\"Converts an array x to standard units\"\"\"\n",
    "    return (x - np.mean(x)) / np.std(x)\n",
    "\n",
    "def correlation(t, x, y):\n",
    "    x_su = standard_units(t.column(x))\n",
    "    y_su = standard_units(t.column(y))\n",
    "    return np.mean(x_su * y_su)"
   ]
  },
  {
   "cell_type": "code",
   "execution_count": null,
   "metadata": {},
   "outputs": [],
   "source": [
    "def slope(t, x, y):\n",
    "    r = correlation(t, x, y)\n",
    "    sd_x = np.std(t.column(x))\n",
    "    sd_y = np.std(t.column(y))\n",
    "    return r*sd_y/sd_x\n",
    "    \n",
    "def intercept(t, x, y):\n",
    "    mean_x = np.mean(t.column(x))\n",
    "    mean_y = np.mean(t.column(y))\n",
    "    return mean_y - slope(t, x, y) * mean_x"
   ]
  },
  {
   "cell_type": "code",
   "execution_count": null,
   "metadata": {},
   "outputs": [],
   "source": [
    "# r_table generates data for x and y such that the correlation of x and y is 0.5\n",
    "example = r_table(0.5)"
   ]
  },
  {
   "cell_type": "code",
   "execution_count": null,
   "metadata": {},
   "outputs": [],
   "source": [
    "example"
   ]
  },
  {
   "cell_type": "markdown",
   "metadata": {},
   "source": [
    "What do you expect the slope and intercept to be?"
   ]
  },
  {
   "cell_type": "code",
   "execution_count": null,
   "metadata": {},
   "outputs": [],
   "source": [
    "slope(example, 'x', 'y')"
   ]
  },
  {
   "cell_type": "code",
   "execution_count": null,
   "metadata": {},
   "outputs": [],
   "source": [
    "intercept(example, 'x', 'y')"
   ]
  },
  {
   "cell_type": "markdown",
   "metadata": {},
   "source": [
    "## Discussion Question"
   ]
  },
  {
   "cell_type": "code",
   "execution_count": null,
   "metadata": {},
   "outputs": [],
   "source": [
    "mean_midterm = 70\n",
    "sd_midterm = 10\n",
    "\n",
    "mean_final = 50\n",
    "sd_final =12\n",
    "r = 0.75\n",
    "\n",
    "slope_ex = r * sd_final/sd_midterm\n",
    "int_ex = mean_final - slope_ex * mean_midterm\n",
    "\n",
    "slope_ex * 90 + int_ex"
   ]
  },
  {
   "cell_type": "markdown",
   "metadata": {},
   "source": [
    "## Movies data"
   ]
  },
  {
   "cell_type": "markdown",
   "metadata": {},
   "source": [
    "Let's predict Domestic Gross from Budget"
   ]
  },
  {
   "cell_type": "code",
   "execution_count": null,
   "metadata": {},
   "outputs": [],
   "source": [
    "movies = Table.read_table('movies.csv')\n",
    "movies.show(11)"
   ]
  },
  {
   "cell_type": "code",
   "execution_count": null,
   "metadata": {},
   "outputs": [],
   "source": [
    "cash = movies.select(\"Budget\", \"Domestic Gross\")\n",
    "cash"
   ]
  },
  {
   "cell_type": "markdown",
   "metadata": {},
   "source": [
    "First, let's visualize the data"
   ]
  },
  {
   "cell_type": "code",
   "execution_count": null,
   "metadata": {},
   "outputs": [],
   "source": [
    "cash.scatter('Budget','Domestic Gross')"
   ]
  },
  {
   "cell_type": "markdown",
   "metadata": {},
   "source": [
    "Let's use nearest neighbors regression"
   ]
  },
  {
   "cell_type": "code",
   "execution_count": null,
   "metadata": {},
   "outputs": [],
   "source": [
    "def predict_gross_nn(b):\n",
    "    \"\"\"Return a prediction of the domestic gross for a movie \n",
    "    with a budget of b\n",
    "    \n",
    "    The prediction is the average domestic gross of the movies\n",
    "    whose budget is in the range b plus or minus $20 million dollars.\n",
    "    \"\"\"\n",
    "    \n",
    "    close_points = cash.where('Budget', are.between(b-20, b+20))\n",
    "    return np.mean(close_points.column(\"Domestic Gross\"))   "
   ]
  },
  {
   "cell_type": "code",
   "execution_count": null,
   "metadata": {},
   "outputs": [],
   "source": [
    "cash_with_predictions = cash.with_column(\n",
    "    'NN Prediction', cash.apply(predict_gross_nn, 'Budget')\n",
    "    )"
   ]
  },
  {
   "cell_type": "code",
   "execution_count": null,
   "metadata": {
    "scrolled": true
   },
   "outputs": [],
   "source": [
    "cash_with_predictions.scatter('Budget')"
   ]
  },
  {
   "cell_type": "markdown",
   "metadata": {},
   "source": [
    "Let's see our prediction for Domestic Gross for a movie with a Budget of $200 million"
   ]
  },
  {
   "cell_type": "code",
   "execution_count": null,
   "metadata": {},
   "outputs": [],
   "source": [
    "nn_prediction = predict_gross_nn(200)\n",
    "nn_prediction"
   ]
  },
  {
   "cell_type": "markdown",
   "metadata": {},
   "source": [
    "Now let's try linear regression"
   ]
  },
  {
   "cell_type": "code",
   "execution_count": null,
   "metadata": {},
   "outputs": [],
   "source": [
    "cash_slope = slope(cash, \"Budget\", \"Domestic Gross\")\n",
    "cash_intercept = intercept(cash, \"Budget\", \"Domestic Gross\")\n",
    "cash_slope, cash_intercept"
   ]
  },
  {
   "cell_type": "markdown",
   "metadata": {},
   "source": [
    "Let's see our prediction for Domestic Gross for a movie with a Budget of $200 million using linear regression."
   ]
  },
  {
   "cell_type": "code",
   "execution_count": null,
   "metadata": {},
   "outputs": [],
   "source": [
    "linear_prediction = cash_slope * 200 + cash_intercept\n",
    "linear_prediction"
   ]
  },
  {
   "cell_type": "code",
   "execution_count": null,
   "metadata": {},
   "outputs": [],
   "source": [
    "linear_predictions = cash_slope * cash.column(\"Budget\") + cash_intercept\n",
    "cash_with_predictions.with_column(\"Linear Prediction\", linear_predictions).scatter(\"Budget\")"
   ]
  },
  {
   "cell_type": "code",
   "execution_count": null,
   "metadata": {},
   "outputs": [],
   "source": [
    "cash_with_predictions.with_column(\"Linear Prediction\", linear_predictions).scatter(\"Budget\")\n",
    "\n",
    "# plot a line (out of scope)\n",
    "# draw line is a function defined at the top of the notebook\n",
    "draw_line(cash_slope, cash_intercept, make_array(-100, 500), color='g')\n",
    "plots.xlim([0, 400]);"
   ]
  },
  {
   "cell_type": "markdown",
   "metadata": {},
   "source": [
    "## Least Squares"
   ]
  },
  {
   "cell_type": "markdown",
   "metadata": {},
   "source": [
    "### Error in Estimation"
   ]
  },
  {
   "cell_type": "code",
   "execution_count": null,
   "metadata": {},
   "outputs": [],
   "source": [
    "def demographics_errors(slope, intercept):\n",
    "    # Use four convenient points from the original data\n",
    "    sample = [[14.7, 33995], [19.1, 61454], [50.7, 71183], [59.5, 105918]]\n",
    "    demographics.scatter('College%', 'Median Income', alpha=0.5)\n",
    "    xlims = make_array(5, 75)\n",
    "    # Plot a line with the slope and intercept you specified:\n",
    "    plots.plot(xlims, slope * xlims + intercept, lw=4)\n",
    "    # Plot red lines from each of the four points to the line\n",
    "    for x, y in sample:\n",
    "        plots.plot([x, x], [y, slope * x + intercept], color='r', lw=4)"
   ]
  },
  {
   "cell_type": "code",
   "execution_count": null,
   "metadata": {
    "scrolled": false
   },
   "outputs": [],
   "source": [
    "demographics = Table.read_table('district_demographics2016.csv')\n",
    "demographics.show(5)"
   ]
  },
  {
   "cell_type": "code",
   "execution_count": null,
   "metadata": {
    "scrolled": false
   },
   "outputs": [],
   "source": [
    "demographics = demographics.drop(\n",
    "    'State', 'District', 'Percent voting for Clinton')\n",
    "demographics.show(5)"
   ]
  },
  {
   "cell_type": "code",
   "execution_count": null,
   "metadata": {
    "scrolled": true
   },
   "outputs": [],
   "source": [
    "demographics.scatter('College%', 'Median Income')"
   ]
  },
  {
   "cell_type": "markdown",
   "metadata": {},
   "source": [
    "Slide: Discussion question"
   ]
  },
  {
   "cell_type": "code",
   "execution_count": null,
   "metadata": {},
   "outputs": [],
   "source": [
    "correlation(demographics, 'College%', 'Median Income')"
   ]
  },
  {
   "cell_type": "code",
   "execution_count": null,
   "metadata": {},
   "outputs": [],
   "source": [
    "regression_slope = slope(demographics, 'College%', 'Median Income')\n",
    "regression_intercept = intercept(demographics, 'College%', 'Median Income')\n",
    "regression_slope, regression_intercept"
   ]
  },
  {
   "cell_type": "code",
   "execution_count": null,
   "metadata": {},
   "outputs": [],
   "source": [
    "def fitted_values(t, x, y):\n",
    "    \"\"\"Return an array of the regressions estimates at all the x values\"\"\"\n",
    "    a = slope(t, x, y)\n",
    "    b = intercept(t, x, y)\n",
    "    return a*t.column(x) + b"
   ]
  },
  {
   "cell_type": "code",
   "execution_count": null,
   "metadata": {},
   "outputs": [],
   "source": [
    "predicted = fitted_values(demographics, 'College%', 'Median Income')"
   ]
  },
  {
   "cell_type": "code",
   "execution_count": null,
   "metadata": {},
   "outputs": [],
   "source": [
    "demographics = demographics.with_column(\n",
    "    'Linear Prediction', predicted)\n",
    "demographics.scatter('College%')"
   ]
  },
  {
   "cell_type": "markdown",
   "metadata": {},
   "source": [
    "There are some errors!"
   ]
  },
  {
   "cell_type": "code",
   "execution_count": null,
   "metadata": {},
   "outputs": [],
   "source": [
    "actual = demographics.column('Median Income')\n",
    "errors = actual - predicted"
   ]
  },
  {
   "cell_type": "code",
   "execution_count": null,
   "metadata": {},
   "outputs": [],
   "source": [
    "demographics.with_column('Error', errors)"
   ]
  },
  {
   "cell_type": "markdown",
   "metadata": {},
   "source": [
    "Should we look at the average of errors?"
   ]
  },
  {
   "cell_type": "code",
   "execution_count": null,
   "metadata": {},
   "outputs": [],
   "source": [
    "np.mean(errors)"
   ]
  },
  {
   "cell_type": "code",
   "execution_count": null,
   "metadata": {},
   "outputs": [],
   "source": [
    "np.mean(errors ** 2) ** 0.5"
   ]
  },
  {
   "cell_type": "markdown",
   "metadata": {},
   "source": [
    "We call this value the root mean square error."
   ]
  },
  {
   "cell_type": "code",
   "execution_count": null,
   "metadata": {
    "scrolled": true
   },
   "outputs": [],
   "source": [
    "# function defined at the beginning of this section\n",
    "# uses 4 points, draws a red line from point to it's predicted value \n",
    "# to visualize the error\n",
    "demographics_errors(regression_slope, regression_intercept)"
   ]
  },
  {
   "cell_type": "code",
   "execution_count": null,
   "metadata": {},
   "outputs": [],
   "source": [
    "# takes any slope, any intercept\n",
    "\n",
    "demographics_errors(1500, 20000)"
   ]
  },
  {
   "cell_type": "code",
   "execution_count": null,
   "metadata": {},
   "outputs": [],
   "source": [
    "demographics_errors(-1000, 75000)"
   ]
  },
  {
   "cell_type": "markdown",
   "metadata": {},
   "source": [
    "Slide: Error in Estimation"
   ]
  },
  {
   "cell_type": "markdown",
   "metadata": {},
   "source": [
    "### Root Mean Square Error ###"
   ]
  },
  {
   "cell_type": "code",
   "execution_count": null,
   "metadata": {},
   "outputs": [],
   "source": [
    "def show_demographics_rmse(slope, intercept):\n",
    "    demographics_errors(slope, intercept)\n",
    "    x = demographics.column('College%')\n",
    "    y = demographics.column('Median Income')\n",
    "    prediction = slope * x + intercept\n",
    "    mse = np.mean((y - prediction) ** 2)\n",
    "    print(\"Root mean squared error:\", round(mse ** 0.5, 2))"
   ]
  },
  {
   "cell_type": "code",
   "execution_count": null,
   "metadata": {},
   "outputs": [],
   "source": [
    "show_demographics_rmse(-1000, 75000)"
   ]
  },
  {
   "cell_type": "code",
   "execution_count": null,
   "metadata": {},
   "outputs": [],
   "source": [
    "show_demographics_rmse(1500, 20000)"
   ]
  },
  {
   "cell_type": "code",
   "execution_count": null,
   "metadata": {},
   "outputs": [],
   "source": [
    "show_demographics_rmse(regression_slope, regression_intercept)"
   ]
  },
  {
   "cell_type": "markdown",
   "metadata": {},
   "source": [
    "Slide: Least Squares Line"
   ]
  },
  {
   "cell_type": "markdown",
   "metadata": {},
   "source": [
    "### Numerical Optimization ###"
   ]
  },
  {
   "cell_type": "code",
   "execution_count": null,
   "metadata": {},
   "outputs": [],
   "source": [
    "x = np.arange(1, 3, 0.1)\n",
    "y = (x-2)**2 + 3\n",
    "Table().with_columns('x', x, 'y', y).plot('x')"
   ]
  },
  {
   "cell_type": "code",
   "execution_count": null,
   "metadata": {},
   "outputs": [],
   "source": [
    "def f(x):\n",
    "    return ((x-2)**2) + 3"
   ]
  },
  {
   "cell_type": "code",
   "execution_count": null,
   "metadata": {},
   "outputs": [],
   "source": [
    "minimize(f)"
   ]
  },
  {
   "cell_type": "code",
   "execution_count": null,
   "metadata": {},
   "outputs": [],
   "source": [
    "x = np.arange(-1.5, 1.5, 0.05)\n",
    "y2 = 2 * np.sin(x*np.pi) + x ** 3 + x ** 4 \n",
    "Table().with_columns('x', x, 'y', y2).plot('x')"
   ]
  },
  {
   "cell_type": "code",
   "execution_count": null,
   "metadata": {},
   "outputs": [],
   "source": [
    "def complicated_function(x):\n",
    "    return 2 * np.sin(x*np.pi) + x ** 3 + x ** 4 "
   ]
  },
  {
   "cell_type": "code",
   "execution_count": null,
   "metadata": {},
   "outputs": [],
   "source": [
    "minimize(complicated_function)"
   ]
  },
  {
   "cell_type": "markdown",
   "metadata": {},
   "source": [
    "### Minimizing RMSE ###"
   ]
  },
  {
   "cell_type": "code",
   "execution_count": null,
   "metadata": {},
   "outputs": [],
   "source": [
    "def demographics_rmse(any_slope, any_intercept):\n",
    "    x = demographics.column('College%')\n",
    "    y = demographics.column('Median Income')\n",
    "    estimate = any_slope*x + any_intercept\n",
    "    return (np.mean((y - estimate) ** 2)) ** 0.5"
   ]
  },
  {
   "cell_type": "code",
   "execution_count": null,
   "metadata": {},
   "outputs": [],
   "source": [
    "demographics_rmse(1500, 20000)"
   ]
  },
  {
   "cell_type": "code",
   "execution_count": null,
   "metadata": {},
   "outputs": [],
   "source": [
    "demographics_rmse(-1000, 75000)"
   ]
  },
  {
   "cell_type": "code",
   "execution_count": null,
   "metadata": {},
   "outputs": [],
   "source": [
    "minimize(demographics_rmse)"
   ]
  },
  {
   "cell_type": "code",
   "execution_count": null,
   "metadata": {},
   "outputs": [],
   "source": [
    "make_array(regression_slope, regression_intercept)"
   ]
  },
  {
   "cell_type": "markdown",
   "metadata": {},
   "source": [
    "### Nonlinear Regression ###"
   ]
  },
  {
   "cell_type": "code",
   "execution_count": null,
   "metadata": {},
   "outputs": [],
   "source": [
    "shotput = Table.read_table('shotput.csv')\n",
    "shotput"
   ]
  },
  {
   "cell_type": "code",
   "execution_count": null,
   "metadata": {},
   "outputs": [],
   "source": [
    "shotput.scatter('Weight Lifted')"
   ]
  },
  {
   "cell_type": "code",
   "execution_count": null,
   "metadata": {},
   "outputs": [],
   "source": [
    "def shotput_linear_rmse(any_slope, any_intercept):\n",
    "    x = shotput.column('Weight Lifted')\n",
    "    y = shotput.column('Shot Put Distance')\n",
    "    estimate = any_slope*x + any_intercept\n",
    "    return np.mean((y - estimate) ** 2) ** 0.5"
   ]
  },
  {
   "cell_type": "code",
   "execution_count": null,
   "metadata": {},
   "outputs": [],
   "source": [
    "best_line = minimize(shotput_linear_rmse)\n",
    "best_line"
   ]
  },
  {
   "cell_type": "code",
   "execution_count": null,
   "metadata": {},
   "outputs": [],
   "source": [
    "weights = shotput.column(0)"
   ]
  },
  {
   "cell_type": "code",
   "execution_count": null,
   "metadata": {},
   "outputs": [],
   "source": [
    "linear_fit = best_line.item(0)*weights + best_line.item(1)\n",
    "\n",
    "shotput.with_column(\n",
    "    'Best Line', linear_fit\n",
    ").scatter(0)"
   ]
  },
  {
   "cell_type": "markdown",
   "metadata": {},
   "source": [
    "**Quadratic Function**\n",
    "\n",
    "$$\n",
    "f(x) ~=~ ax^2 + bx + c\n",
    "$$\n",
    "for constants $a$, $b$, and $c$.\n",
    "\n"
   ]
  },
  {
   "cell_type": "code",
   "execution_count": null,
   "metadata": {},
   "outputs": [],
   "source": [
    "def shotput_quadratic_rmse(a, b, c):\n",
    "    x = shotput.column('Weight Lifted')\n",
    "    y = shotput.column('Shot Put Distance')\n",
    "    estimate = a*(x**2) + b*x + c\n",
    "    return np.mean((y - estimate) ** 2) ** 0.5"
   ]
  },
  {
   "cell_type": "code",
   "execution_count": null,
   "metadata": {},
   "outputs": [],
   "source": [
    "best_quad = minimize(shotput_quadratic_rmse)\n",
    "best_quad"
   ]
  },
  {
   "cell_type": "code",
   "execution_count": null,
   "metadata": {},
   "outputs": [],
   "source": [
    "# x = weight lifted = 100 kg\n",
    "# Then predicted shot put distance:\n",
    "\n",
    "(-0.00104)*(100**2) + 0.2827*100 - 1.5318"
   ]
  },
  {
   "cell_type": "code",
   "execution_count": null,
   "metadata": {},
   "outputs": [],
   "source": [
    "quad_fit = best_quad.item(0)*(weights**2) + best_quad.item(1)*weights + best_quad.item(2)"
   ]
  },
  {
   "cell_type": "code",
   "execution_count": null,
   "metadata": {},
   "outputs": [],
   "source": [
    "shotput.with_column('Best Quadratic Curve', quad_fit).scatter(0)"
   ]
  }
 ],
 "metadata": {
  "kernelspec": {
   "display_name": "Python 3 (ipykernel)",
   "language": "python",
   "name": "python3"
  },
  "language_info": {
   "codemirror_mode": {
    "name": "ipython",
    "version": 3
   },
   "file_extension": ".py",
   "mimetype": "text/x-python",
   "name": "python",
   "nbconvert_exporter": "python",
   "pygments_lexer": "ipython3",
   "version": "3.8.10"
  }
 },
 "nbformat": 4,
 "nbformat_minor": 1
}
