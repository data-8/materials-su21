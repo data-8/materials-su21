{
 "cells": [
  {
   "cell_type": "markdown",
   "metadata": {},
   "source": [
    "<h1> Lecture 24A\n",
    "\n",
    "Data Science 8, Summer 2021 </h1>"
   ]
  },
  {
   "cell_type": "code",
   "execution_count": null,
   "metadata": {},
   "outputs": [],
   "source": [
    "from datascience import *\n",
    "import numpy as np\n",
    "import warnings\n",
    "warnings.filterwarnings(\"ignore\")\n",
    "\n",
    "%matplotlib inline\n",
    "import matplotlib.pyplot as plots\n",
    "plots.style.use('fivethirtyeight')\n",
    "plots.rcParams[\"patch.force_edgecolor\"] = True\n",
    "\n",
    "#The following allows porting images into a Markdown window\n",
    "#Syntax: ![title](image_name.png)\n",
    "from IPython.display import Image"
   ]
  },
  {
   "cell_type": "markdown",
   "metadata": {
    "collapsed": true
   },
   "source": [
    "<h2> Central Limit Theorem </h2>"
   ]
  },
  {
   "cell_type": "code",
   "execution_count": null,
   "metadata": {
    "scrolled": true
   },
   "outputs": [],
   "source": [
    "united = Table.read_table('united.csv')\n",
    "united_bins = np.arange(-20, 301, 10)\n",
    "united"
   ]
  },
  {
   "cell_type": "code",
   "execution_count": null,
   "metadata": {
    "scrolled": true
   },
   "outputs": [],
   "source": [
    "united.hist('Delay', bins=united_bins)"
   ]
  },
  {
   "cell_type": "markdown",
   "metadata": {},
   "source": [
    "Compute the Median, Mean, and Standard Deviation of the Delays"
   ]
  },
  {
   "cell_type": "code",
   "execution_count": null,
   "metadata": {
    "scrolled": true
   },
   "outputs": [],
   "source": [
    "delays = united.column('Delay')\n",
    "delay_median = percentile(50, delays)\n",
    "delay_mean = np.mean(delays)\n",
    "delay_sd = np.std(delays)\n",
    "print('Median Delay:', np.round(delay_median,2))\n",
    "print('Mean Delay:', np.round(delay_mean,2))\n",
    "print('Delay Standard Deviation:', np.round(delay_sd,2))"
   ]
  },
  {
   "cell_type": "markdown",
   "metadata": {},
   "source": [
    "Assume that we don't have practical access to the complete data. We'll only sample the data. \n",
    "\n",
    "Let's generate a sample of flights and find the mean delay in that sample (which we'll call the sample mean). The Sample Mean is an estimate of the population mean (i.e., true mean flight delay of all flights)."
   ]
  },
  {
   "cell_type": "code",
   "execution_count": null,
   "metadata": {},
   "outputs": [],
   "source": [
    "def one_sample_mean(sample_size):\n",
    "    \"\"\" \n",
    "    Takes a sample from the population of flights \n",
    "    and computes its mean\n",
    "    \"\"\"\n",
    "    # Recall that the \"sample\" method without an \n",
    "    # argument performs the sampling with replacement\n",
    "    sampled_flights = united.sample(sample_size)\n",
    "    return np.mean(sampled_flights.column('Delay'))"
   ]
  },
  {
   "cell_type": "markdown",
   "metadata": {},
   "source": [
    "Run the function `one_sample_mean` several times:"
   ]
  },
  {
   "cell_type": "code",
   "execution_count": null,
   "metadata": {},
   "outputs": [],
   "source": [
    "one_sample_mean(400)"
   ]
  },
  {
   "cell_type": "markdown",
   "metadata": {},
   "source": [
    "Slides: Distribution of sample mean"
   ]
  },
  {
   "cell_type": "markdown",
   "metadata": {},
   "source": [
    "<h3>Question: How many possible random samples are there?</h3>\n",
    "\n",
    "<h4>In how many possible ways can we draw a sample of size <tt>sample_size=100</tt> from the data set?\n",
    "</h4>"
   ]
  },
  {
   "cell_type": "markdown",
   "metadata": {},
   "source": [
    "Total number of flights in our data set (total population size):"
   ]
  },
  {
   "cell_type": "code",
   "execution_count": null,
   "metadata": {},
   "outputs": [],
   "source": [
    "united.num_rows"
   ]
  },
  {
   "cell_type": "markdown",
   "metadata": {},
   "source": [
    "For each flight we draw, we have 100 possibilities (recall that we sample with replacement):"
   ]
  },
  {
   "cell_type": "code",
   "execution_count": null,
   "metadata": {
    "scrolled": true
   },
   "outputs": [],
   "source": [
    "# How many possible sample means are there?\n",
    "united.num_rows ** 100"
   ]
  },
  {
   "cell_type": "markdown",
   "metadata": {},
   "source": [
    "<h4>How many random samples can we get of size <tt>sample_size=400</tt>?</h4>"
   ]
  },
  {
   "cell_type": "code",
   "execution_count": null,
   "metadata": {
    "scrolled": true
   },
   "outputs": [],
   "source": [
    "# How many possible sample means are there?\n",
    "united.num_rows ** 400"
   ]
  },
  {
   "cell_type": "markdown",
   "metadata": {},
   "source": [
    "Far too many samples to enumerate them all!  So while there *is* a well-defined distribution given by all possible sample means from all samples, it is too hard to compute it exactly.  Instead, we approximate this distribution by drawing 10,000 samples from it (which is much smaller than the ridiculous number above!).  We then draw the histogram of the sample means of those 10,000 samples."
   ]
  },
  {
   "cell_type": "markdown",
   "metadata": {},
   "source": [
    "In particular, to understand the variability of the Sample Mean, let's\n",
    "1. run a large number of trials; that is, take a large number of samples of identical size (e.g., sample_size=400)\n",
    "2. compute the mean of each sample (called the \"Sample Mean\")\n",
    "3. observe the distribution of these sample means."
   ]
  },
  {
   "cell_type": "markdown",
   "metadata": {},
   "source": [
    "Run a large number of trials and compute the mean of each sample"
   ]
  },
  {
   "cell_type": "code",
   "execution_count": null,
   "metadata": {},
   "outputs": [],
   "source": [
    "def many_sample_means(sample_size,num_simulations):\n",
    "    \"\"\"Approximate the distribution of the sample mean\"\"\"\n",
    "    means = make_array()\n",
    "    for i in np.arange(num_simulations):\n",
    "        mean = one_sample_mean(sample_size)\n",
    "        means = np.append(means, mean)\n",
    "    return means"
   ]
  },
  {
   "cell_type": "markdown",
   "metadata": {},
   "source": [
    "Let's look at a sample size = 100 with 10000 replications"
   ]
  },
  {
   "cell_type": "code",
   "execution_count": null,
   "metadata": {},
   "outputs": [],
   "source": [
    "sample_means_100_10000 = many_sample_means(100,10000)"
   ]
  },
  {
   "cell_type": "code",
   "execution_count": null,
   "metadata": {
    "scrolled": true
   },
   "outputs": [],
   "source": [
    "sample_means_100_10000"
   ]
  },
  {
   "cell_type": "code",
   "execution_count": null,
   "metadata": {},
   "outputs": [],
   "source": [
    "len(sample_means_100_10000)"
   ]
  },
  {
   "cell_type": "code",
   "execution_count": null,
   "metadata": {
    "scrolled": false
   },
   "outputs": [],
   "source": [
    "sample_means_100_10000_table = Table().with_column(\n",
    "    'Mean of 100 flight delays', sample_means_100_10000)\n",
    "\n",
    "sample_means_100_10000_table.hist(bins=20)\n",
    "\n",
    "print('Population Mean:', np.round(delay_mean,2))\n",
    "print('Sample Mean:', np.round(np.mean(sample_means_100_10000),2))"
   ]
  },
  {
   "cell_type": "markdown",
   "metadata": {},
   "source": [
    "<h3>Now let's look at the distribution's dependence on sample size.</h3>\n",
    "    \n",
    "What if each sample population contains 400 flights?"
   ]
  },
  {
   "cell_type": "code",
   "execution_count": null,
   "metadata": {
    "scrolled": false
   },
   "outputs": [],
   "source": [
    "sample_means_400_10000 = many_sample_means(400,10000)\n",
    "sample_means_400_10000_table = Table().with_column(\n",
    "    'Mean of 400 flight delays', sample_means_400_10000)\n",
    "\n",
    "sample_means_400_10000_table.hist(bins=20)\n",
    "print('Population Average:', np.round(delay_mean,2))\n",
    "print('Sample Mean:', np.round(np.mean(sample_means_400_10000),2))"
   ]
  },
  {
   "cell_type": "markdown",
   "metadata": {},
   "source": [
    "Now do the same with a sample size of 900 flights."
   ]
  },
  {
   "cell_type": "code",
   "execution_count": null,
   "metadata": {
    "scrolled": false
   },
   "outputs": [],
   "source": [
    "sample_means_900_10000 = many_sample_means(900,10000)\n",
    "sample_means_900_10000_table = Table().with_column(\n",
    "    'Mean of 900 flight delays', sample_means_900_10000).hist(bins=20)\n",
    "\n",
    "print('Population Average:', np.round(delay_mean,2))\n",
    "print('Sample Mean:', np.round(np.mean(sample_means_900_10000),2))"
   ]
  },
  {
   "cell_type": "code",
   "execution_count": null,
   "metadata": {
    "scrolled": true
   },
   "outputs": [],
   "source": [
    "sample_means_100_400_900_table = Table().with_columns(\n",
    "    'Mean of 100 flight delays', sample_means_100_10000,\n",
    "    'Mean of 400 flight delays', sample_means_400_10000)#,\n",
    "    #'Mean of 900 flight delays', sample_means_900_10000)\n",
    "sample_means_100_400_900_table"
   ]
  },
  {
   "cell_type": "markdown",
   "metadata": {},
   "source": [
    "<h4>For comparison, superimpose the histograms for sample sizes 100, 400, and 900:</h4>"
   ]
  },
  {
   "cell_type": "code",
   "execution_count": null,
   "metadata": {
    "scrolled": true
   },
   "outputs": [],
   "source": [
    "sample_means_100_400_900_table.hist(bins=20)"
   ]
  },
  {
   "cell_type": "markdown",
   "metadata": {},
   "source": [
    "Let's interpret the picture above?\n",
    "Think in terms of \"center of mass\" and spread.\n",
    "Where is our mean?\n",
    "What does this tell you about the effect of increasing the sample size?"
   ]
  },
  {
   "cell_type": "markdown",
   "metadata": {},
   "source": [
    "Slides: specifying distribution"
   ]
  },
  {
   "cell_type": "markdown",
   "metadata": {},
   "source": [
    "<h3>Quantifying the effect of sample size on spread:</h3>"
   ]
  },
  {
   "cell_type": "code",
   "execution_count": null,
   "metadata": {
    "scrolled": true
   },
   "outputs": [],
   "source": [
    "sample_size = 100\n",
    "print(\"Sample size: \", sample_size)\n",
    "print(\"Population mean:\", delay_mean)\n",
    "print(\"Average of sample means: \", np.mean(sample_means_100_10000))\n",
    "print(\"Population SD:\", delay_sd)\n",
    "print(\"SD of sample means:\", np.std(sample_means_100_10000))\n",
    "\n",
    "# Plot a histogram of the sample means\n",
    "sample_means_100_10000_table.hist(bins=20)\n",
    "plots.xlabel('Sample Means')\n",
    "plots.title('Sample Size ' + str(sample_size))"
   ]
  },
  {
   "cell_type": "code",
   "execution_count": null,
   "metadata": {},
   "outputs": [],
   "source": [
    "39.480199851609314/3.978256500345849"
   ]
  },
  {
   "cell_type": "code",
   "execution_count": null,
   "metadata": {
    "scrolled": false
   },
   "outputs": [],
   "source": [
    "sample_size = 400\n",
    "print(\"Sample size: \", sample_size)\n",
    "print(\"Population mean:\", delay_mean)\n",
    "print(\"Average of sample means: \", np.mean(sample_means_400_10000))\n",
    "print(\"Population SD:\", delay_sd)\n",
    "print(\"SD of sample means:\", np.std(sample_means_400_10000))\n",
    "\n",
    "\n",
    "sample_means_400_10000_table.hist(bins=20)\n",
    "plots.xlabel('Sample Means')\n",
    "plots.title('Sample Size ' + str(sample_size))"
   ]
  },
  {
   "cell_type": "code",
   "execution_count": null,
   "metadata": {},
   "outputs": [],
   "source": [
    "39.480199851609314/1.9658976091057616"
   ]
  },
  {
   "cell_type": "markdown",
   "metadata": {},
   "source": [
    "Are we noticing a pattern here? What do we expect to get for population SD / SD of sample means for sample of size 900?"
   ]
  },
  {
   "cell_type": "code",
   "execution_count": null,
   "metadata": {},
   "outputs": [],
   "source": [
    "sample_size = 900\n",
    "print(\"Sample size: \", sample_size)\n",
    "print(\"Population mean:\", delay_mean)\n",
    "print(\"Average of sample means: \", np.mean(sample_means_900_10000))\n",
    "print(\"Population SD:\", delay_sd)\n",
    "print(\"SD of sample means:\", np.std(sample_means_900_10000))\n",
    "\n",
    "Table().with_column(\n",
    "    'Mean of 900 flight delays', sample_means_900_10000).hist(bins=20)\n",
    "plots.xlabel('Sample Means')\n",
    "plots.title('Sample Size ' + str(sample_size))"
   ]
  },
  {
   "cell_type": "code",
   "execution_count": null,
   "metadata": {},
   "outputs": [],
   "source": [
    "39.480199851609314/1.31015543758933"
   ]
  },
  {
   "cell_type": "markdown",
   "metadata": {},
   "source": [
    "Let's make this a function"
   ]
  },
  {
   "cell_type": "code",
   "execution_count": null,
   "metadata": {},
   "outputs": [],
   "source": [
    "\"\"\"Empirical distribution of random sample means\"\"\"\n",
    "\n",
    "def plot_and_summarize_sample_means(sample_size,num_simulations):\n",
    "    sample_means = many_sample_means(sample_size,num_simulations)\n",
    "    sample_means_table = Table().with_column('Sample Means', sample_means)\n",
    "    \n",
    "    # Print some information about the distribution of the sample means\n",
    "    print(\"Sample size: \", sample_size)\n",
    "    print(\"Population mean:\", delay_mean)\n",
    "    print(\"Average of sample means: \", np.mean(sample_means))\n",
    "    print(\"Population SD:\", delay_sd)\n",
    "    print(\"SD of sample means:\", np.std(sample_means))\n",
    "\n",
    "    # Plot a histogram of the sample means\n",
    "    sample_means_table.hist(bins=20)\n",
    "    plots.xlabel('Sample Means')\n",
    "    plots.title('Sample Size ' + str(sample_size))"
   ]
  },
  {
   "cell_type": "code",
   "execution_count": null,
   "metadata": {
    "scrolled": false
   },
   "outputs": [],
   "source": [
    "plot_and_summarize_sample_means(100,10000)"
   ]
  },
  {
   "cell_type": "markdown",
   "metadata": {},
   "source": [
    "<h3>Now let's see the effect of increasing the number of trials&mdash;that is, the number of samples that we take&mdash;for a specified sample size (e.g., <tt>sample_size=400</tt>):</h3>"
   ]
  },
  {
   "cell_type": "markdown",
   "metadata": {},
   "source": [
    "Slides: Variability of the sample mean"
   ]
  },
  {
   "cell_type": "markdown",
   "metadata": {},
   "source": [
    "<h4>Sample Size=400<br>\n",
    "Number of Trials=10</h4>"
   ]
  },
  {
   "cell_type": "code",
   "execution_count": null,
   "metadata": {
    "scrolled": true
   },
   "outputs": [],
   "source": [
    "sample_means_400_10 = many_sample_means(400,10)\n",
    "Table().with_column(\n",
    "    'Mean of 400 flight delays', sample_means_400_10).hist(bins=20)\n",
    "\n",
    "print('Population Average:', np.round(delay_mean,2))\n",
    "print('Sample Average:', np.round(np.mean(sample_means_400_10),2))"
   ]
  },
  {
   "cell_type": "markdown",
   "metadata": {},
   "source": [
    "<h4>Sample Size=400<br>\n",
    "Number of Trials=50</h4>"
   ]
  },
  {
   "cell_type": "code",
   "execution_count": null,
   "metadata": {
    "scrolled": true
   },
   "outputs": [],
   "source": [
    "sample_means_400_50 = many_sample_means(400,50)\n",
    "Table().with_column(\n",
    "    'Mean of 400 flight delays', sample_means_400_50).hist(bins=20)\n",
    "\n",
    "print('Population Average:', np.round(delay_mean,2))\n",
    "print('Sample Average:', np.round(np.mean(sample_means_400_50),2))"
   ]
  },
  {
   "cell_type": "markdown",
   "metadata": {},
   "source": [
    "<h4>Sample Size=400<br>\n",
    "Number of Trials=100</h4>"
   ]
  },
  {
   "cell_type": "code",
   "execution_count": null,
   "metadata": {
    "scrolled": true
   },
   "outputs": [],
   "source": [
    "sample_means_400_100 = many_sample_means(400,100)\n",
    "Table().with_column(\n",
    "    'Mean of 400 flight delays', sample_means_400_100).hist(bins=20)\n",
    "\n",
    "print('Population Average:', np.round(delay_mean,2))\n",
    "print('Sample Average:', np.round(np.mean(sample_means_400_100),2))"
   ]
  },
  {
   "cell_type": "markdown",
   "metadata": {},
   "source": [
    "<h4>Sample Size=400<br>\n",
    "Number of Trials=1,000</h4>"
   ]
  },
  {
   "cell_type": "code",
   "execution_count": null,
   "metadata": {
    "scrolled": true
   },
   "outputs": [],
   "source": [
    "sample_means_400_1000 = many_sample_means(400,1000)\n",
    "Table().with_column(\n",
    "    'Mean of 400 flight delays', sample_means_400_1000).hist(bins=20)\n",
    "\n",
    "print('Population Average:', np.round(delay_mean,2))\n",
    "print('Sample Average:', np.round(np.mean(sample_means_400_1000),2))"
   ]
  },
  {
   "cell_type": "markdown",
   "metadata": {},
   "source": [
    "<h4>Sample Size=400<br>\n",
    "Number of Trials=10,000</h4>"
   ]
  },
  {
   "cell_type": "code",
   "execution_count": null,
   "metadata": {
    "scrolled": true
   },
   "outputs": [],
   "source": [
    "sample_means_400_10000 = many_sample_means(400,10000)\n",
    "Table().with_column(\n",
    "    'Mean of 400 flight delays', sample_means_400_10000).hist(bins=20)\n",
    "\n",
    "print('Population Average:', np.round(delay_mean,2))\n",
    "print('Sample Average:', np.round(np.mean(sample_means_400_10000),2))"
   ]
  },
  {
   "cell_type": "markdown",
   "metadata": {},
   "source": [
    "<h4>Sample Size=400<br>\n",
    "Number of Trials=50,000</h4>"
   ]
  },
  {
   "cell_type": "code",
   "execution_count": null,
   "metadata": {
    "scrolled": true
   },
   "outputs": [],
   "source": [
    "sample_means_400_50000 = many_sample_means(400,50000)\n",
    "Table().with_column(\n",
    "    'Mean of 400 flight delays', sample_means_400_50000).hist(bins=20)\n",
    "\n",
    "print('Population Average:', np.round(delay_mean,2))\n",
    "print('Sample Average:', np.round(np.mean(sample_means_400_50000),2))"
   ]
  },
  {
   "cell_type": "markdown",
   "metadata": {},
   "source": [
    "<h1> Lecture 24B\n",
    "\n",
    "Data Science 8, Summer 2021 </h1>"
   ]
  },
  {
   "cell_type": "code",
   "execution_count": null,
   "metadata": {},
   "outputs": [],
   "source": [
    "from datascience import *\n",
    "import numpy as np\n",
    "import warnings\n",
    "warnings.filterwarnings(\"ignore\")\n",
    "\n",
    "%matplotlib inline\n",
    "import matplotlib.pyplot as plots\n",
    "plots.style.use('fivethirtyeight')\n",
    "plots.rcParams[\"patch.force_edgecolor\"] = True\n",
    "\n",
    "#The following allows porting images into a Markdown window\n",
    "#Syntax: ![title](image_name.png)\n",
    "from IPython.display import Image"
   ]
  },
  {
   "cell_type": "markdown",
   "metadata": {},
   "source": [
    "## SD of 0/1 Distribution ##\n",
    "\n",
    "<h4>Play with the <tt>number_of_ones</tt> in the cell below&mdash;by trying integers between 0 and 100&mdash;and see how it affects the variance and standard deviation.<br><br>\n",
    "\n",
    "Compare Variance and SD values for 0 and 100, 1 and 9, 2 and 8, ...</h4>"
   ]
  },
  {
   "cell_type": "code",
   "execution_count": null,
   "metadata": {},
   "outputs": [],
   "source": [
    "# Population of size 10\n",
    "\n",
    "number_of_ones = 50\n",
    "zero_one_population = np.append(np.ones(number_of_ones), np.zeros(100 - number_of_ones))\n",
    "\n",
    "print('Variance:', np.round(np.var(zero_one_population),4))\n",
    "print('Standard Deviation:', np.round(np.std(zero_one_population),4))\n",
    "\n",
    "zero_one_population"
   ]
  },
  {
   "cell_type": "markdown",
   "metadata": {},
   "source": [
    "<h4> Let's make a graph with proportion of ones on the $x$-axis and SD on the $y$-axis:</h4>\n",
    "\n",
    "<h5>Step 1: Define a function that does two things: <br>\n",
    "<ul>\n",
    "<li> Create an array of size 100, consisting of a specified number of ones, and each of the remaining elements equal to zero; and </li><br>\n",
    "<li> Return the Standard Deviation of the values in the array.\n",
    "</ul>   \n",
    "</h5> "
   ]
  },
  {
   "cell_type": "code",
   "execution_count": null,
   "metadata": {},
   "outputs": [],
   "source": [
    "def sd_of_zero_one_population(number_of_ones):\n",
    "    \"\"\"SD of a population with num_ones ones and (100 - num_ones) zeros\"\"\"\n",
    "    zero_one_population = np.append(np.ones(number_of_ones), \n",
    "                                    np.zeros(100 - number_of_ones))\n",
    "    return np.std(zero_one_population)"
   ]
  },
  {
   "cell_type": "markdown",
   "metadata": {},
   "source": [
    "<h5>Step 2: Create a table of two columns, where<br>\n",
    "<ul>\n",
    "<li> the first column contains the array of ones and zeros constructed above; and</li><br>\n",
    "<li> the second column denotes the fraction (proportion) of ones in the array.</li>\n",
    "</ul>\n",
    "</h5>"
   ]
  },
  {
   "cell_type": "code",
   "execution_count": null,
   "metadata": {},
   "outputs": [],
   "source": [
    "possible_ones = np.arange(101)\n",
    "zero_one_pop = Table().with_columns(\n",
    "    'Number of Ones', possible_ones,\n",
    "    'Proportion of Ones', possible_ones / 100\n",
    ")\n",
    "zero_one_pop.show()"
   ]
  },
  {
   "cell_type": "markdown",
   "metadata": {},
   "source": [
    "<h5>Step 3: Add a column of Standard Deviations computed from the second column of the table above:</h5>"
   ]
  },
  {
   "cell_type": "code",
   "execution_count": null,
   "metadata": {},
   "outputs": [],
   "source": [
    "sds = zero_one_pop.apply(sd_of_zero_one_population, 'Number of Ones')\n",
    "zero_one_pop = zero_one_pop.with_column('SD', sds)\n",
    "zero_one_pop.show()"
   ]
  },
  {
   "cell_type": "markdown",
   "metadata": {},
   "source": [
    "<h4>Question: What are your observations of the SD as a function of the Proportion of Ones?</h4>"
   ]
  },
  {
   "cell_type": "code",
   "execution_count": null,
   "metadata": {},
   "outputs": [],
   "source": [
    "zero_one_pop.plot('Proportion of Ones', 'SD')"
   ]
  },
  {
   "cell_type": "code",
   "execution_count": null,
   "metadata": {},
   "outputs": [],
   "source": [
    "## Slides"
   ]
  }
 ],
 "metadata": {
  "anaconda-cloud": {},
  "kernelspec": {
   "display_name": "Python 3",
   "language": "python",
   "name": "python3"
  },
  "language_info": {
   "codemirror_mode": {
    "name": "ipython",
    "version": 3
   },
   "file_extension": ".py",
   "mimetype": "text/x-python",
   "name": "python",
   "nbconvert_exporter": "python",
   "pygments_lexer": "ipython3",
   "version": "3.9.5"
  }
 },
 "nbformat": 4,
 "nbformat_minor": 1
}
