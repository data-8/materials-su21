{
 "cells": [
  {
   "cell_type": "markdown",
   "metadata": {},
   "source": [
    "<h1> Lecture 21\n",
    "\n",
    "Data Science 8, Summer 2021 </h1>"
   ]
  },
  {
   "cell_type": "markdown",
   "metadata": {},
   "source": [
    "<h3>\n",
    "<b>\n",
    "<ul>\n",
    "<li>Bootstrap</li><br>\n",
    "    \n",
    "<li>Confidence Intervals  </li><br>\n",
    "\n",
    "<li>Interpretation of Confidence Intervals  </li>\n",
    "</ul>\n",
    "</b>\n",
    "</h3>"
   ]
  },
  {
   "cell_type": "code",
   "execution_count": null,
   "metadata": {},
   "outputs": [],
   "source": [
    "from datascience import *\n",
    "import numpy as np\n",
    "import warnings\n",
    "warnings.filterwarnings(\"ignore\")\n",
    "\n",
    "%matplotlib inline\n",
    "import matplotlib.pyplot as plots\n",
    "plots.style.use('fivethirtyeight')\n",
    "plots.rcParams[\"patch.force_edgecolor\"] = True\n",
    "\n",
    "#The following allows porting images into a Markdown window\n",
    "#Syntax: ![title](image_name.png)\n",
    "from IPython.display import Image"
   ]
  },
  {
   "cell_type": "markdown",
   "metadata": {},
   "source": [
    "## Bootstrap: San Francisco City Salaries"
   ]
  },
  {
   "cell_type": "markdown",
   "metadata": {},
   "source": [
    "The bootstrap lets us estimate the variability in an estimate.  In this case, we are estimating the median salary of all San Francisco employees, based on a sample of 300 employees (namely, the median salary of those 300 is our estimate for the population median); and we want to know about how much error this estimate will typically have."
   ]
  },
  {
   "cell_type": "markdown",
   "metadata": {},
   "source": [
    "<h2>City of San Francisco Employees: Sample Median</h2>"
   ]
  },
  {
   "cell_type": "code",
   "execution_count": null,
   "metadata": {
    "scrolled": true
   },
   "outputs": [],
   "source": [
    "sf = Table.read_table('san_francisco_2015.csv')\n",
    "sf"
   ]
  },
  {
   "cell_type": "markdown",
   "metadata": {},
   "source": [
    "<h3>Declutter: Remove extraneous columns</h3>"
   ]
  },
  {
   "cell_type": "code",
   "execution_count": null,
   "metadata": {
    "scrolled": true
   },
   "outputs": [],
   "source": [
    "sf=sf.select('Job','Total Compensation')\n",
    "sf"
   ]
  },
  {
   "cell_type": "markdown",
   "metadata": {},
   "source": [
    "<h4>Assume \n",
    "    <ul>\n",
    "        <li> a minimum hourly wage of $10/hour in 2015.</li><br>\n",
    "        <li> at least half-time employee (i.e., works at least 20 hours/week)</li>\n",
    "    </ul>\n",
    "</h4>"
   ]
  },
  {
   "cell_type": "code",
   "execution_count": null,
   "metadata": {},
   "outputs": [],
   "source": [
    "min_wage_per_hour = 10  #minimum hourly wage\n",
    "hours_per_week    = 20  #half-time employee\n",
    "weeks_per_year    = 52\n",
    "\n",
    "min_salary=min_wage_per_hour * hours_per_week * weeks_per_year\n",
    "min_salary"
   ]
  },
  {
   "cell_type": "markdown",
   "metadata": {},
   "source": [
    "<h4>Keep only the rows where 'Total Compensation' is at least <tt>min_salary</tt>:</h4>"
   ]
  },
  {
   "cell_type": "code",
   "execution_count": null,
   "metadata": {
    "scrolled": true
   },
   "outputs": [],
   "source": [
    "sf = sf.where('Total Compensation', are.above(min_salary)).sort('Total Compensation', descending=True)\n",
    "sf"
   ]
  },
  {
   "cell_type": "markdown",
   "metadata": {},
   "source": [
    "<h4>Population Size:</h4>"
   ]
  },
  {
   "cell_type": "code",
   "execution_count": null,
   "metadata": {
    "scrolled": true
   },
   "outputs": [],
   "source": [
    "sf.num_rows"
   ]
  },
  {
   "cell_type": "markdown",
   "metadata": {},
   "source": [
    "<h4>Median 'Total Compensation' of the entire data set:</h4>"
   ]
  },
  {
   "cell_type": "code",
   "execution_count": null,
   "metadata": {
    "scrolled": true
   },
   "outputs": [],
   "source": [
    "pop_median = percentile(50, sf.column('Total Compensation'))\n",
    "pop_median "
   ]
  },
  {
   "cell_type": "markdown",
   "metadata": {},
   "source": [
    "<h4>Minimum 'Total Compensation' of the entire data set:</h4>"
   ]
  },
  {
   "cell_type": "code",
   "execution_count": null,
   "metadata": {},
   "outputs": [],
   "source": [
    "pop_min = sf.column('Total Compensation').min()\n",
    "pop_min"
   ]
  },
  {
   "cell_type": "markdown",
   "metadata": {},
   "source": [
    "<h4>Maximum 'Total Compensation' of the entire data set:</h4>"
   ]
  },
  {
   "cell_type": "code",
   "execution_count": null,
   "metadata": {
    "scrolled": true
   },
   "outputs": [],
   "source": [
    "pop_max = max(sf.column('Total Compensation'))\n",
    "pop_max"
   ]
  },
  {
   "cell_type": "markdown",
   "metadata": {},
   "source": [
    "<h4>Set the histogram bins.</h4>"
   ]
  },
  {
   "cell_type": "code",
   "execution_count": null,
   "metadata": {},
   "outputs": [],
   "source": [
    "sf_bins = np.arange(0, 700000, 25000)\n",
    "sf_bins"
   ]
  },
  {
   "cell_type": "markdown",
   "metadata": {},
   "source": [
    "<h4>Plot the Population Distribution</h4>"
   ]
  },
  {
   "cell_type": "code",
   "execution_count": null,
   "metadata": {},
   "outputs": [],
   "source": [
    "sf.hist('Total Compensation', bins=sf_bins)\n",
    "plots.title('Population Distribution');\n",
    "print(\"Popoulation Median =\", pop_median)"
   ]
  },
  {
   "cell_type": "markdown",
   "metadata": {},
   "source": [
    "<h4>Sample the population: use the sample median as an estimate of the population median.</h4> "
   ]
  },
  {
   "cell_type": "code",
   "execution_count": null,
   "metadata": {},
   "outputs": [],
   "source": [
    "sample_size = 300\n",
    "sample_size"
   ]
  },
  {
   "cell_type": "code",
   "execution_count": null,
   "metadata": {
    "scrolled": true
   },
   "outputs": [],
   "source": [
    "our_sample = sf.sample(sample_size, with_replacement = False)\n",
    "sample_median = percentile(50, our_sample.column('Total Compensation'))\n",
    "print(\"Population median: $\", pop_median)\n",
    "print(\"Sample median: $\", sample_median)"
   ]
  },
  {
   "cell_type": "code",
   "execution_count": null,
   "metadata": {},
   "outputs": [],
   "source": [
    "def generate_sample_median(sample_size):\n",
    "    our_sample = sf.sample(sample_size, with_replacement=False)\n",
    "    return percentile(50, our_sample.column('Total Compensation'))"
   ]
  },
  {
   "cell_type": "markdown",
   "metadata": {},
   "source": [
    "<h4>Now run a large number of trials.</h4> "
   ]
  },
  {
   "cell_type": "code",
   "execution_count": null,
   "metadata": {},
   "outputs": [],
   "source": [
    "num_simulations = 1000\n",
    "sample_size = 300\n",
    "\n",
    "#Create a blank sample_medians array\n",
    "sample_medians = make_array()\n",
    "\n",
    "for i in np.arange(num_simulations):\n",
    "    new_median = generate_sample_median(sample_size)\n",
    "    sample_medians = np.append(sample_medians, new_median) #grow sample_medians array at each trial"
   ]
  },
  {
   "cell_type": "markdown",
   "metadata": {},
   "source": [
    "<h4>Minimum and maximum sample medians:</h4>"
   ]
  },
  {
   "cell_type": "code",
   "execution_count": null,
   "metadata": {},
   "outputs": [],
   "source": [
    "print(\"Population median: $\", pop_median)\n",
    "print(\"Sample median: $\", sample_median)"
   ]
  },
  {
   "cell_type": "markdown",
   "metadata": {},
   "source": [
    "<h4>Minimum Sample Median</h4>"
   ]
  },
  {
   "cell_type": "code",
   "execution_count": null,
   "metadata": {},
   "outputs": [],
   "source": [
    "min(sample_medians)"
   ]
  },
  {
   "cell_type": "markdown",
   "metadata": {},
   "source": [
    "<h4>Maximum Sample Median</h4>"
   ]
  },
  {
   "cell_type": "code",
   "execution_count": null,
   "metadata": {
    "scrolled": true
   },
   "outputs": [],
   "source": [
    "max(sample_medians)"
   ]
  },
  {
   "cell_type": "markdown",
   "metadata": {},
   "source": [
    "<h4>Create the bins, informed by min and max median values</h4>"
   ]
  },
  {
   "cell_type": "code",
   "execution_count": null,
   "metadata": {},
   "outputs": [],
   "source": [
    "median_bins = np.arange(90000, 125001, 2500)"
   ]
  },
  {
   "cell_type": "code",
   "execution_count": null,
   "metadata": {
    "scrolled": false
   },
   "outputs": [],
   "source": [
    "#Create the bins, informed by min and max median values\n",
    "median_bins = np.arange(90000, 125001, 2500)\n",
    "#Create the histogram\n",
    "Table().with_column(\n",
    "    'Sample Medians', sample_medians).hist(bins = median_bins)\n",
    "#Superimpose the true population median\n",
    "plots.scatter(pop_median, -1e-6, color=\"red\");"
   ]
  },
  {
   "cell_type": "markdown",
   "metadata": {},
   "source": [
    "# Bootstrap"
   ]
  },
  {
   "cell_type": "markdown",
   "metadata": {},
   "source": [
    "<h4> Take One Bootstrap Resample from the Sample, and plot the histrogram.<br>\n",
    "    \n",
    "Run the following cell several times.</h4>"
   ]
  },
  {
   "cell_type": "code",
   "execution_count": null,
   "metadata": {
    "scrolled": false
   },
   "outputs": [],
   "source": [
    "# Take a bootstrap (re)sample of size 300, WITH replacement\n",
    "sample_size = 300\n",
    "\n",
    "# We now sample, with replacement, from our_sample\n",
    "boot_sample = our_sample.sample(sample_size, with_replacement=True)\n",
    "boot_sample.hist('Total Compensation', bins=sf_bins)\n",
    "plots.title('One Bootstrap Sample');\n",
    "\n",
    "print(\"Population Median =       \", pop_median)\n",
    "print(\"Our Sample Median =       \", sample_median)\n",
    "print(\"Bootstrap Sample Median = \", \n",
    "      percentile(50,boot_sample.column('Total Compensation')))"
   ]
  },
  {
   "cell_type": "markdown",
   "metadata": {},
   "source": [
    "<h4>Define function <tt>one_bootstrap_median</tt> that takes a resample from the sample.</h4>"
   ]
  },
  {
   "cell_type": "code",
   "execution_count": null,
   "metadata": {},
   "outputs": [],
   "source": [
    "def one_bootstrap_median(sample_size):\n",
    "    boot_resample = our_sample.sample(sample_size,with_replacement=True)\n",
    "    return percentile(50, boot_resample.column('Total Compensation'))"
   ]
  },
  {
   "cell_type": "markdown",
   "metadata": {},
   "source": [
    "<h4>Run a large number of trials&mdash;take many resamples.</h4>"
   ]
  },
  {
   "cell_type": "code",
   "execution_count": null,
   "metadata": {},
   "outputs": [],
   "source": [
    "num_simulations = 1000\n",
    "\n",
    "bootstrap_medians = make_array()\n",
    "for i in np.arange(num_simulations):\n",
    "    new_median = one_bootstrap_median(sample_size)\n",
    "    bootstrap_medians = np.append(bootstrap_medians, new_median)"
   ]
  },
  {
   "cell_type": "markdown",
   "metadata": {},
   "source": [
    "<h4>Median of the Bootstrap Medians</h4>"
   ]
  },
  {
   "cell_type": "code",
   "execution_count": null,
   "metadata": {},
   "outputs": [],
   "source": [
    "bootstrap_medians_table = Table().with_column(\n",
    "    'Bootstrap Medians', bootstrap_medians\n",
    ")\n",
    "boot_median=percentile(50, bootstrap_medians_table.column('Bootstrap Medians'))"
   ]
  },
  {
   "cell_type": "code",
   "execution_count": null,
   "metadata": {
    "scrolled": false
   },
   "outputs": [],
   "source": [
    "bootstrap_medians_table.hist('Bootstrap Medians', bins=median_bins)\n",
    "\n",
    "plots.scatter(pop_median, 0, color=\"red\", zorder=2);\n",
    "plots.scatter(sample_median, 0, color=\"blue\", zorder=2);\n",
    "plots.scatter(boot_median, -4e-6, color=\"orange\", zorder=3);"
   ]
  },
  {
   "cell_type": "code",
   "execution_count": null,
   "metadata": {},
   "outputs": [],
   "source": [
    "# Questions\n",
    "# Slides"
   ]
  },
  {
   "cell_type": "markdown",
   "metadata": {},
   "source": [
    "## Calculating Confidence Intervals with the Bootstrap"
   ]
  },
  {
   "cell_type": "markdown",
   "metadata": {},
   "source": [
    "The confidence interval is an interval based on the middle 95% of bootstrap samples.  The interval will be shown in yellow, the sample median (our estimate) in blue, and the true population median (the parameter) in red."
   ]
  },
  {
   "cell_type": "code",
   "execution_count": null,
   "metadata": {
    "scrolled": false
   },
   "outputs": [],
   "source": [
    "left = percentile(2.5, bootstrap_medians)\n",
    "right = percentile(97.5, bootstrap_medians)\n",
    "\n",
    "Table().with_column(\n",
    "    'Bootstrap Medians', bootstrap_medians\n",
    ").hist('Bootstrap Medians')\n",
    "\n",
    "plots.plot([left, right], [-1e-6,-1e-6], color=\"gold\", lw=3, zorder=1);\n",
    "plots.scatter(pop_median, -1e-6, color=\"red\", zorder=2);\n",
    "plots.scatter(sample_median, -1e-6, color=\"blue\", zorder=2);\n",
    "print(\"Left End of CI:\", left)\n",
    "print(\"Right end of CI:\", right)"
   ]
  },
  {
   "cell_type": "code",
   "execution_count": null,
   "metadata": {},
   "outputs": [],
   "source": [
    "lowers = make_array()\n",
    "uppers = make_array()\n",
    "\n",
    "for i in np.arange(100):\n",
    "    num_simulations = 1000\n",
    "    bootstrap_medians = make_array()\n",
    "    our_sample = sf.sample(sample_size, with_replacement = False)\n",
    "    for i in np.arange(num_simulations):\n",
    "        new_median = np.median(our_sample.sample().column(\"Total Compensation\"))\n",
    "        bootstrap_medians = np.append(bootstrap_medians, new_median)\n",
    "    lower = percentile(2.5, bootstrap_medians)\n",
    "    upper = percentile(97.5, bootstrap_medians)\n",
    "    lowers = np.append(lowers, lower)\n",
    "    uppers = np.append(uppers, upper)\n",
    "\n",
    "plots.figure(figsize=(8,8));\n",
    "for i in np.arange(100):\n",
    "    plots.plot([lowers.item(i), uppers.item(i)], [i, i], color=\"gold\", lw=2, zorder=1);\n",
    "plots.plot([pop_median, pop_median], [-10, 100], color=\"red\", zorder=2, lw=1);\n",
    "plots.ylim(0, 100);\n",
    "plots.title(\"Population Median and Intervals of Estimates\");\n",
    "plots.xlabel(\"Median (dollars)\");\n",
    "plots.ylabel(\"Replication\");\n"
   ]
  }
 ],
 "metadata": {
  "anaconda-cloud": {},
  "kernelspec": {
   "display_name": "Python 3",
   "language": "python",
   "name": "python3"
  },
  "language_info": {
   "codemirror_mode": {
    "name": "ipython",
    "version": 3
   },
   "file_extension": ".py",
   "mimetype": "text/x-python",
   "name": "python",
   "nbconvert_exporter": "python",
   "pygments_lexer": "ipython3",
   "version": "3.9.5"
  }
 },
 "nbformat": 4,
 "nbformat_minor": 1
}
