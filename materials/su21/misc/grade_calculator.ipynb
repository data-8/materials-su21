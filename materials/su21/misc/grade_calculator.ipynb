{
 "cells": [
  {
   "cell_type": "code",
   "execution_count": 1,
   "id": "d5e66e29",
   "metadata": {},
   "outputs": [],
   "source": [
    "from datascience import *\n",
    "import matplotlib.pyplot as plt\n",
    "import numpy as np\n",
    "\n",
    "def section_grade(all_assignments, drops, total):\n",
    "    assignments = [g for g in all_assignments if g != \"ungraded\"]\n",
    "    if len(assignments) == 0:\n",
    "        return 0\n",
    "    num_highest = max(1, len(assignments) - drops)\n",
    "    highest = sorted(assignments, reverse=True)[0:num_highest]\n",
    "    avg = np.mean(highest)\n",
    "\n",
    "    return total * avg"
   ]
  },
  {
   "cell_type": "code",
   "execution_count": 2,
   "id": "5bb4e9c6",
   "metadata": {},
   "outputs": [
    {
     "data": {
      "text/html": [
       "<table border=\"1\" class=\"dataframe\">\n",
       "    <thead>\n",
       "        <tr>\n",
       "            <th>bin</th> <th>points</th>\n",
       "        </tr>\n",
       "    </thead>\n",
       "    <tbody>\n",
       "        <tr>\n",
       "            <td>A+  </td> <td>300   </td>\n",
       "        </tr>\n",
       "        <tr>\n",
       "            <td>A   </td> <td>285   </td>\n",
       "        </tr>\n",
       "        <tr>\n",
       "            <td>A-  </td> <td>270   </td>\n",
       "        </tr>\n",
       "        <tr>\n",
       "            <td>B+  </td> <td>250   </td>\n",
       "        </tr>\n",
       "        <tr>\n",
       "            <td>B   </td> <td>225   </td>\n",
       "        </tr>\n",
       "        <tr>\n",
       "            <td>B-  </td> <td>205   </td>\n",
       "        </tr>\n",
       "        <tr>\n",
       "            <td>C+  </td> <td>190   </td>\n",
       "        </tr>\n",
       "        <tr>\n",
       "            <td>C   </td> <td>180   </td>\n",
       "        </tr>\n",
       "        <tr>\n",
       "            <td>C-  </td> <td>175   </td>\n",
       "        </tr>\n",
       "        <tr>\n",
       "            <td>D+  </td> <td>170   </td>\n",
       "        </tr>\n",
       "        <tr>\n",
       "            <td>D   </td> <td>165   </td>\n",
       "        </tr>\n",
       "        <tr>\n",
       "            <td>D-  </td> <td>160   </td>\n",
       "        </tr>\n",
       "    </tbody>\n",
       "</table>"
      ],
      "text/plain": [
       "<IPython.core.display.HTML object>"
      ]
     },
     "metadata": {},
     "output_type": "display_data"
    }
   ],
   "source": [
    "# BINS\n",
    "bins = Table().read_table(\"bins.csv\")\n",
    "bins.show()"
   ]
  },
  {
   "cell_type": "markdown",
   "id": "8696d87f",
   "metadata": {},
   "source": [
    "# Grade Calculator\n",
    "Enter in your grades for each assignment below. If an assignment has not been graded yet, leave it as `\"ungraded\"`.\n",
    "\n",
    "Then, run all the cells, and view your current grade boundary and total grade."
   ]
  },
  {
   "cell_type": "code",
   "execution_count": 3,
   "id": "227b8a7f",
   "metadata": {},
   "outputs": [],
   "source": [
    "# YOUR GRADES\n",
    "hw01 = \"ungraded\"\n",
    "hw02 = \"ungraded\"\n",
    "hw03 = \"ungraded\"\n",
    "hw04 = \"ungraded\"\n",
    "hw05 = \"ungraded\"\n",
    "hw06 = \"ungraded\"\n",
    "hw07 = \"ungraded\"\n",
    "hw08 = \"ungraded\"\n",
    "hw09 = \"ungraded\"\n",
    "hw10 = \"ungraded\"\n",
    "hw11 = \"ungraded\"\n",
    "hw12 = \"ungraded\"\n",
    "\n",
    "project1 = \"ungraded\"\n",
    "project2 = \"ungraded\"\n",
    "\n",
    "lab01 = \"ungraded\"\n",
    "lab02 = \"ungraded\"\n",
    "lab03 = \"ungraded\"\n",
    "lab04 = \"ungraded\"\n",
    "lab05 = \"ungraded\"\n",
    "lab06 = \"ungraded\"\n",
    "lab07 = \"ungraded\"\n",
    "lab08 = \"ungraded\"\n",
    "lab09 = \"ungraded\"\n",
    "lab09 = \"ungraded\"\n",
    "lab10 = \"ungraded\"\n",
    "\n",
    "midterm = \"ungraded\"\n",
    "final = \"ungraded\""
   ]
  },
  {
   "cell_type": "code",
   "execution_count": 4,
   "id": "b981081f",
   "metadata": {},
   "outputs": [],
   "source": [
    "# Don't change this cell!\n",
    "HWS = [hw01, hw02, hw03, hw04, hw05, hw06, hw07, hw08, hw09, hw10, hw11, hw12]\n",
    "LABS = [lab01, lab02, lab03, lab04, lab05, lab06, lab07, lab08, lab09, lab10]\n",
    "PROJECTS = [project1, project2]\n",
    "MIDTERM = [midterm]\n",
    "FINAL = [final]\n",
    "\n",
    "# Categories and point values:\n",
    "LAB_TOTAL = 30\n",
    "HOMEWORK_TOTAL = 75\n",
    "PROJECTS_TOTAL = 60\n",
    "MIDTERM_TOTAL = 45\n",
    "FINAL_TOTAL = 90\n",
    "\n",
    "# Drops\n",
    "HOMEWORK_DROPS = 2\n",
    "LAB_DROPS = 2"
   ]
  },
  {
   "cell_type": "code",
   "execution_count": 5,
   "id": "3df4dc30",
   "metadata": {},
   "outputs": [
    {
     "data": {
      "text/plain": [
       "0"
      ]
     },
     "execution_count": 5,
     "metadata": {},
     "output_type": "execute_result"
    }
   ],
   "source": [
    "# Your points from homeworks\n",
    "hw_grade = section_grade(HWS, HOMEWORK_DROPS, HOMEWORK_TOTAL)\n",
    "hw_grade"
   ]
  },
  {
   "cell_type": "code",
   "execution_count": 6,
   "id": "9e10bad6",
   "metadata": {},
   "outputs": [
    {
     "data": {
      "text/plain": [
       "0"
      ]
     },
     "execution_count": 6,
     "metadata": {},
     "output_type": "execute_result"
    }
   ],
   "source": [
    "# Your points from labs\n",
    "lab_grade = section_grade(LABS, LAB_DROPS, LAB_TOTAL)\n",
    "lab_grade"
   ]
  },
  {
   "cell_type": "code",
   "execution_count": 7,
   "id": "5f5728cd",
   "metadata": {},
   "outputs": [
    {
     "data": {
      "text/plain": [
       "0"
      ]
     },
     "execution_count": 7,
     "metadata": {},
     "output_type": "execute_result"
    }
   ],
   "source": [
    "# Your points from projects\n",
    "project_grade = section_grade(PROJECTS, 0, PROJECTS_TOTAL)\n",
    "project_grade"
   ]
  },
  {
   "cell_type": "code",
   "execution_count": 8,
   "id": "bb032e50",
   "metadata": {},
   "outputs": [
    {
     "data": {
      "text/plain": [
       "(0, 0)"
      ]
     },
     "execution_count": 8,
     "metadata": {},
     "output_type": "execute_result"
    }
   ],
   "source": [
    "# Your points from exams\n",
    "midterm_grade = section_grade(MIDTERM, 0, MIDTERM_TOTAL)\n",
    "final_grade = section_grade(FINAL, 0, FINAL_TOTAL)\n",
    "midterm_grade, final_grade"
   ]
  },
  {
   "cell_type": "code",
   "execution_count": 9,
   "id": "9ce6630d",
   "metadata": {},
   "outputs": [
    {
     "data": {
      "text/plain": [
       "0"
      ]
     },
     "execution_count": 9,
     "metadata": {},
     "output_type": "execute_result"
    }
   ],
   "source": [
    "# Your total points\n",
    "TOTAL_GRADE = lab_grade + hw_grade + project_grade + midterm_grade + final_grade\n",
    "TOTAL_GRADE"
   ]
  },
  {
   "cell_type": "code",
   "execution_count": 10,
   "id": "c7d84518",
   "metadata": {},
   "outputs": [
    {
     "name": "stdout",
     "output_type": "stream",
     "text": [
      "No grade boundary met yet.\n"
     ]
    },
    {
     "data": {
      "text/html": [
       "<table border=\"1\" class=\"dataframe\">\n",
       "    <thead>\n",
       "        <tr>\n",
       "            <th>bin</th> <th>points</th>\n",
       "        </tr>\n",
       "    </thead>\n",
       "    <tbody>\n",
       "        <tr>\n",
       "            <td>A+  </td> <td>300   </td>\n",
       "        </tr>\n",
       "        <tr>\n",
       "            <td>A   </td> <td>285   </td>\n",
       "        </tr>\n",
       "        <tr>\n",
       "            <td>A-  </td> <td>270   </td>\n",
       "        </tr>\n",
       "        <tr>\n",
       "            <td>B+  </td> <td>250   </td>\n",
       "        </tr>\n",
       "        <tr>\n",
       "            <td>B   </td> <td>225   </td>\n",
       "        </tr>\n",
       "        <tr>\n",
       "            <td>B-  </td> <td>205   </td>\n",
       "        </tr>\n",
       "        <tr>\n",
       "            <td>C+  </td> <td>190   </td>\n",
       "        </tr>\n",
       "        <tr>\n",
       "            <td>C   </td> <td>180   </td>\n",
       "        </tr>\n",
       "        <tr>\n",
       "            <td>C-  </td> <td>175   </td>\n",
       "        </tr>\n",
       "        <tr>\n",
       "            <td>D+  </td> <td>170   </td>\n",
       "        </tr>\n",
       "        <tr>\n",
       "            <td>D   </td> <td>165   </td>\n",
       "        </tr>\n",
       "        <tr>\n",
       "            <td>D-  </td> <td>160   </td>\n",
       "        </tr>\n",
       "    </tbody>\n",
       "</table>"
      ],
      "text/plain": [
       "<IPython.core.display.HTML object>"
      ]
     },
     "metadata": {},
     "output_type": "display_data"
    }
   ],
   "source": [
    "idx = np.argmin(bins.column(\"points\") >= TOTAL_GRADE)\n",
    "if all(bins.column(\"points\") >= TOTAL_GRADE):\n",
    "    print(\"No grade boundary met yet.\")\n",
    "    bins.show()\n",
    "else:\n",
    "    bins.take(np.arange(idx + 1)).show()\n",
    "    g = bins.row(idx - 1).item(\"bin\")\n",
    "    print(f\"Current Grade: {g} or higher\")"
   ]
  },
  {
   "cell_type": "code",
   "execution_count": null,
   "id": "888f01be",
   "metadata": {},
   "outputs": [],
   "source": []
  }
 ],
 "metadata": {
  "kernelspec": {
   "display_name": "Python 3",
   "language": "python",
   "name": "python3"
  },
  "language_info": {
   "codemirror_mode": {
    "name": "ipython",
    "version": 3
   },
   "file_extension": ".py",
   "mimetype": "text/x-python",
   "name": "python",
   "nbconvert_exporter": "python",
   "pygments_lexer": "ipython3",
   "version": "3.9.5"
  }
 },
 "nbformat": 4,
 "nbformat_minor": 5
}
