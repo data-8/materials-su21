{
 "cells": [
  {
   "cell_type": "code",
   "execution_count": null,
   "metadata": {
    "deletable": false,
    "editable": false
   },
   "outputs": [],
   "source": [
    "# Initialize Otter\n",
    "import otter\n",
    "grader = otter.Notebook(\"lab10.ipynb\")"
   ]
  },
  {
   "cell_type": "markdown",
   "metadata": {},
   "source": [
    "# Lab 10: Conditional Probability\n",
    "Welcome to Lab 10!\n",
    "\n",
    "This lab is an introduction to conditional probabilities.  \n",
    "\n",
    "The lab includes a visualization called an *icon array*. It's meant to be an instructional part of the lab to help build intuitions about conditional probability.  These visualizations do not appear in the textbook and will not appear on any exam.\n",
    "\n",
    "**Lab Queue**: You can find the Lab Queue at [lab.data8.org](https://lab.data8.org/). Whenever you feel stuck or need some further clarification, add yourself to the queue to get help from a GSI or academic intern! Please list your name, breakout room number, and purpose on your ticket!\n",
    "\n",
    "**Deadline**: If you are not attending lab, you have to complete this lab and submit by Tuesday, 8/3 before 11:59 P.M. PT in order to receive lab credit. Otherwise, please attend the lab you are enrolled in, get checked off with your GSI or academic intern **AND** submit this assignment by the end of the lab section (with whatever progress you've made) to receive lab credit.\n",
    "\n",
    "**Submission**: Once you're finished, scroll up to the top of the page, and run every cell in the notebook.  Select \"Save and Checkpoint\" in the File menu (please don’t hit Save As), then rerun the last cell of the notebook.  The result will contain a zip file that you can submit to Gradescope. If you are in lab, you can submit a ticket on lab.data8.org to ask a staff member to check you off.\n",
    "\n",
    "*This content is protected and may not be shared, uploaded, or distributed.*"
   ]
  },
  {
   "cell_type": "code",
   "execution_count": 1,
   "metadata": {},
   "outputs": [],
   "source": [
    "# Run this cell to set up the notebook, but please don't change it.\n",
    "\n",
    "# These lines import the Numpy and Datascience modules.\n",
    "import numpy as np\n",
    "from datascience import *\n",
    "\n",
    "# These lines do some fancy plotting magic.\n",
    "import matplotlib\n",
    "%matplotlib inline\n",
    "import matplotlib.pyplot as plt\n",
    "plt.style.use('fivethirtyeight')\n",
    "import warnings\n",
    "warnings.simplefilter('ignore', FutureWarning)\n",
    "\n",
    "# This line loads the visualization code for this lab.\n",
    "import visualizations"
   ]
  },
  {
   "cell_type": "markdown",
   "metadata": {},
   "source": [
    "# 1. What is conditional probability good for?\n",
    "\n",
    "Suppose we have a known population, like all dogs in California.  So far, we've seen 3 ways of *predicting* something about an individual in that population, given incomplete knowledge about the identity of the individual:\n",
    "\n",
    "* If we know nothing about the individual dog, we could predict that its speed is the *average* or *median* of all the speeds in the population.\n",
    "* If we know the dog's height but not its speed, we could use *linear regression* to predict its speed from its height.  The resulting prediction is still imperfect, but it might be more accurate than the population average.\n",
    "* If we know the dog's breed, height, and age, we could use *nearest-neighbor classification* (or *multiple regression*) to predict its speed by comparing it to a collection of dogs with known speed.\n",
    "\n",
    "\n",
    "We can also compute conditional probabilities to make predictions about individuals or events. This technique is different from the previous methods we’ve examined because \n",
    "\n",
    "1. our prediction for each outcome is described by a probability, and \n",
    "2. each probability can be exactly calculated from assumptions, as opposed to estimated from data."
   ]
  },
  {
   "cell_type": "markdown",
   "metadata": {},
   "source": [
    "# 2. Icon arrays\n",
    "Parts 3 and 4 of this lab work with a more complex example about disease, but first, let's start with a simple example.\n",
    "\n",
    "Imagine you are a marble.  You don't know what you look like (since you obviously have no eyes), but you know that Samantha drew you **uniformly at random** from a bag that contained the following marbles:\n",
    "* 4 large shiny marbles,\n",
    "* 1 large dull marble,\n",
    "* 6 small shiny marbles, and\n",
    "* 2 small dull marbles."
   ]
  },
  {
   "cell_type": "markdown",
   "metadata": {
    "deletable": false,
    "editable": false
   },
   "source": [
    "**Question 2.0.1.** Knowing only what we've told you so far, what's the probability that you're a large shiny marble?\n",
    "\n",
    "<!--\n",
    "BEGIN QUESTION\n",
    "name: q2_0_1\n",
    "-->"
   ]
  },
  {
   "cell_type": "code",
   "execution_count": 2,
   "metadata": {
    "deletable": false
   },
   "outputs": [],
   "source": [
    "probability_large_shiny = ..."
   ]
  },
  {
   "cell_type": "code",
   "execution_count": null,
   "metadata": {
    "deletable": false,
    "editable": false
   },
   "outputs": [],
   "source": [
    "grader.check(\"q2_0_1\")"
   ]
  },
  {
   "cell_type": "markdown",
   "metadata": {},
   "source": [
    "Here's a table with those marbles:"
   ]
  },
  {
   "cell_type": "code",
   "execution_count": 5,
   "metadata": {},
   "outputs": [],
   "source": [
    "marbles = Table.read_table(\"marbles.csv\")\n",
    "marbles.show()"
   ]
  },
  {
   "cell_type": "markdown",
   "metadata": {},
   "source": [
    "Here are the counts of each type of marble in a pivot table."
   ]
  },
  {
   "cell_type": "code",
   "execution_count": 6,
   "metadata": {},
   "outputs": [],
   "source": [
    "marbles.pivot('surface', 'size')"
   ]
  },
  {
   "cell_type": "markdown",
   "metadata": {},
   "source": [
    "Here are all the different combinations of surface and size, with the count for each surface-size combination. Each type of marble appears in its own row."
   ]
  },
  {
   "cell_type": "code",
   "execution_count": 7,
   "metadata": {},
   "outputs": [],
   "source": [
    "marbles.group(['surface', 'size'])"
   ]
  },
  {
   "cell_type": "markdown",
   "metadata": {},
   "source": [
    "We've included some code to display something called an *icon array*.  The functions in the cell below create icon arrays from various kinds of tables. Don't worry about understanding the code; just run this cell.\n",
    "\n",
    "**NOTE:** Ignore the the y-axis labels, and just remember that each square represents 1 marble. "
   ]
  },
  {
   "cell_type": "code",
   "execution_count": 8,
   "metadata": {},
   "outputs": [],
   "source": [
    "# Run this cell.\n",
    "\n",
    "#######################################################################\n",
    "# The functions you'll need to actually use are in here.  Each is a\n",
    "# way of making an icon array from a differently-formatted table.\n",
    "#######################################################################\n",
    "\n",
    "def display_icon_array(table, groups, individuals_name):\n",
    "    \"\"\"\n",
    "    Given a table and some columns to group it on, displays an icon array\n",
    "    of the groups.\n",
    "    \n",
    "    groups should be an array of labels of columns in table.\n",
    "    \n",
    "    individuals_name is your name for the individual rows of table.\n",
    "    For example, if we're talking about a population of people,\n",
    "    individuals_name should be \"people\".\n",
    "    \n",
    "    For example:\n",
    "    \n",
    "    display_icon_array(marbles, [\"surface\", \"size\"], \"marbles\")\n",
    "    \"\"\"\n",
    "    display_grouped_icon_array(table.group(groups), individuals_name)\n",
    "\n",
    "def display_grouped_icon_array(grouped_data, individuals_name):\n",
    "    \"\"\"\n",
    "    Given a table with counts for data grouped by 1 or more categories,\n",
    "    displays an icon array of the groups represented in the table.\n",
    "    \n",
    "    grouped_data should be a table of frequencies or counts, such as\n",
    "    a table created by calling the groups method on some table.\n",
    "    \n",
    "    individuals_name is your name for the individual members of the\n",
    "    dataset.  For example, if we're talking about a population of\n",
    "    people, individuals_name should be \"people\".\n",
    "    \n",
    "    For example:\n",
    "    \n",
    "    display_grouped_icon_array(marbles.group([\"surface\", \"size\"]), \"marbles\")\n",
    "    \"\"\"\n",
    "    visualizations.display_combinations(grouped_data, individuals_name=individuals_name)\n",
    "\n",
    "def display_crosstab_icon_array(crosstabulation, x_label, individuals_name):\n",
    "    \"\"\"\n",
    "    Given a crosstabulation table, displays an icon array of the groups\n",
    "    represented in the table.\n",
    "    \n",
    "    crosstabulation should be a table of frequencies or counts created by\n",
    "    calling pivot on some table.\n",
    "    \n",
    "    x_label should be the label of the categories listed as columns (on\n",
    "    the \"x axis\" when the crosstabulation table is printed).\n",
    "    \n",
    "    individuals_name is your name for the individual members of the\n",
    "    dataset.  For example, if we're talking about a population of\n",
    "    people, individuals_name should be \"people\".\n",
    "    \n",
    "    For example:\n",
    "    \n",
    "    display_crosstab_icon_array(marbles.pivot(\"surface\", \"size\"), \"surface\", \"marbles\")\n",
    "    \"\"\"\n",
    "    display_grouped_icon_array(visualizations.pivot_table_to_groups(crosstabulation, x_label), individuals_name)"
   ]
  },
  {
   "cell_type": "markdown",
   "metadata": {},
   "source": [
    "Here's an icon array of all the marbles, grouped by surface and size:\n",
    "\n",
    "*NOTE:* If any of the below cells mention that something is 'depreciated', you may ignore that!"
   ]
  },
  {
   "cell_type": "code",
   "execution_count": 9,
   "metadata": {
    "scrolled": true
   },
   "outputs": [],
   "source": [
    "# Run this cell.\n",
    "display_grouped_icon_array(marbles.group([\"surface\", \"size\"]), \"marble(s)\")"
   ]
  },
  {
   "cell_type": "markdown",
   "metadata": {},
   "source": [
    "You (the marble) should imagine that you are a random draw from these 13 icons.\n",
    "\n",
    "The following is an icon array of the marbles, grouped **only by their surface (shiny/dull)**."
   ]
  },
  {
   "cell_type": "code",
   "execution_count": 10,
   "metadata": {},
   "outputs": [],
   "source": [
    "display_grouped_icon_array(marbles.group(\"surface\"), \"marble(s)\")"
   ]
  },
  {
   "cell_type": "markdown",
   "metadata": {
    "deletable": false,
    "editable": false
   },
   "source": [
    "Knowing nothing else about yourself, you're equally likely to be any of the marbles pictured.\n",
    "\n",
    "**Question 2.0.2.** What's the probability that you're a shiny marble?  Calculate this by hand (using Python for arithmetic) by looking at your icon array.\n",
    "\n",
    "<!--\n",
    "BEGIN QUESTION\n",
    "name: q2_0_2\n",
    "-->"
   ]
  },
  {
   "cell_type": "code",
   "execution_count": 11,
   "metadata": {
    "deletable": false
   },
   "outputs": [],
   "source": [
    "probability_shiny = ..."
   ]
  },
  {
   "cell_type": "code",
   "execution_count": null,
   "metadata": {
    "deletable": false,
    "editable": false
   },
   "outputs": [],
   "source": [
    "grader.check(\"q2_0_2\")"
   ]
  },
  {
   "cell_type": "markdown",
   "metadata": {},
   "source": [
    "## 2.1. Conditional probability\n",
    "\n",
    "Suppose you overhear Samantha say that you're a large marble. Does this somehow change the chance that you're shiny?  Let's find out.\n",
    "\n",
    "Go back to the full icon array, displayed below for convenience."
   ]
  },
  {
   "cell_type": "code",
   "execution_count": 13,
   "metadata": {},
   "outputs": [],
   "source": [
    "display_grouped_icon_array(marbles.group([\"surface\", \"size\"]), \"marble(s)\")"
   ]
  },
  {
   "cell_type": "markdown",
   "metadata": {},
   "source": [
    "In question 2.0.2, we assumed you were equally likely to be any of the marbles, because we didn't know any better.  That's why we looked at all the marbles to compute the probability that you were shiny.\n",
    "\n",
    "But assuming that you're a large marble, we can eliminate some of these possibilities.  In particular, you can't be a small shiny marble or a small dull marble.\n",
    "\n",
    "You're still equally likely to be any of the remaining marbles, because you don't know any other information.  So here's an icon array of those remaining possibilities:"
   ]
  },
  {
   "cell_type": "code",
   "execution_count": 14,
   "metadata": {},
   "outputs": [],
   "source": [
    "# Just run this cell.\n",
    "display_grouped_icon_array(marbles.where(\"size\", \"large\").group(\"surface\"), \"large marble(s)\")"
   ]
  },
  {
   "cell_type": "markdown",
   "metadata": {
    "deletable": false,
    "editable": false
   },
   "source": [
    "**Question 2.1.1.** What's the probability you're a shiny marble, knowing that you're a large marble? \n",
    "\n",
    "*Hint: Use the icon array.*\n",
    "\n",
    "<!--\n",
    "BEGIN QUESTION\n",
    "name: q2_1_1\n",
    "-->"
   ]
  },
  {
   "cell_type": "code",
   "execution_count": 15,
   "metadata": {
    "deletable": false
   },
   "outputs": [],
   "source": [
    "probability_shiny_given_large = ..."
   ]
  },
  {
   "cell_type": "code",
   "execution_count": null,
   "metadata": {
    "deletable": false,
    "editable": false
   },
   "outputs": [],
   "source": [
    "grader.check(\"q2_1_1\")"
   ]
  },
  {
   "cell_type": "markdown",
   "metadata": {},
   "source": [
    "You should have found that this is different from the probability that you're a shiny marble given no size information) which you computed earlier.  The distribution of surfaces among the large marbles is a little different from the distribution of surfaces among all the marbles."
   ]
  },
  {
   "cell_type": "code",
   "execution_count": 17,
   "metadata": {},
   "outputs": [],
   "source": [
    "# Run this cell to display the icon array. Then fill answer the next question.\n",
    "display_grouped_icon_array(marbles.where(\"surface\", \"shiny\").group(\"size\"), \"shiny marble(s)\")"
   ]
  },
  {
   "cell_type": "markdown",
   "metadata": {
    "deletable": false,
    "editable": false
   },
   "source": [
    "**Question 2.1.2.** Suppose instead Samantha had said you're a **shiny** marble (hooray!). What's the probability that you're large? \n",
    "\n",
    "Run the code cell above to display the icon array, then assign `probability_large_given_shiny` to the appropriate value.\n",
    "<!--\n",
    "BEGIN QUESTION\n",
    "name: q2_1_2\n",
    "-->"
   ]
  },
  {
   "cell_type": "code",
   "execution_count": 18,
   "metadata": {},
   "outputs": [],
   "source": [
    "probability_large_given_shiny = ..."
   ]
  },
  {
   "cell_type": "code",
   "execution_count": null,
   "metadata": {
    "deletable": false,
    "editable": false
   },
   "outputs": [],
   "source": [
    "grader.check(\"q2_1_2\")"
   ]
  },
  {
   "cell_type": "markdown",
   "metadata": {},
   "source": [
    "**Question 2.1.3.** Can you answer the previous two questions just by looking at the full icon array?  (You can run the cell below to see it again.)."
   ]
  },
  {
   "cell_type": "code",
   "execution_count": 20,
   "metadata": {},
   "outputs": [],
   "source": [
    "# Just run this cell.  The next cell is where you should write your answer.\n",
    "display_grouped_icon_array(marbles.group([\"surface\", \"size\"]), \"marble(s)\")"
   ]
  },
  {
   "cell_type": "markdown",
   "metadata": {
    "deletable": false,
    "editable": false
   },
   "source": [
    "If you can, how? If not, why not? Check with your lab peers to see if you are on the right track. \n",
    "\n",
    "<!--\n",
    "BEGIN QUESTION\n",
    "name: q2_1_3\n",
    "-->"
   ]
  },
  {
   "cell_type": "markdown",
   "metadata": {},
   "source": [
    "_Type your answer here, replacing this text._"
   ]
  },
  {
   "cell_type": "markdown",
   "metadata": {},
   "source": [
    "# 3. Cancer screening\n",
    "Hopefully the icon arrays from the previous portion helped you build intuition for why conditional probabilities can be helpful. Now, let’s look at a real life application.\n",
    "\n",
    "### Background\n",
    "Medical testing is very important, especially for cancer. A basic cancer screening involves looking for cancer before a person has any symptoms. \n",
    "\n",
    "Cancer screening is not 100% reliable, and it can have risks. There are cases in which someone without cancer or with a benign tumor sees a positive test result. There are also cases where someone with cancer can receive a negative result. (“Positive” implies an indication of cancer in this context.) The first case, called a false positive, could cause anxiety for a patient and lead to further testing that may be risky and involve unnecessary radiation. In the second case, called a false negative, a person would not receive the necessary information and possible treatment for their condition.\n",
    "\n",
    "Conditional probability can provide insight into the accuracy of initial cancer tests. For example, you can compute the chance that a person has cancer given the results of a diagnostic test by combining information from different probability distributions. You’ll see that the chance Person X does have cancer even if they receive a positive result is not necessarily 100%.\n",
    "\n",
    "It is important to note that conditional probabilities offer just one line of insight to understanding a test result and that this statistical approach does not take into account important factors like heredity or environment that come to affect a person’s health and diagnoses. The [Centers for Disease Control and Prevention](https://www.cdc.gov/cancer/dcpc/prevention/screening.htm) (CDC) recommends getting preventative cancer screenings, and one should always consult a doctor if they are concerned about their health. "
   ]
  },
  {
   "cell_type": "markdown",
   "metadata": {},
   "source": [
    "## 3.1. Basic cancer statistics\n",
    "Suppose that in a representative group of 10,000 people who are tested for cancer (\"representative\" meaning that the frequencies of different events are the same as the frequencies in the whole population):\n",
    "1. 100 people have cancer.\n",
    "2. Among the 100 people that have cancer, 90 have positive results on a cancer test and 10 have negative results.  (\"Negative\" means \"not pointing toward cancer.\")\n",
    "3. The other 9,900 people don't have cancer.\n",
    "4. Among these 9,900 people, 198 have positive results on a cancer test and the other 9,702 have negative results.  (So 198 see \"false positive\" results.)\n",
    "\n",
    "Below we've generated a table with data from these 10,000 hypothetical people.\n",
    "\n",
    "*Note: These statistics are made up and don’t necessarily reflect the actual state of the world.*"
   ]
  },
  {
   "cell_type": "code",
   "execution_count": 21,
   "metadata": {},
   "outputs": [],
   "source": [
    "people = Table().with_columns(\n",
    "    \"status\", [\"cancer\", \"cancer\", \"no cancer\", \"no cancer\"],\n",
    "    \"test status\", [\"positive\", \"negative\", \"positive\", \"negative\"],\n",
    "    \"count\", [90, 10, 198, 9702])\n",
    "people"
   ]
  },
  {
   "cell_type": "markdown",
   "metadata": {
    "deletable": false,
    "editable": false
   },
   "source": [
    "One way to visualize this dataset is with a contingency table, which you've seen before.\n",
    "\n",
    "**Question 3.1.1.** Create a contingency table that looks like this:\n",
    "\n",
    "|status|negative|positive|\n",
    "|-|-|-|\n",
    "|cancer|||\n",
    "|no cancer||||\n",
    "\n",
    "...with the **count** of each group filled in, according to what we've told you above.  The counts in the 4 boxes should sum to 10,000.\n",
    "\n",
    "*Hint:* Use `pivot` with the `sum` function.\n",
    "\n",
    "<!--\n",
    "BEGIN QUESTION\n",
    "name: q3_1_1\n",
    "-->"
   ]
  },
  {
   "cell_type": "code",
   "execution_count": 22,
   "metadata": {
    "deletable": false
   },
   "outputs": [],
   "source": [
    "cancer = ...\n",
    "cancer"
   ]
  },
  {
   "cell_type": "code",
   "execution_count": null,
   "metadata": {
    "deletable": false,
    "editable": false
   },
   "outputs": [],
   "source": [
    "grader.check(\"q3_1_1\")"
   ]
  },
  {
   "cell_type": "markdown",
   "metadata": {},
   "source": [
    "Here is the `people` data in an icon array."
   ]
  },
  {
   "cell_type": "code",
   "execution_count": 24,
   "metadata": {},
   "outputs": [],
   "source": [
    "display_grouped_icon_array(people, \"people who've taken a cancer test\")"
   ]
  },
  {
   "cell_type": "markdown",
   "metadata": {},
   "source": [
    "Now let's think about how you can use this kind of information when Person X is tested for cancer.\n",
    "\n",
    "Before you know any information about Person X, you could imagine Person X as a **uniform random sample** of one of the 10,000 people in this imaginary population of people who have been tested.\n",
    "\n",
    "What's the chance that Person X has cancer, knowing nothing else about them?  It's $\\frac{100}{10000}$, or 1%.  We can see that more directly with this icon array:"
   ]
  },
  {
   "cell_type": "code",
   "execution_count": 25,
   "metadata": {},
   "outputs": [],
   "source": [
    "by_health = people.select(0, 2).group(0, sum).relabeled(1, 'count')\n",
    "display_grouped_icon_array(by_health, \"people who've taken a cancer test\")"
   ]
  },
  {
   "cell_type": "markdown",
   "metadata": {
    "deletable": false,
    "editable": false
   },
   "source": [
    "**Question 3.1.2.** What's the chance that Person X has a positive test result, knowing nothing else about them?\n",
    "Run the next code cell to dispaly an icon array, then assign `probability_positive_test` to this value.\n",
    "<!--\n",
    "BEGIN QUESTION\n",
    "name: q3_1_2\n",
    "-->"
   ]
  },
  {
   "cell_type": "code",
   "execution_count": 26,
   "metadata": {
    "deletable": false
   },
   "outputs": [],
   "source": [
    "# Run this cell to display an icon array. Then fill in the probability of a positive test result in the last line.\n",
    "by_test = people.select(1, 2).group(0, sum).relabeled(1, 'count')\n",
    "display_grouped_icon_array(by_test, \"people who've taken a cancer test\")\n",
    "\n",
    "# Now fill in the probability of a positive test result\n",
    "probability_positive_test = ..."
   ]
  },
  {
   "cell_type": "code",
   "execution_count": null,
   "metadata": {
    "deletable": false,
    "editable": false
   },
   "outputs": [],
   "source": [
    "grader.check(\"q3_1_2\")"
   ]
  },
  {
   "cell_type": "markdown",
   "metadata": {},
   "source": [
    "## 3.2. Interpreting test results\n",
    "Suppose Person X has a positive test result.  This means that you can now narrow them down to being part of just one of the two following groups:\n",
    "1. The people with cancer who have a positive test result.\n",
    "2. The people without cancer who have a positive test result.\n",
    "\n",
    "Here's an icon array for those two groups:"
   ]
  },
  {
   "cell_type": "code",
   "execution_count": 28,
   "metadata": {},
   "outputs": [],
   "source": [
    "# Just run this cell.\n",
    "display_grouped_icon_array(people.where(\"test status\", are.equal_to(\"positive\")).drop(1), \"people who have a positive test result\")"
   ]
  },
  {
   "cell_type": "markdown",
   "metadata": {
    "deletable": false,
    "editable": false
   },
   "source": [
    "The *conditional probability* that Person X **has cancer given their positive test result** is the chance that they're in the first group (cancer), assuming they have a positive test result.\n",
    "\n",
    "**Question 3.2.1.** Eyeballing the icon array above, is the conditional probability that Person X has cancer **given their positive test result** closest to:\n",
    "\n",
    "1. 9/10\n",
    "\n",
    "2. 2/3\n",
    "\n",
    "3. 1/2\n",
    "\n",
    "4. 1/3\n",
    "\n",
    "5. 1/100\n",
    "\n",
    "Assign `rough_prob_cancer_given_positive` to the number corresponding to your answer.\n",
    "\n",
    "<!--\n",
    "BEGIN QUESTION\n",
    "name: q3_2_1\n",
    "-->"
   ]
  },
  {
   "cell_type": "code",
   "execution_count": 29,
   "metadata": {
    "deletable": false
   },
   "outputs": [],
   "source": [
    "# Set this to either 1, 2, 3, 4, or 5 corresponding to the correct probability.\n",
    "rough_prob_cancer_given_positive = ..."
   ]
  },
  {
   "cell_type": "code",
   "execution_count": null,
   "metadata": {
    "deletable": false,
    "editable": false
   },
   "outputs": [],
   "source": [
    "grader.check(\"q3_2_1\")"
   ]
  },
  {
   "cell_type": "markdown",
   "metadata": {
    "deletable": false,
    "editable": false
   },
   "source": [
    "**Question 3.2.2.** Now write code to calculate that probability exactly, using the original contingency table you wrote (the `cancer` table).\n",
    "\n",
    "Run the next code cell to see the `cancer` table, then fill in `prob_cancer_given_positive` with your code.\n",
    "\n",
    "<!--\n",
    "BEGIN QUESTION\n",
    "name: q3_2_2\n",
    "-->"
   ]
  },
  {
   "cell_type": "code",
   "execution_count": 31,
   "metadata": {
    "deletable": false
   },
   "outputs": [],
   "source": [
    "prob_cancer_given_positive = ...\n",
    "prob_cancer_given_positive\n",
    "\n",
    "# Run this cell first to see the cancer table. Then fill in the first line of this cell.\n",
    "print(cancer)\n",
    "\n",
    "print('Probability of cancer given positive test result: {}'.format(prob_cancer_given_positive))"
   ]
  },
  {
   "cell_type": "code",
   "execution_count": null,
   "metadata": {
    "deletable": false,
    "editable": false
   },
   "outputs": [],
   "source": [
    "grader.check(\"q3_2_2\")"
   ]
  },
  {
   "cell_type": "markdown",
   "metadata": {
    "deletable": false,
    "editable": false
   },
   "source": [
    "**Question 3.2.3.** Look at the full icon array again.  Using that, how would you compute the conditional probability of cancer given a positive test?\n",
    "\n",
    "Run the next code cell to see the full icon array. \n",
    "\n",
    "<!--\n",
    "BEGIN QUESTION\n",
    "name: q3_2_3\n",
    "-->"
   ]
  },
  {
   "cell_type": "markdown",
   "metadata": {},
   "source": [
    "_Type your answer here, replacing this text._"
   ]
  },
  {
   "cell_type": "code",
   "execution_count": 33,
   "metadata": {},
   "outputs": [],
   "source": [
    "# The full icon array is given here for your convenience.\n",
    "# Write your answer in the previous cell.\n",
    "display_grouped_icon_array(people, \"people who've taken a cancer test\")"
   ]
  },
  {
   "cell_type": "markdown",
   "metadata": {
    "deletable": false,
    "editable": false
   },
   "source": [
    "**Question 3.2.4.** Is your answer to question 3.2.2 bigger than the overall proportion of people in the population who have cancer (given as 1% in 3.1.1)?  Does that make sense? Check with your peers to see if you have the right idea. \n",
    "\n",
    "<!--\n",
    "BEGIN QUESTION\n",
    "name: q3_2_4\n",
    "-->"
   ]
  },
  {
   "cell_type": "markdown",
   "metadata": {},
   "source": [
    "_Type your answer here, replacing this text._"
   ]
  },
  {
   "cell_type": "markdown",
   "metadata": {
    "deletable": false,
    "editable": false
   },
   "source": [
    "# 4. Tree diagrams\n",
    "A tree diagram is another useful visualization that helps us calculate conditional probabilities.  It is easiest to draw a tree diagram when the probabilities are presented in a slightly different way - specifically, we first look at the probabilities of cancer in the entire population, and then examine the rates of positive test results within the cancer and no cancer groups.  For example, people often summarize the information in your `cancer` table using 3 numbers:\n",
    "\n",
    "1. The overall probability of having cancer is **`p_cancer`**.  (This is called the *base rate* or *marginal probability* of the disease.)\n",
    "2. Given that Person X has cancer, the probability of a positive test result is **`p_pos_given_cancer`**.  (This is called the *sensitivity* of the test.  Higher values of `p_pos_given_cancer` mean the test is more useful.)\n",
    "3. Given that Person X doesn't have cancer, the probability of a positive test result is **`p_pos_given_nocancer`**.  (This is called the *false positive rate* of the test.  Higher values of `p_pos_given_nocancer` mean the test is less useful.)\n",
    "\n",
    "You already saw that the base rate of cancer was .01 in the previous section.  `p_pos_given_cancer` and `p_pos_given_nocancer` can be computed using the same method you used to compute the conditional probability of cancer given a positive test result.\n",
    "\n",
    "The information we have on cancer can be represented in this tree diagram:\n",
    "\n",
    "                      /    \\\n",
    "                 .99 /      \\ .01\n",
    "                    /        \\ \n",
    "                   /          \\\n",
    "              no cancer      cancer\n",
    "                / \\            / \\\n",
    "          0.02 /   \\ 0.98  0.9/   \\ 0.1\n",
    "              /     \\        /     \\\n",
    "             +       -      +       -\n",
    "             \n",
    "**Question 4.1.** Compute `p_pos_given_cancer` and `p_pos_given_nocancer` for the data in section 3. Use the two tables we have defined below (`has_cancer` and `no_cancer`) to compute the two probabilities.\n",
    "\n",
    "*Hint #1:* Use Bayes' Rule. For your reference, chapter 18.1 of the textbook has a section on [tree diagrams](https://www.inferentialthinking.com/chapters/18/1/More_Likely_than_Not_Binary_Classifier.html#tree-diagram) and [Bayes' Rule](https://www.inferentialthinking.com/chapters/18/1/More_Likely_than_Not_Binary_Classifier.html#bayes-rule). \n",
    "\n",
    "*Hint #2:* To compute the conditional probability, the following notation may be helpful to you: P(A|B) where B is the given (event that already happened) and A is the event we would like to find the probability of happening. \n",
    "\n",
    "<!--\n",
    "BEGIN QUESTION\n",
    "name: q4_1\n",
    "-->"
   ]
  },
  {
   "cell_type": "code",
   "execution_count": 34,
   "metadata": {
    "deletable": false
   },
   "outputs": [],
   "source": [
    "# Hint: You may find these two tables useful:\n",
    "has_cancer = cancer.where(\"status\", are.equal_to(\"cancer\"))\n",
    "no_cancer = cancer.where(\"status\", are.equal_to(\"no cancer\"))\n",
    "\n",
    "p_cancer = .01\n",
    "p_pos_given_cancer = ...\n",
    "p_pos_given_nocancer = ...\n",
    "\n",
    "print('Probability of Cancer:', p_cancer, '\\nProbability of a positive test given cancer:', p_pos_given_cancer, \n",
    "      '\\nProbability of a positive test given no cancer:', p_pos_given_nocancer)"
   ]
  },
  {
   "cell_type": "code",
   "execution_count": null,
   "metadata": {
    "deletable": false,
    "editable": false
   },
   "outputs": [],
   "source": [
    "grader.check(\"q4_1\")"
   ]
  },
  {
   "cell_type": "markdown",
   "metadata": {
    "deletable": false,
    "editable": false
   },
   "source": [
    "**Question 4.2.** What is the difference in assumptions between the first probability in question 4.1 (probability of a positive test given cancer) and the one in question 3.2.2 (probability of cancer given a positive test result)?\n",
    "\n",
    "What kind of information does each probability tell us?\n",
    "\n",
    "<!--\n",
    "BEGIN QUESTION\n",
    "name: q4_2\n",
    "-->"
   ]
  },
  {
   "cell_type": "markdown",
   "metadata": {},
   "source": [
    "_Type your answer here, replacing this text._"
   ]
  },
  {
   "cell_type": "markdown",
   "metadata": {},
   "source": [
    "## 5. Submission\n",
    "\n",
    "Congratulations, you're done with the final lab!  Be sure to \n",
    "- **Run all the tests** (the next cell has a shortcut for that). \n",
    "- **Save and Checkpoint** from the `File` menu.\n",
    "- **Run the cell at the bottom to download a .zip file and submit to Gradescope. **.\n",
    "- If you're in lab, ask one of the staff members to check you off."
   ]
  },
  {
   "cell_type": "markdown",
   "metadata": {
    "deletable": false,
    "editable": false
   },
   "source": [
    "---\n",
    "\n",
    "To double-check your work, the cell below will rerun all of the autograder tests."
   ]
  },
  {
   "cell_type": "code",
   "execution_count": null,
   "metadata": {
    "deletable": false,
    "editable": false
   },
   "outputs": [],
   "source": [
    "grader.check_all()"
   ]
  },
  {
   "cell_type": "markdown",
   "metadata": {
    "deletable": false,
    "editable": false
   },
   "source": [
    "## Submission\n",
    "\n",
    "Make sure you have run all cells in your notebook in order before running the cell below, so that all images/graphs appear in the output. The cell below will generate a zip file for you to submit. **Please save before exporting!**"
   ]
  },
  {
   "cell_type": "code",
   "execution_count": null,
   "metadata": {
    "deletable": false,
    "editable": false
   },
   "outputs": [],
   "source": [
    "# Save your notebook first, then run this cell to export your submission.\n",
    "grader.export(pdf=False)"
   ]
  },
  {
   "cell_type": "markdown",
   "metadata": {},
   "source": [
    " "
   ]
  }
 ],
 "metadata": {
  "kernelspec": {
   "display_name": "Python 3",
   "language": "python",
   "name": "python3"
  },
  "language_info": {
   "codemirror_mode": {
    "name": "ipython",
    "version": 3
   },
   "file_extension": ".py",
   "mimetype": "text/x-python",
   "name": "python",
   "nbconvert_exporter": "python",
   "pygments_lexer": "ipython3",
   "version": "3.7.4"
  }
 },
 "nbformat": 4,
 "nbformat_minor": 5
}
